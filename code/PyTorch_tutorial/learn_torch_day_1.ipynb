{
 "cells": [
  {
   "cell_type": "markdown",
   "id": "e604db0d6faff646",
   "metadata": {
    "collapsed": false
   },
   "source": [
    "# 学习 PyTorch-Day1\n"
   ]
  },
  {
   "cell_type": "code",
   "execution_count": 1,
   "id": "4892c18f5c9bc4e3",
   "metadata": {
    "ExecuteTime": {
     "end_time": "2024-01-26T09:45:47.141802Z",
     "start_time": "2024-01-26T09:45:33.870137Z"
    },
    "collapsed": false
   },
   "outputs": [],
   "source": [
    "import torch\n",
    "import numpy as np\n",
    "\n",
    "# 指认到M1芯片\n",
    "device = torch.device(\"mps\")"
   ]
  },
  {
   "cell_type": "markdown",
   "id": "fabb4c53e1c0336a",
   "metadata": {
    "collapsed": false
   },
   "source": [
    "## 初始化一个 Tensor\n"
   ]
  },
  {
   "cell_type": "markdown",
   "id": "8075268e",
   "metadata": {},
   "source": [
    "- 直接从数据初始化\n"
   ]
  },
  {
   "cell_type": "code",
   "execution_count": 2,
   "id": "f80431da",
   "metadata": {},
   "outputs": [
    {
     "data": {
      "text/plain": [
       "tensor([[1, 2],\n",
       "        [3, 4]])"
      ]
     },
     "execution_count": 2,
     "metadata": {},
     "output_type": "execute_result"
    }
   ],
   "source": [
    "data = [[1,2],[3,4]]\n",
    "x_data = torch.tensor(data)\n",
    "x_data"
   ]
  },
  {
   "cell_type": "markdown",
   "id": "1e461210",
   "metadata": {},
   "source": [
    "- 直接从 Numpy 数组转换\n"
   ]
  },
  {
   "cell_type": "code",
   "execution_count": 3,
   "id": "ce3f29ea",
   "metadata": {},
   "outputs": [
    {
     "data": {
      "text/plain": [
       "tensor([[1, 2],\n",
       "        [3, 4]])"
      ]
     },
     "execution_count": 3,
     "metadata": {},
     "output_type": "execute_result"
    }
   ],
   "source": [
    "np_array = np.array(data)\n",
    "x_np = torch.from_numpy(np_array)\n",
    "x_np"
   ]
  },
  {
   "cell_type": "markdown",
   "id": "742bff10",
   "metadata": {},
   "source": [
    "- 从另一个 Tensor 转换(将会与该 Tensor 在 shape 以及 datatype 上保持一致)\n"
   ]
  },
  {
   "cell_type": "code",
   "execution_count": 4,
   "id": "c7e79d02",
   "metadata": {},
   "outputs": [
    {
     "data": {
      "text/plain": [
       "tensor([[1, 1],\n",
       "        [1, 1]])"
      ]
     },
     "execution_count": 4,
     "metadata": {},
     "output_type": "execute_result"
    }
   ],
   "source": [
    "x_ones = torch.ones_like(x_data)\n",
    "x_ones"
   ]
  },
  {
   "cell_type": "code",
   "execution_count": 5,
   "id": "4e81af7c",
   "metadata": {},
   "outputs": [
    {
     "data": {
      "text/plain": [
       "tensor([[0.7071, 0.8706],\n",
       "        [0.0495, 0.8279]])"
      ]
     },
     "execution_count": 5,
     "metadata": {},
     "output_type": "execute_result"
    }
   ],
   "source": [
    "x_rand = torch.rand_like(x_data, dtype=torch.float)  # 使用x_data的shape，被重新给定了datashape(float)\n",
    "x_rand"
   ]
  },
  {
   "cell_type": "markdown",
   "id": "5bbb3bee",
   "metadata": {},
   "source": [
    "- 使用一个随机量或者一个常量"
   ]
  },
  {
   "cell_type": "code",
   "execution_count": 6,
   "id": "1c4381dc",
   "metadata": {},
   "outputs": [
    {
     "name": "stdout",
     "output_type": "stream",
     "text": [
      "tensor([[0.2366, 0.8939, 0.5052],\n",
      "        [0.6590, 0.4327, 0.1667]])\n",
      "tensor([[1., 1., 1.],\n",
      "        [1., 1., 1.]])\n",
      "tensor([[0., 0., 0.],\n",
      "        [0., 0., 0.]])\n"
     ]
    }
   ],
   "source": [
    "shape = (2, 3)  # 表示Tensor的维度信息\n",
    "\n",
    "rand_tensor = torch.rand(shape)  # 使用给定shape初始化一个Tensor，值全为1\n",
    "print(rand_tensor)\n",
    "\n",
    "ones_tensor = torch.ones(shape)  # 使用给定shape初始化一个Tensor，值全部随机\n",
    "print(ones_tensor)\n",
    "\n",
    "zeros_tensor = torch.zeros(shape)  # 使用给定shape初始化一个Tensor，值全为0\n",
    "print(zeros_tensor)"
   ]
  },
  {
   "cell_type": "markdown",
   "id": "b0d65b5b",
   "metadata": {},
   "source": [
    "## Tensor的属性"
   ]
  },
  {
   "cell_type": "markdown",
   "id": "aaae73e8",
   "metadata": {},
   "source": [
    "Tensor的属性包括且不限于如下："
   ]
  },
  {
   "cell_type": "markdown",
   "id": "e4307b56",
   "metadata": {},
   "source": [
    "1. shape 【尺寸】\n",
    "2. dtype 【数据类型】\n",
    "3. device 【存储设备】"
   ]
  },
  {
   "cell_type": "code",
   "execution_count": 7,
   "id": "8e14cda2",
   "metadata": {},
   "outputs": [
    {
     "name": "stdout",
     "output_type": "stream",
     "text": [
      "Shape of tensor: torch.Size([3, 4])\n",
      "Datatype of tensor: torch.float32\n",
      "Device of tensor: mps:0\n"
     ]
    }
   ],
   "source": [
    "t = torch.rand(3, 4, device=device)\n",
    "print(\"Shape of tensor: {}\".format(t.shape))\n",
    "print(\"Datatype of tensor: {}\".format(t.dtype))\n",
    "print(\"Device of tensor: {}\".format(t.device))"
   ]
  },
  {
   "cell_type": "markdown",
   "id": "40809ddf",
   "metadata": {},
   "source": [
    "## Tensor 运算"
   ]
  },
  {
   "cell_type": "markdown",
   "id": "d372ccb3",
   "metadata": {},
   "source": [
    "- to method"
   ]
  },
  {
   "cell_type": "code",
   "execution_count": 8,
   "id": "fc7a0c9e",
   "metadata": {},
   "outputs": [
    {
     "name": "stderr",
     "output_type": "stream",
     "text": [
      "/opt/anaconda3/envs/ml/lib/python3.7/site-packages/torch/_tensor_str.py:103: UserWarning: The operator 'aten::bitwise_and.Tensor_out' is not currently supported on the MPS backend and will fall back to run on the CPU. This may have performance implications. (Triggered internally at  /Users/runner/work/_temp/anaconda/conda-bld/pytorch_1659484744261/work/aten/src/ATen/mps/MPSFallback.mm:11.)\n",
      "  nonzero_finite_vals = torch.masked_select(tensor_view, torch.isfinite(tensor_view) & tensor_view.ne(0))\n"
     ]
    },
    {
     "data": {
      "text/plain": [
       "tensor([[0.3961, 0.5199],\n",
       "        [0.9822, 0.7936],\n",
       "        [0.2551, 0.8512]], device='mps:0')"
      ]
     },
     "execution_count": 8,
     "metadata": {},
     "output_type": "execute_result"
    }
   ],
   "source": [
    "# Tensor默认是分配在CPU上，如果我们有GPU可以使用，应该使用 to 方法将Tensor转到GPU上\n",
    "# if torch.cuda.is_available():\n",
    "tensor = torch.rand((3,2))\n",
    "if torch.backends.mps.is_available():\n",
    "    tensor = tensor.to(\"mps\")\n",
    "tensor"
   ]
  },
  {
   "cell_type": "markdown",
   "id": "9c5860bd",
   "metadata": {},
   "source": [
    "- 类似于Numpy的索引和切片"
   ]
  },
  {
   "cell_type": "code",
   "execution_count": 9,
   "id": "caef3abe",
   "metadata": {},
   "outputs": [
    {
     "name": "stdout",
     "output_type": "stream",
     "text": [
      "tensor([[ 0.4111, -0.2422,  1.0655,  0.1739],\n",
      "        [ 0.0115, -0.1728,  0.7108, -0.3837],\n",
      "        [-0.0645, -0.9171,  0.5292,  2.6154],\n",
      "        [ 0.0041, -0.0877,  0.2176, -0.7063]])\n",
      "First row of tensor: tensor([ 0.4111, -0.2422,  1.0655,  0.1739])\n",
      "First column of tensor: tensor([ 0.4111,  0.0115, -0.0645,  0.0041])\n",
      "last column of tensor: tensor([ 0.1739, -0.3837,  2.6154, -0.7063])\n"
     ]
    }
   ],
   "source": [
    "tensor = torch.randn(4, 4)\n",
    "print(tensor)\n",
    "print(\"First row of tensor: {}\".format(tensor[0]))\n",
    "print(\"First column of tensor: {}\".format(tensor[:, 0]))\n",
    "print(\"last column of tensor: {}\".format(tensor[:, -1]))"
   ]
  },
  {
   "cell_type": "markdown",
   "id": "49ca7266",
   "metadata": {},
   "source": [
    "- 拼接Tensor【torch.cat】"
   ]
  },
  {
   "cell_type": "code",
   "execution_count": 10,
   "id": "604a38e4",
   "metadata": {},
   "outputs": [
    {
     "data": {
      "text/plain": [
       "tensor([[ 0.4111, -0.2422,  1.0655,  0.1739],\n",
       "        [ 0.0115, -0.1728,  0.7108, -0.3837],\n",
       "        [-0.0645, -0.9171,  0.5292,  2.6154],\n",
       "        [ 0.0041, -0.0877,  0.2176, -0.7063],\n",
       "        [ 0.4111, -0.2422,  1.0655,  0.1739],\n",
       "        [ 0.0115, -0.1728,  0.7108, -0.3837],\n",
       "        [-0.0645, -0.9171,  0.5292,  2.6154],\n",
       "        [ 0.0041, -0.0877,  0.2176, -0.7063],\n",
       "        [ 0.4111, -0.2422,  1.0655,  0.1739],\n",
       "        [ 0.0115, -0.1728,  0.7108, -0.3837],\n",
       "        [-0.0645, -0.9171,  0.5292,  2.6154],\n",
       "        [ 0.0041, -0.0877,  0.2176, -0.7063]])"
      ]
     },
     "execution_count": 10,
     "metadata": {},
     "output_type": "execute_result"
    }
   ],
   "source": [
    "t1 = torch.cat([tensor,tensor,tensor], dim=0)\n",
    "t1"
   ]
  },
  {
   "cell_type": "code",
   "execution_count": 11,
   "id": "4d95d3d9",
   "metadata": {},
   "outputs": [
    {
     "data": {
      "text/plain": [
       "tensor([[ 0.4111, -0.2422,  1.0655,  0.1739,  0.4111, -0.2422,  1.0655,  0.1739,\n",
       "          0.4111, -0.2422,  1.0655,  0.1739],\n",
       "        [ 0.0115, -0.1728,  0.7108, -0.3837,  0.0115, -0.1728,  0.7108, -0.3837,\n",
       "          0.0115, -0.1728,  0.7108, -0.3837],\n",
       "        [-0.0645, -0.9171,  0.5292,  2.6154, -0.0645, -0.9171,  0.5292,  2.6154,\n",
       "         -0.0645, -0.9171,  0.5292,  2.6154],\n",
       "        [ 0.0041, -0.0877,  0.2176, -0.7063,  0.0041, -0.0877,  0.2176, -0.7063,\n",
       "          0.0041, -0.0877,  0.2176, -0.7063]])"
      ]
     },
     "execution_count": 11,
     "metadata": {},
     "output_type": "execute_result"
    }
   ],
   "source": [
    "t2 = torch.cat([tensor,tensor,tensor], dim=1)\n",
    "t2"
   ]
  },
  {
   "cell_type": "markdown",
   "id": "a921ccd4",
   "metadata": {},
   "source": [
    "- 拼接Tensor【torch.stack】"
   ]
  },
  {
   "cell_type": "code",
   "execution_count": 12,
   "id": "aecfa53c",
   "metadata": {},
   "outputs": [
    {
     "data": {
      "text/plain": [
       "tensor([[[ 0.4111, -0.2422,  1.0655,  0.1739],\n",
       "         [ 0.0115, -0.1728,  0.7108, -0.3837],\n",
       "         [-0.0645, -0.9171,  0.5292,  2.6154],\n",
       "         [ 0.0041, -0.0877,  0.2176, -0.7063]],\n",
       "\n",
       "        [[ 0.4111, -0.2422,  1.0655,  0.1739],\n",
       "         [ 0.0115, -0.1728,  0.7108, -0.3837],\n",
       "         [-0.0645, -0.9171,  0.5292,  2.6154],\n",
       "         [ 0.0041, -0.0877,  0.2176, -0.7063]],\n",
       "\n",
       "        [[ 0.4111, -0.2422,  1.0655,  0.1739],\n",
       "         [ 0.0115, -0.1728,  0.7108, -0.3837],\n",
       "         [-0.0645, -0.9171,  0.5292,  2.6154],\n",
       "         [ 0.0041, -0.0877,  0.2176, -0.7063]]])"
      ]
     },
     "execution_count": 12,
     "metadata": {},
     "output_type": "execute_result"
    }
   ],
   "source": [
    "t3 = torch.stack([tensor,tensor,tensor],dim=0)\n",
    "t3"
   ]
  },
  {
   "cell_type": "code",
   "execution_count": 13,
   "id": "b59dbb39",
   "metadata": {},
   "outputs": [
    {
     "data": {
      "text/plain": [
       "tensor([[[ 0.4111, -0.2422,  1.0655,  0.1739],\n",
       "         [ 0.4111, -0.2422,  1.0655,  0.1739],\n",
       "         [ 0.4111, -0.2422,  1.0655,  0.1739]],\n",
       "\n",
       "        [[ 0.0115, -0.1728,  0.7108, -0.3837],\n",
       "         [ 0.0115, -0.1728,  0.7108, -0.3837],\n",
       "         [ 0.0115, -0.1728,  0.7108, -0.3837]],\n",
       "\n",
       "        [[-0.0645, -0.9171,  0.5292,  2.6154],\n",
       "         [-0.0645, -0.9171,  0.5292,  2.6154],\n",
       "         [-0.0645, -0.9171,  0.5292,  2.6154]],\n",
       "\n",
       "        [[ 0.0041, -0.0877,  0.2176, -0.7063],\n",
       "         [ 0.0041, -0.0877,  0.2176, -0.7063],\n",
       "         [ 0.0041, -0.0877,  0.2176, -0.7063]]])"
      ]
     },
     "execution_count": 13,
     "metadata": {},
     "output_type": "execute_result"
    }
   ],
   "source": [
    "t4 = torch.stack([tensor,tensor,tensor], dim=1)\n",
    "t4"
   ]
  },
  {
   "cell_type": "markdown",
   "id": "ed2fc225",
   "metadata": {},
   "source": [
    "- 算术运算"
   ]
  },
  {
   "cell_type": "code",
   "execution_count": 14,
   "id": "d9210e8d",
   "metadata": {},
   "outputs": [
    {
     "name": "stdout",
     "output_type": "stream",
     "text": [
      "tensor([[4., 4., 4., 4.],\n",
      "        [4., 4., 4., 4.],\n",
      "        [4., 4., 4., 4.],\n",
      "        [4., 4., 4., 4.]])\n",
      "tensor([[4., 4., 4., 4.],\n",
      "        [4., 4., 4., 4.],\n",
      "        [4., 4., 4., 4.],\n",
      "        [4., 4., 4., 4.]])\n",
      "tensor([[0.3325, 0.8416, 0.6547, 0.8515],\n",
      "        [0.3425, 0.5713, 0.6465, 0.7765],\n",
      "        [0.8757, 0.2135, 0.4122, 0.0457],\n",
      "        [0.0416, 0.9093, 0.9559, 0.0958]])\n",
      "tensor([[4., 4., 4., 4.],\n",
      "        [4., 4., 4., 4.],\n",
      "        [4., 4., 4., 4.],\n",
      "        [4., 4., 4., 4.]])\n"
     ]
    }
   ],
   "source": [
    "tensor = torch.ones(4, 4)\n",
    "y1 = tensor @ tensor.T  # @表示矩阵相乘\n",
    "print(y1)\n",
    "\n",
    "y2 = tensor.matmul(tensor.T)\n",
    "print(y2)\n",
    "\n",
    "y3 = torch.rand_like(y1)\n",
    "print(y3)\n",
    "\n",
    "torch.matmul(tensor, tensor, out=y3)\n",
    "print(y3)"
   ]
  },
  {
   "cell_type": "code",
   "execution_count": 15,
   "id": "412b8651",
   "metadata": {},
   "outputs": [
    {
     "name": "stdout",
     "output_type": "stream",
     "text": [
      "tensor([[1., 1., 1., 1.],\n",
      "        [1., 1., 1., 1.],\n",
      "        [1., 1., 1., 1.],\n",
      "        [1., 1., 1., 1.]])\n",
      "tensor([[1., 1., 1., 1.],\n",
      "        [1., 1., 1., 1.],\n",
      "        [1., 1., 1., 1.],\n",
      "        [1., 1., 1., 1.]])\n",
      "tensor([[0.1996, 0.1459, 0.6190, 0.9285],\n",
      "        [0.1306, 0.6519, 0.0376, 0.6435],\n",
      "        [0.5515, 0.3206, 0.5962, 0.4161],\n",
      "        [0.5303, 0.5918, 0.7641, 0.6044]])\n",
      "tensor([[1., 1., 1., 1.],\n",
      "        [1., 1., 1., 1.],\n",
      "        [1., 1., 1., 1.],\n",
      "        [1., 1., 1., 1.]])\n"
     ]
    }
   ],
   "source": [
    "z1 = tensor * tensor  # *表示矩阵对应的元素相乘\n",
    "print(z1)\n",
    "\n",
    "z2 = tensor.mul(tensor)\n",
    "print(z2)\n",
    "\n",
    "z3 = torch.rand_like(tensor)\n",
    "print(z3)\n",
    "\n",
    "torch.mul(tensor, tensor, out=z3)\n",
    "print(z3)"
   ]
  },
  {
   "cell_type": "markdown",
   "id": "23a9c0d2",
   "metadata": {},
   "source": [
    "- 单元素Tensor"
   ]
  },
  {
   "cell_type": "code",
   "execution_count": 16,
   "id": "ad4a5a1b",
   "metadata": {},
   "outputs": [
    {
     "data": {
      "text/plain": [
       "tensor([[1., 1., 1., 1.],\n",
       "        [1., 1., 1., 1.],\n",
       "        [1., 1., 1., 1.],\n",
       "        [1., 1., 1., 1.]])"
      ]
     },
     "execution_count": 16,
     "metadata": {},
     "output_type": "execute_result"
    }
   ],
   "source": [
    "tensor"
   ]
  },
  {
   "cell_type": "code",
   "execution_count": 17,
   "id": "ab583f86",
   "metadata": {},
   "outputs": [
    {
     "data": {
      "text/plain": [
       "tensor(16.)"
      ]
     },
     "execution_count": 17,
     "metadata": {},
     "output_type": "execute_result"
    }
   ],
   "source": [
    "agg = tensor.sum()\n",
    "agg"
   ]
  },
  {
   "cell_type": "code",
   "execution_count": 18,
   "id": "ff7d4888",
   "metadata": {},
   "outputs": [
    {
     "name": "stdout",
     "output_type": "stream",
     "text": [
      "16.0 <class 'float'>\n"
     ]
    }
   ],
   "source": [
    "agg_item = agg.item()  # 将Tensor的值以Python标准数据类型返回【只支持单元素Tensor，多元素Tensor应用tolist()】\n",
    "print(agg_item, type(agg_item))"
   ]
  },
  {
   "cell_type": "markdown",
   "id": "844e97b3",
   "metadata": {},
   "source": [
    "- 就地操作【函数名以_结尾，如copy_()，add_()】"
   ]
  },
  {
   "cell_type": "code",
   "execution_count": 19,
   "id": "cc1af908",
   "metadata": {},
   "outputs": [
    {
     "data": {
      "text/plain": [
       "tensor([[1., 1., 1., 1.],\n",
       "        [1., 1., 1., 1.],\n",
       "        [1., 1., 1., 1.],\n",
       "        [1., 1., 1., 1.]])"
      ]
     },
     "execution_count": 19,
     "metadata": {},
     "output_type": "execute_result"
    }
   ],
   "source": [
    "tensor"
   ]
  },
  {
   "cell_type": "code",
   "execution_count": 20,
   "id": "b291c09e",
   "metadata": {},
   "outputs": [
    {
     "data": {
      "text/plain": [
       "tensor([[6., 6., 6., 6.],\n",
       "        [6., 6., 6., 6.],\n",
       "        [6., 6., 6., 6.],\n",
       "        [6., 6., 6., 6.]])"
      ]
     },
     "execution_count": 20,
     "metadata": {},
     "output_type": "execute_result"
    }
   ],
   "source": [
    "tensor.add_(5)"
   ]
  }
 ],
 "metadata": {
  "kernelspec": {
   "display_name": "Python 3",
   "language": "python",
   "name": "python3"
  },
  "language_info": {
   "codemirror_mode": {
    "name": "ipython",
    "version": 3
   },
   "file_extension": ".py",
   "mimetype": "text/x-python",
   "name": "python",
   "nbconvert_exporter": "python",
   "pygments_lexer": "ipython3",
   "version": "3.7.13"
  }
 },
 "nbformat": 4,
 "nbformat_minor": 5
}
