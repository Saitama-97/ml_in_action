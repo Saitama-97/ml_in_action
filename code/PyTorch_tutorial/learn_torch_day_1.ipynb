{
 "cells": [
  {
   "cell_type": "markdown",
   "id": "e604db0d6faff646",
   "metadata": {
    "collapsed": false
   },
   "source": [
    "# 学习 PyTorch-Day1\n"
   ]
  },
  {
   "cell_type": "code",
   "execution_count": 1,
   "id": "4892c18f5c9bc4e3",
   "metadata": {
    "ExecuteTime": {
     "end_time": "2024-01-26T09:45:47.141802Z",
     "start_time": "2024-01-26T09:45:33.870137Z"
    },
    "collapsed": false
   },
   "outputs": [],
   "source": [
    "import torch\n",
    "import numpy as np\n",
    "\n",
    "# 指认到M1芯片\n",
    "# device = torch.device(\"mps\")\n",
    "\n",
    "# 指认到CUDA\n",
    "device = torch.device(\"cuda\")"
   ]
  },
  {
   "cell_type": "markdown",
   "id": "fabb4c53e1c0336a",
   "metadata": {
    "collapsed": false
   },
   "source": [
    "## 初始化一个 Tensor\n"
   ]
  },
  {
   "cell_type": "markdown",
   "id": "8075268e",
   "metadata": {},
   "source": [
    "- 直接从数据初始化\n"
   ]
  },
  {
   "cell_type": "code",
   "execution_count": 2,
   "id": "f80431da",
   "metadata": {},
   "outputs": [
    {
     "data": {
      "text/plain": [
       "tensor([[1, 2],\n",
       "        [3, 4]])"
      ]
     },
     "execution_count": 2,
     "metadata": {},
     "output_type": "execute_result"
    }
   ],
   "source": [
    "data = [[1,2],[3,4]]\n",
    "x_data = torch.tensor(data)\n",
    "x_data"
   ]
  },
  {
   "cell_type": "markdown",
   "id": "1e461210",
   "metadata": {},
   "source": [
    "- 直接从 Numpy 数组转换\n"
   ]
  },
  {
   "cell_type": "code",
   "execution_count": 3,
   "id": "ce3f29ea",
   "metadata": {},
   "outputs": [
    {
     "data": {
      "text/plain": [
       "tensor([[1, 2],\n",
       "        [3, 4]], dtype=torch.int32)"
      ]
     },
     "execution_count": 3,
     "metadata": {},
     "output_type": "execute_result"
    }
   ],
   "source": [
    "np_array = np.array(data)\n",
    "x_np = torch.from_numpy(np_array)\n",
    "x_np"
   ]
  },
  {
   "cell_type": "markdown",
   "id": "742bff10",
   "metadata": {},
   "source": [
    "- 从另一个 Tensor 转换(将会与该 Tensor 在 shape 以及 datatype 上保持一致)\n"
   ]
  },
  {
   "cell_type": "code",
   "execution_count": 4,
   "id": "c7e79d02",
   "metadata": {},
   "outputs": [
    {
     "data": {
      "text/plain": [
       "tensor([[1, 1],\n",
       "        [1, 1]])"
      ]
     },
     "execution_count": 4,
     "metadata": {},
     "output_type": "execute_result"
    }
   ],
   "source": [
    "x_ones = torch.ones_like(x_data)\n",
    "x_ones"
   ]
  },
  {
   "cell_type": "code",
   "execution_count": 5,
   "id": "4e81af7c",
   "metadata": {},
   "outputs": [
    {
     "data": {
      "text/plain": [
       "tensor([[0.9870, 0.5813],\n",
       "        [0.5893, 0.6065]])"
      ]
     },
     "execution_count": 5,
     "metadata": {},
     "output_type": "execute_result"
    }
   ],
   "source": [
    "x_rand = torch.rand_like(x_data, dtype=torch.float)  # 使用x_data的shape，被重新给定了datashape(float)\n",
    "x_rand"
   ]
  },
  {
   "cell_type": "markdown",
   "id": "5bbb3bee",
   "metadata": {},
   "source": [
    "- 使用一个随机量或者一个常量"
   ]
  },
  {
   "cell_type": "code",
   "execution_count": 6,
   "id": "1c4381dc",
   "metadata": {},
   "outputs": [
    {
     "name": "stdout",
     "output_type": "stream",
     "text": [
      "tensor([[0.6183, 0.9107, 0.7262],\n",
      "        [0.7252, 0.0896, 0.4870]])\n",
      "tensor([[1., 1., 1.],\n",
      "        [1., 1., 1.]])\n",
      "tensor([[0., 0., 0.],\n",
      "        [0., 0., 0.]])\n"
     ]
    }
   ],
   "source": [
    "shape = (2, 3)  # 表示Tensor的维度信息\n",
    "\n",
    "rand_tensor = torch.rand(shape)  # 使用给定shape初始化一个Tensor，值全为1\n",
    "print(rand_tensor)\n",
    "\n",
    "ones_tensor = torch.ones(shape)  # 使用给定shape初始化一个Tensor，值全部随机\n",
    "print(ones_tensor)\n",
    "\n",
    "zeros_tensor = torch.zeros(shape)  # 使用给定shape初始化一个Tensor，值全为0\n",
    "print(zeros_tensor)"
   ]
  },
  {
   "cell_type": "markdown",
   "id": "b0d65b5b",
   "metadata": {},
   "source": [
    "## Tensor的属性"
   ]
  },
  {
   "cell_type": "markdown",
   "id": "aaae73e8",
   "metadata": {},
   "source": [
    "Tensor的属性包括且不限于如下："
   ]
  },
  {
   "cell_type": "markdown",
   "id": "e4307b56",
   "metadata": {},
   "source": [
    "1. shape 【尺寸】\n",
    "2. dtype 【数据类型】\n",
    "3. device 【存储设备】"
   ]
  },
  {
   "cell_type": "code",
   "execution_count": 7,
   "id": "8e14cda2",
   "metadata": {},
   "outputs": [
    {
     "name": "stdout",
     "output_type": "stream",
     "text": [
      "Shape of tensor: torch.Size([3, 4])\n",
      "Datatype of tensor: torch.float32\n",
      "Device of tensor: cuda:0\n"
     ]
    }
   ],
   "source": [
    "t = torch.rand(3, 4, device=device)\n",
    "print(\"Shape of tensor: {}\".format(t.shape))\n",
    "print(\"Datatype of tensor: {}\".format(t.dtype))\n",
    "print(\"Device of tensor: {}\".format(t.device))"
   ]
  },
  {
   "cell_type": "markdown",
   "id": "40809ddf",
   "metadata": {},
   "source": [
    "## Tensor 运算"
   ]
  },
  {
   "cell_type": "markdown",
   "id": "d372ccb3",
   "metadata": {},
   "source": [
    "- to method"
   ]
  },
  {
   "cell_type": "code",
   "execution_count": 8,
   "id": "fc7a0c9e",
   "metadata": {},
   "outputs": [
    {
     "data": {
      "text/plain": [
       "tensor([[0.5709, 0.1789],\n",
       "        [0.0252, 0.8045],\n",
       "        [0.8686, 0.5614]])"
      ]
     },
     "execution_count": 8,
     "metadata": {},
     "output_type": "execute_result"
    }
   ],
   "source": [
    "# Tensor默认是分配在CPU上，如果我们有GPU可以使用，应该使用 to 方法将Tensor转到GPU上\n",
    "# if torch.cuda.is_available():\n",
    "tensor = torch.rand((3,2))\n",
    "if torch.backends.mps.is_available():\n",
    "    tensor = tensor.to(\"mps\")\n",
    "tensor"
   ]
  },
  {
   "cell_type": "markdown",
   "id": "9c5860bd",
   "metadata": {},
   "source": [
    "- 类似于Numpy的索引和切片"
   ]
  },
  {
   "cell_type": "code",
   "execution_count": 9,
   "id": "caef3abe",
   "metadata": {},
   "outputs": [
    {
     "name": "stdout",
     "output_type": "stream",
     "text": [
      "tensor([[-0.3693, -1.1022, -0.5517, -0.1278],\n",
      "        [ 2.2797,  1.1478, -2.0291, -0.6513],\n",
      "        [ 1.0212,  0.4801, -0.0126, -0.2516],\n",
      "        [-0.5847,  0.3660,  0.7753, -0.9736]])\n",
      "First row of tensor: tensor([-0.3693, -1.1022, -0.5517, -0.1278])\n",
      "First column of tensor: tensor([-0.3693,  2.2797,  1.0212, -0.5847])\n",
      "last column of tensor: tensor([-0.1278, -0.6513, -0.2516, -0.9736])\n"
     ]
    }
   ],
   "source": [
    "tensor = torch.randn(4, 4)\n",
    "print(tensor)\n",
    "print(\"First row of tensor: {}\".format(tensor[0]))\n",
    "print(\"First column of tensor: {}\".format(tensor[:, 0]))\n",
    "print(\"last column of tensor: {}\".format(tensor[:, -1]))"
   ]
  },
  {
   "cell_type": "markdown",
   "id": "49ca7266",
   "metadata": {},
   "source": [
    "- 拼接Tensor【torch.cat】"
   ]
  },
  {
   "cell_type": "code",
   "execution_count": 10,
   "id": "604a38e4",
   "metadata": {},
   "outputs": [
    {
     "data": {
      "text/plain": [
       "tensor([[-0.3693, -1.1022, -0.5517, -0.1278],\n",
       "        [ 2.2797,  1.1478, -2.0291, -0.6513],\n",
       "        [ 1.0212,  0.4801, -0.0126, -0.2516],\n",
       "        [-0.5847,  0.3660,  0.7753, -0.9736],\n",
       "        [-0.3693, -1.1022, -0.5517, -0.1278],\n",
       "        [ 2.2797,  1.1478, -2.0291, -0.6513],\n",
       "        [ 1.0212,  0.4801, -0.0126, -0.2516],\n",
       "        [-0.5847,  0.3660,  0.7753, -0.9736],\n",
       "        [-0.3693, -1.1022, -0.5517, -0.1278],\n",
       "        [ 2.2797,  1.1478, -2.0291, -0.6513],\n",
       "        [ 1.0212,  0.4801, -0.0126, -0.2516],\n",
       "        [-0.5847,  0.3660,  0.7753, -0.9736]])"
      ]
     },
     "execution_count": 10,
     "metadata": {},
     "output_type": "execute_result"
    }
   ],
   "source": [
    "t1 = torch.cat([tensor,tensor,tensor], dim=0)\n",
    "t1"
   ]
  },
  {
   "cell_type": "code",
   "execution_count": 11,
   "id": "4d95d3d9",
   "metadata": {},
   "outputs": [
    {
     "data": {
      "text/plain": [
       "tensor([[-0.3693, -1.1022, -0.5517, -0.1278, -0.3693, -1.1022, -0.5517, -0.1278,\n",
       "         -0.3693, -1.1022, -0.5517, -0.1278],\n",
       "        [ 2.2797,  1.1478, -2.0291, -0.6513,  2.2797,  1.1478, -2.0291, -0.6513,\n",
       "          2.2797,  1.1478, -2.0291, -0.6513],\n",
       "        [ 1.0212,  0.4801, -0.0126, -0.2516,  1.0212,  0.4801, -0.0126, -0.2516,\n",
       "          1.0212,  0.4801, -0.0126, -0.2516],\n",
       "        [-0.5847,  0.3660,  0.7753, -0.9736, -0.5847,  0.3660,  0.7753, -0.9736,\n",
       "         -0.5847,  0.3660,  0.7753, -0.9736]])"
      ]
     },
     "execution_count": 11,
     "metadata": {},
     "output_type": "execute_result"
    }
   ],
   "source": [
    "t2 = torch.cat([tensor,tensor,tensor], dim=1)\n",
    "t2"
   ]
  },
  {
   "cell_type": "markdown",
   "id": "a921ccd4",
   "metadata": {},
   "source": [
    "- 拼接Tensor【torch.stack】"
   ]
  },
  {
   "cell_type": "code",
   "execution_count": 12,
   "id": "aecfa53c",
   "metadata": {},
   "outputs": [
    {
     "data": {
      "text/plain": [
       "tensor([[[-0.3693, -1.1022, -0.5517, -0.1278],\n",
       "         [ 2.2797,  1.1478, -2.0291, -0.6513],\n",
       "         [ 1.0212,  0.4801, -0.0126, -0.2516],\n",
       "         [-0.5847,  0.3660,  0.7753, -0.9736]],\n",
       "\n",
       "        [[-0.3693, -1.1022, -0.5517, -0.1278],\n",
       "         [ 2.2797,  1.1478, -2.0291, -0.6513],\n",
       "         [ 1.0212,  0.4801, -0.0126, -0.2516],\n",
       "         [-0.5847,  0.3660,  0.7753, -0.9736]],\n",
       "\n",
       "        [[-0.3693, -1.1022, -0.5517, -0.1278],\n",
       "         [ 2.2797,  1.1478, -2.0291, -0.6513],\n",
       "         [ 1.0212,  0.4801, -0.0126, -0.2516],\n",
       "         [-0.5847,  0.3660,  0.7753, -0.9736]]])"
      ]
     },
     "execution_count": 12,
     "metadata": {},
     "output_type": "execute_result"
    }
   ],
   "source": [
    "t3 = torch.stack([tensor,tensor,tensor],dim=0)\n",
    "t3"
   ]
  },
  {
   "cell_type": "code",
   "execution_count": 13,
   "id": "b59dbb39",
   "metadata": {},
   "outputs": [
    {
     "data": {
      "text/plain": [
       "tensor([[[-0.3693, -1.1022, -0.5517, -0.1278],\n",
       "         [-0.3693, -1.1022, -0.5517, -0.1278],\n",
       "         [-0.3693, -1.1022, -0.5517, -0.1278]],\n",
       "\n",
       "        [[ 2.2797,  1.1478, -2.0291, -0.6513],\n",
       "         [ 2.2797,  1.1478, -2.0291, -0.6513],\n",
       "         [ 2.2797,  1.1478, -2.0291, -0.6513]],\n",
       "\n",
       "        [[ 1.0212,  0.4801, -0.0126, -0.2516],\n",
       "         [ 1.0212,  0.4801, -0.0126, -0.2516],\n",
       "         [ 1.0212,  0.4801, -0.0126, -0.2516]],\n",
       "\n",
       "        [[-0.5847,  0.3660,  0.7753, -0.9736],\n",
       "         [-0.5847,  0.3660,  0.7753, -0.9736],\n",
       "         [-0.5847,  0.3660,  0.7753, -0.9736]]])"
      ]
     },
     "execution_count": 13,
     "metadata": {},
     "output_type": "execute_result"
    }
   ],
   "source": [
    "t4 = torch.stack([tensor,tensor,tensor], dim=1)\n",
    "t4"
   ]
  },
  {
   "cell_type": "markdown",
   "id": "ed2fc225",
   "metadata": {},
   "source": [
    "- 算术运算"
   ]
  },
  {
   "cell_type": "code",
   "execution_count": 14,
   "id": "d9210e8d",
   "metadata": {},
   "outputs": [
    {
     "name": "stdout",
     "output_type": "stream",
     "text": [
      "tensor([[4., 4., 4., 4.],\n",
      "        [4., 4., 4., 4.],\n",
      "        [4., 4., 4., 4.],\n",
      "        [4., 4., 4., 4.]])\n",
      "tensor([[4., 4., 4., 4.],\n",
      "        [4., 4., 4., 4.],\n",
      "        [4., 4., 4., 4.],\n",
      "        [4., 4., 4., 4.]])\n",
      "tensor([[0.4941, 0.2910, 0.3898, 0.0980],\n",
      "        [0.3838, 0.1652, 0.8461, 0.9115],\n",
      "        [0.7712, 0.4864, 0.2991, 0.6117],\n",
      "        [0.6081, 0.0538, 0.9752, 0.3425]])\n",
      "tensor([[4., 4., 4., 4.],\n",
      "        [4., 4., 4., 4.],\n",
      "        [4., 4., 4., 4.],\n",
      "        [4., 4., 4., 4.]])\n"
     ]
    }
   ],
   "source": [
    "tensor = torch.ones(4, 4)\n",
    "y1 = tensor @ tensor.T  # @表示矩阵相乘\n",
    "print(y1)\n",
    "\n",
    "y2 = tensor.matmul(tensor.T)\n",
    "print(y2)\n",
    "\n",
    "y3 = torch.rand_like(y1)\n",
    "print(y3)\n",
    "\n",
    "torch.matmul(tensor, tensor, out=y3)\n",
    "print(y3)"
   ]
  },
  {
   "cell_type": "code",
   "execution_count": 15,
   "id": "412b8651",
   "metadata": {},
   "outputs": [
    {
     "name": "stdout",
     "output_type": "stream",
     "text": [
      "tensor([[1., 1., 1., 1.],\n",
      "        [1., 1., 1., 1.],\n",
      "        [1., 1., 1., 1.],\n",
      "        [1., 1., 1., 1.]])\n",
      "tensor([[1., 1., 1., 1.],\n",
      "        [1., 1., 1., 1.],\n",
      "        [1., 1., 1., 1.],\n",
      "        [1., 1., 1., 1.]])\n",
      "tensor([[0.9615, 0.8311, 0.5907, 0.7283],\n",
      "        [0.3731, 0.0103, 0.3927, 0.1522],\n",
      "        [0.3298, 0.6552, 0.5003, 0.0296],\n",
      "        [0.1078, 0.0631, 0.5580, 0.1643]])\n",
      "tensor([[1., 1., 1., 1.],\n",
      "        [1., 1., 1., 1.],\n",
      "        [1., 1., 1., 1.],\n",
      "        [1., 1., 1., 1.]])\n"
     ]
    }
   ],
   "source": [
    "z1 = tensor * tensor  # *表示矩阵对应的元素相乘\n",
    "print(z1)\n",
    "\n",
    "z2 = tensor.mul(tensor)\n",
    "print(z2)\n",
    "\n",
    "z3 = torch.rand_like(tensor)\n",
    "print(z3)\n",
    "\n",
    "torch.mul(tensor, tensor, out=z3)\n",
    "print(z3)"
   ]
  },
  {
   "cell_type": "markdown",
   "id": "23a9c0d2",
   "metadata": {},
   "source": [
    "- 单元素Tensor"
   ]
  },
  {
   "cell_type": "code",
   "execution_count": 16,
   "id": "ad4a5a1b",
   "metadata": {},
   "outputs": [
    {
     "data": {
      "text/plain": [
       "tensor([[1., 1., 1., 1.],\n",
       "        [1., 1., 1., 1.],\n",
       "        [1., 1., 1., 1.],\n",
       "        [1., 1., 1., 1.]])"
      ]
     },
     "execution_count": 16,
     "metadata": {},
     "output_type": "execute_result"
    }
   ],
   "source": [
    "tensor"
   ]
  },
  {
   "cell_type": "code",
   "execution_count": 17,
   "id": "ab583f86",
   "metadata": {},
   "outputs": [
    {
     "data": {
      "text/plain": [
       "tensor(16.)"
      ]
     },
     "execution_count": 17,
     "metadata": {},
     "output_type": "execute_result"
    }
   ],
   "source": [
    "agg = tensor.sum()\n",
    "agg"
   ]
  },
  {
   "cell_type": "code",
   "execution_count": 18,
   "id": "ff7d4888",
   "metadata": {},
   "outputs": [
    {
     "name": "stdout",
     "output_type": "stream",
     "text": [
      "16.0 <class 'float'>\n"
     ]
    }
   ],
   "source": [
    "agg_item = agg.item()  # 将Tensor的值以Python标准数据类型返回【只支持单元素Tensor，多元素Tensor应用tolist()】\n",
    "print(agg_item, type(agg_item))"
   ]
  },
  {
   "cell_type": "markdown",
   "id": "844e97b3",
   "metadata": {},
   "source": [
    "- 就地操作【函数名以_结尾，如copy_()，add_()】"
   ]
  },
  {
   "cell_type": "code",
   "execution_count": 19,
   "id": "cc1af908",
   "metadata": {},
   "outputs": [
    {
     "data": {
      "text/plain": [
       "tensor([[1., 1., 1., 1.],\n",
       "        [1., 1., 1., 1.],\n",
       "        [1., 1., 1., 1.],\n",
       "        [1., 1., 1., 1.]])"
      ]
     },
     "execution_count": 19,
     "metadata": {},
     "output_type": "execute_result"
    }
   ],
   "source": [
    "tensor"
   ]
  },
  {
   "cell_type": "code",
   "execution_count": 20,
   "id": "b291c09e",
   "metadata": {},
   "outputs": [
    {
     "data": {
      "text/plain": [
       "tensor([[6., 6., 6., 6.],\n",
       "        [6., 6., 6., 6.],\n",
       "        [6., 6., 6., 6.],\n",
       "        [6., 6., 6., 6.]])"
      ]
     },
     "execution_count": 20,
     "metadata": {},
     "output_type": "execute_result"
    }
   ],
   "source": [
    "tensor.add_(5)"
   ]
  },
  {
   "cell_type": "markdown",
   "id": "9ff671d2",
   "metadata": {},
   "source": [
    "## Bridge with Numpy"
   ]
  },
  {
   "cell_type": "markdown",
   "id": "112aa47f",
   "metadata": {},
   "source": [
    "- CPU上的Tensor可以与Numpy数组共享底层内存，改变其中一个即可改变另一个"
   ]
  },
  {
   "cell_type": "markdown",
   "id": "136c1081",
   "metadata": {},
   "source": [
    "### Tensor 转成 Numpy 数组"
   ]
  },
  {
   "cell_type": "code",
   "execution_count": 21,
   "id": "c8b94033",
   "metadata": {},
   "outputs": [
    {
     "name": "stdout",
     "output_type": "stream",
     "text": [
      "tensor([1., 1., 1., 1., 1.])\n",
      "[1. 1. 1. 1. 1.]\n"
     ]
    }
   ],
   "source": [
    "t = torch.ones(5)\n",
    "n = t.numpy()\n",
    "print(t)\n",
    "print(n)"
   ]
  },
  {
   "cell_type": "code",
   "execution_count": 22,
   "id": "47e60721",
   "metadata": {},
   "outputs": [
    {
     "name": "stdout",
     "output_type": "stream",
     "text": [
      "tensor([3., 3., 3., 3., 3.])\n",
      "[3. 3. 3. 3. 3.]\n"
     ]
    }
   ],
   "source": [
    "# 改变Tensor，观察Numpy数组是否变化\n",
    "t.add_(2)\n",
    "print(t)\n",
    "print(n)"
   ]
  },
  {
   "cell_type": "markdown",
   "id": "12da588e",
   "metadata": {},
   "source": [
    "### Numpy数组 转成 Tensor"
   ]
  },
  {
   "cell_type": "code",
   "execution_count": 23,
   "id": "f2dff2e3",
   "metadata": {},
   "outputs": [
    {
     "name": "stdout",
     "output_type": "stream",
     "text": [
      "[1. 1. 1. 1. 1.]\n",
      "tensor([1., 1., 1., 1., 1.], dtype=torch.float64)\n",
      "[4. 4. 4. 4. 4.]\n",
      "tensor([4., 4., 4., 4., 4.], dtype=torch.float64)\n"
     ]
    }
   ],
   "source": [
    "n = np.ones(5)\n",
    "t = torch.from_numpy(n)\n",
    "print(n)\n",
    "print(t)\n",
    "\n",
    "# 修改Numpy数组，观察Tensor是否变化\n",
    "np.add(n, 3, out=n)\n",
    "print(n)\n",
    "print(t)"
   ]
  }
 ],
 "metadata": {
  "kernelspec": {
   "display_name": "Python 3",
   "language": "python",
   "name": "python3"
  },
  "language_info": {
   "codemirror_mode": {
    "name": "ipython",
    "version": 3
   },
   "file_extension": ".py",
   "mimetype": "text/x-python",
   "name": "python",
   "nbconvert_exporter": "python",
   "pygments_lexer": "ipython3",
   "version": "3.8.18"
  }
 },
 "nbformat": 4,
 "nbformat_minor": 5
}
