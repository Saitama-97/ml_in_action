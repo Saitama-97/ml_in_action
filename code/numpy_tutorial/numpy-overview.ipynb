{
 "cells": [
  {
   "cell_type": "code",
   "execution_count": null,
   "id": "initial_id",
   "metadata": {
    "collapsed": true,
    "is_executing": true
   },
   "outputs": [],
   "source": [
    "# numpy 复习"
   ]
  },
  {
   "cell_type": "code",
   "execution_count": 1,
   "id": "7e7e85c064d366f2",
   "metadata": {
    "collapsed": false,
    "is_executing": true
   },
   "outputs": [],
   "source": [
    "import  numpy as np"
   ]
  },
  {
   "cell_type": "markdown",
   "id": "b489955e",
   "metadata": {},
   "source": [
    "## 数组上的数学操作"
   ]
  },
  {
   "cell_type": "code",
   "execution_count": 3,
   "id": "cb572886",
   "metadata": {},
   "outputs": [],
   "source": [
    "a = [1,2,3,4]\n"
   ]
  },
  {
   "cell_type": "markdown",
   "id": "95d26033",
   "metadata": {},
   "source": [
    "列表不可以直接进行数学操作"
   ]
  },
  {
   "cell_type": "code",
   "execution_count": 4,
   "id": "60740b69",
   "metadata": {},
   "outputs": [
    {
     "ename": "TypeError",
     "evalue": "can only concatenate list (not \"int\") to list",
     "output_type": "error",
     "traceback": [
      "\u001b[1;31m---------------------------------------------------------------------------\u001b[0m",
      "\u001b[1;31mTypeError\u001b[0m                                 Traceback (most recent call last)",
      "\u001b[1;32me:\\PycharmProjects\\ml_in_action\\code\\numpy_tutorial\\numpy1.ipynb Cell 4\u001b[0m line \u001b[0;36m1\n\u001b[1;32m----> <a href='vscode-notebook-cell:/e%3A/PycharmProjects/ml_in_action/code/numpy_tutorial/numpy1.ipynb#X10sZmlsZQ%3D%3D?line=0'>1</a>\u001b[0m a \u001b[39m+\u001b[39;49m \u001b[39m1\u001b[39;49m\n",
      "\u001b[1;31mTypeError\u001b[0m: can only concatenate list (not \"int\") to list"
     ]
    }
   ],
   "source": [
    "a + 1"
   ]
  },
  {
   "cell_type": "markdown",
   "id": "8002a485",
   "metadata": {},
   "source": [
    "如果需要进行数学操作，需要转换成 array"
   ]
  },
  {
   "cell_type": "code",
   "execution_count": 6,
   "id": "02ed2feb",
   "metadata": {},
   "outputs": [
    {
     "name": "stdout",
     "output_type": "stream",
     "text": [
      "[1 2 3 4]\n",
      "[2 3 4 5]\n"
     ]
    }
   ],
   "source": [
    "b = np.array(a)\n",
    "print(b)\n",
    "print(b+1)"
   ]
  },
  {
   "cell_type": "markdown",
   "id": "59958157",
   "metadata": {},
   "source": [
    "转成 array 之后，操作都是对应元素进行运算"
   ]
  },
  {
   "cell_type": "code",
   "execution_count": 8,
   "id": "e89e9398",
   "metadata": {},
   "outputs": [
    {
     "name": "stdout",
     "output_type": "stream",
     "text": [
      "[1, 2, 3, 4]\n",
      "[1 2 3 4]\n",
      "[2 4 6 8]\n"
     ]
    }
   ],
   "source": [
    "print(a)\n",
    "print(b)\n",
    "c = a + b\n",
    "print(c)"
   ]
  },
  {
   "cell_type": "markdown",
   "id": "4c6ff198",
   "metadata": {},
   "source": [
    "## 提取数组上的元素"
   ]
  },
  {
   "cell_type": "code",
   "execution_count": 13,
   "id": "dd1156c7",
   "metadata": {},
   "outputs": [
    {
     "data": {
      "text/plain": [
       "array([4, 6])"
      ]
     },
     "execution_count": 13,
     "metadata": {},
     "output_type": "execute_result"
    }
   ],
   "source": [
    "b[:2] + b[2:]"
   ]
  },
  {
   "cell_type": "markdown",
   "id": "809dfc2a",
   "metadata": {},
   "source": [
    "## 修改数组的形状"
   ]
  },
  {
   "cell_type": "code",
   "execution_count": 16,
   "id": "71639a1c",
   "metadata": {},
   "outputs": [
    {
     "name": "stdout",
     "output_type": "stream",
     "text": [
      "(4,)\n",
      "[[1 2]\n",
      " [3 4]]\n",
      "(2, 2)\n"
     ]
    }
   ],
   "source": [
    "print(b.shape)\n",
    "b.shape = 2,2\n",
    "print(b)\n",
    "print(b.shape)"
   ]
  },
  {
   "cell_type": "code",
   "execution_count": 17,
   "id": "a612ceef",
   "metadata": {},
   "outputs": [
    {
     "data": {
      "text/plain": [
       "array([[2, 4],\n",
       "       [6, 8]])"
      ]
     },
     "execution_count": 17,
     "metadata": {},
     "output_type": "execute_result"
    }
   ],
   "source": [
    "b + b"
   ]
  },
  {
   "cell_type": "code",
   "execution_count": 18,
   "id": "936d2141",
   "metadata": {},
   "outputs": [
    {
     "data": {
      "text/plain": [
       "array([[ 1,  4],\n",
       "       [ 9, 16]])"
      ]
     },
     "execution_count": 18,
     "metadata": {},
     "output_type": "execute_result"
    }
   ],
   "source": [
    "b * b"
   ]
  },
  {
   "cell_type": "markdown",
   "id": "6dc7975c",
   "metadata": {},
   "source": [
    "## 画图"
   ]
  },
  {
   "cell_type": "markdown",
   "id": "df0c8fa5",
   "metadata": {},
   "source": [
    "### linspace画出等差数列"
   ]
  },
  {
   "cell_type": "code",
   "execution_count": 2,
   "id": "325de3f9",
   "metadata": {},
   "outputs": [
    {
     "data": {
      "text/plain": [
       "array([0.   , 0.314, 0.628, 0.942, 1.257, 1.571, 1.885, 2.199, 2.513,\n",
       "       2.827, 3.142, 3.456, 3.77 , 4.084, 4.398, 4.712, 5.027, 5.341,\n",
       "       5.655, 5.969, 6.283])"
      ]
     },
     "execution_count": 2,
     "metadata": {},
     "output_type": "execute_result"
    }
   ],
   "source": [
    "import math\n",
    "a = np.linspace(0, 2*math.pi, 21)\n",
    "%precision 3\n",
    "a"
   ]
  },
  {
   "cell_type": "code",
   "execution_count": 3,
   "id": "39b2edaf",
   "metadata": {},
   "outputs": [
    {
     "name": "stdout",
     "output_type": "stream",
     "text": [
      "<class 'numpy.ndarray'>\n",
      "(21,)\n"
     ]
    }
   ],
   "source": [
    "print(type(a))\n",
    "print(a.shape)"
   ]
  },
  {
   "cell_type": "code",
   "execution_count": 4,
   "id": "8a6f38bc",
   "metadata": {},
   "outputs": [
    {
     "data": {
      "text/plain": [
       "array([ 0.000e+00,  3.090e-01,  5.878e-01,  8.090e-01,  9.511e-01,\n",
       "        1.000e+00,  9.511e-01,  8.090e-01,  5.878e-01,  3.090e-01,\n",
       "        1.225e-16, -3.090e-01, -5.878e-01, -8.090e-01, -9.511e-01,\n",
       "       -1.000e+00, -9.511e-01, -8.090e-01, -5.878e-01, -3.090e-01,\n",
       "       -2.449e-16])"
      ]
     },
     "execution_count": 4,
     "metadata": {},
     "output_type": "execute_result"
    }
   ],
   "source": [
    "b = np.sin(a)\n",
    "b"
   ]
  },
  {
   "cell_type": "markdown",
   "id": "01685a43",
   "metadata": {},
   "source": [
    "### 画出图像 - %matplotlib inline:内嵌画图"
   ]
  },
  {
   "cell_type": "code",
   "execution_count": 5,
   "id": "47dda30a",
   "metadata": {},
   "outputs": [],
   "source": [
    "%matplotlib inline"
   ]
  },
  {
   "cell_type": "code",
   "execution_count": 7,
   "id": "97ff1e3f",
   "metadata": {},
   "outputs": [
    {
     "data": {
      "text/plain": [
       "[<matplotlib.lines.Line2D at 0x1dd74aa6cd0>]"
      ]
     },
     "execution_count": 7,
     "metadata": {},
     "output_type": "execute_result"
    },
    {
     "data": {
      "image/png": "[encoded data removed]",
      "text/plain": [
       "<Figure size 640x480 with 1 Axes>"
      ]
     },
     "metadata": {},
     "output_type": "display_data"
    }
   ],
   "source": [
    "from matplotlib.pyplot import plot\n",
    "\n",
    "\n",
    "plot(a,b)"
   ]
  }
 ],
 "metadata": {
  "kernelspec": {
   "display_name": "Python 3",
   "language": "python",
   "name": "python3"
  },
  "language_info": {
   "codemirror_mode": {
    "name": "ipython",
    "version": 3
   },
   "file_extension": ".py",
   "mimetype": "text/x-python",
   "name": "python",
   "nbconvert_exporter": "python",
   "pygments_lexer": "ipython3",
   "version": "3.8.18"
  }
 },
 "nbformat": 4,
 "nbformat_minor": 5
}
