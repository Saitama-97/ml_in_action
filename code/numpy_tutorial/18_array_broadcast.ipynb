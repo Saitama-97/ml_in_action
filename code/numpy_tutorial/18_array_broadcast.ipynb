{
 "cells": [
  {
   "cell_type": "markdown",
   "metadata": {},
   "source": [
    "# 数组广播机制"
   ]
  },
  {
   "cell_type": "code",
   "execution_count": 1,
   "metadata": {},
   "outputs": [],
   "source": [
    "import numpy as np"
   ]
  },
  {
   "cell_type": "code",
   "execution_count": 2,
   "metadata": {},
   "outputs": [],
   "source": [
    "a = np.array([\n",
    "    [0, 0, 0],\n",
    "    [10, 10, 10],\n",
    "    [20, 20, 20],\n",
    "    [30, 30, 30]\n",
    "])\n",
    "b = np.array([\n",
    "    [0, 1, 2],\n",
    "    [0, 1, 2],\n",
    "    [0, 1, 2],\n",
    "    [0, 1, 2]\n",
    "])"
   ]
  },
  {
   "cell_type": "code",
   "execution_count": 3,
   "metadata": {},
   "outputs": [
    {
     "data": {
      "text/plain": [
       "array([[ 0,  1,  2],\n",
       "       [10, 11, 12],\n",
       "       [20, 21, 22],\n",
       "       [30, 31, 32]])"
      ]
     },
     "execution_count": 3,
     "metadata": {},
     "output_type": "execute_result"
    }
   ],
   "source": [
    "a + b"
   ]
  },
  {
   "cell_type": "code",
   "execution_count": 4,
   "metadata": {},
   "outputs": [],
   "source": [
    "b = np.array([0, 1, 2])"
   ]
  },
  {
   "cell_type": "code",
   "execution_count": 5,
   "metadata": {},
   "outputs": [
    {
     "data": {
      "text/plain": [
       "array([[ 0,  1,  2],\n",
       "       [10, 11, 12],\n",
       "       [20, 21, 22],\n",
       "       [30, 31, 32]])"
      ]
     },
     "execution_count": 5,
     "metadata": {},
     "output_type": "execute_result"
    }
   ],
   "source": [
    "a + b"
   ]
  },
  {
   "cell_type": "code",
   "execution_count": 6,
   "metadata": {},
   "outputs": [
    {
     "data": {
      "text/plain": [
       "array([[ 0],\n",
       "       [10],\n",
       "       [20],\n",
       "       [30]])"
      ]
     },
     "execution_count": 6,
     "metadata": {},
     "output_type": "execute_result"
    }
   ],
   "source": [
    "a = np.array([0, 10, 20, 30])\n",
    "a.shape = 4, 1\n",
    "a"
   ]
  },
  {
   "cell_type": "code",
   "execution_count": 7,
   "metadata": {},
   "outputs": [
    {
     "data": {
      "text/plain": [
       "array([0, 1, 2])"
      ]
     },
     "execution_count": 7,
     "metadata": {},
     "output_type": "execute_result"
    }
   ],
   "source": [
    "b"
   ]
  },
  {
   "cell_type": "code",
   "execution_count": 8,
   "metadata": {},
   "outputs": [
    {
     "data": {
      "text/plain": [
       "array([[ 0,  1,  2],\n",
       "       [10, 11, 12],\n",
       "       [20, 21, 22],\n",
       "       [30, 31, 32]])"
      ]
     },
     "execution_count": 8,
     "metadata": {},
     "output_type": "execute_result"
    }
   ],
   "source": [
    "a + b"
   ]
  },
  {
   "cell_type": "markdown",
   "metadata": {},
   "source": [
    "对于 Numpy 来说，维度匹配当且仅当：维度相同 & 有一个维度是1，进行匹配"
   ]
  },
  {
   "cell_type": "markdown",
   "metadata": {},
   "source": [
    "Demo："
   ]
  },
  {
   "cell_type": "code",
   "execution_count": 9,
   "metadata": {},
   "outputs": [
    {
     "data": {
      "text/plain": [
       "array([-0.5 , -0.45, -0.4 , -0.35, -0.3 , -0.25, -0.2 , -0.15, -0.1 ,\n",
       "       -0.05,  0.  ,  0.05,  0.1 ,  0.15,  0.2 ,  0.25,  0.3 ,  0.35,\n",
       "        0.4 ,  0.45,  0.5 ])"
      ]
     },
     "execution_count": 9,
     "metadata": {},
     "output_type": "execute_result"
    }
   ],
   "source": [
    "x = np.linspace(-.5, .5, 21)\n",
    "x"
   ]
  },
  {
   "cell_type": "code",
   "execution_count": 10,
   "metadata": {},
   "outputs": [],
   "source": [
    "y = x[:, np.newaxis]"
   ]
  },
  {
   "cell_type": "code",
   "execution_count": 11,
   "metadata": {},
   "outputs": [
    {
     "data": {
      "text/plain": [
       "array([[-0.5 ],\n",
       "       [-0.45],\n",
       "       [-0.4 ],\n",
       "       [-0.35],\n",
       "       [-0.3 ],\n",
       "       [-0.25],\n",
       "       [-0.2 ],\n",
       "       [-0.15],\n",
       "       [-0.1 ],\n",
       "       [-0.05],\n",
       "       [ 0.  ],\n",
       "       [ 0.05],\n",
       "       [ 0.1 ],\n",
       "       [ 0.15],\n",
       "       [ 0.2 ],\n",
       "       [ 0.25],\n",
       "       [ 0.3 ],\n",
       "       [ 0.35],\n",
       "       [ 0.4 ],\n",
       "       [ 0.45],\n",
       "       [ 0.5 ]])"
      ]
     },
     "execution_count": 11,
     "metadata": {},
     "output_type": "execute_result"
    }
   ],
   "source": [
    "y"
   ]
  },
  {
   "cell_type": "code",
   "execution_count": 12,
   "metadata": {},
   "outputs": [
    {
     "data": {
      "text/plain": [
       "(21,)"
      ]
     },
     "execution_count": 12,
     "metadata": {},
     "output_type": "execute_result"
    }
   ],
   "source": [
    "x.shape"
   ]
  },
  {
   "cell_type": "code",
   "execution_count": 13,
   "metadata": {},
   "outputs": [
    {
     "data": {
      "text/plain": [
       "(21, 1)"
      ]
     },
     "execution_count": 13,
     "metadata": {},
     "output_type": "execute_result"
    }
   ],
   "source": [
    "y.shape"
   ]
  },
  {
   "cell_type": "code",
   "execution_count": 14,
   "metadata": {},
   "outputs": [],
   "source": [
    "radius = np.sqrt(x ** 2 + y ** 2)"
   ]
  },
  {
   "cell_type": "code",
   "execution_count": 15,
   "metadata": {},
   "outputs": [
    {
     "data": {
      "text/plain": [
       "array([[0.70710678, 0.6726812 , 0.64031242, 0.61032778, 0.58309519,\n",
       "        0.55901699, 0.53851648, 0.52201533, 0.50990195, 0.50249378,\n",
       "        0.5       , 0.50249378, 0.50990195, 0.52201533, 0.53851648,\n",
       "        0.55901699, 0.58309519, 0.61032778, 0.64031242, 0.6726812 ,\n",
       "        0.70710678],\n",
       "       [0.6726812 , 0.6363961 , 0.60207973, 0.57008771, 0.54083269,\n",
       "        0.51478151, 0.49244289, 0.47434165, 0.46097722, 0.45276926,\n",
       "        0.45      , 0.45276926, 0.46097722, 0.47434165, 0.49244289,\n",
       "        0.51478151, 0.54083269, 0.57008771, 0.60207973, 0.6363961 ,\n",
       "        0.6726812 ],\n",
       "       [0.64031242, 0.60207973, 0.56568542, 0.53150729, 0.5       ,\n",
       "        0.47169906, 0.4472136 , 0.42720019, 0.41231056, 0.40311289,\n",
       "        0.4       , 0.40311289, 0.41231056, 0.42720019, 0.4472136 ,\n",
       "        0.47169906, 0.5       , 0.53150729, 0.56568542, 0.60207973,\n",
       "        0.64031242],\n",
       "       [0.61032778, 0.57008771, 0.53150729, 0.49497475, 0.46097722,\n",
       "        0.43011626, 0.40311289, 0.38078866, 0.36400549, 0.35355339,\n",
       "        0.35      , 0.35355339, 0.36400549, 0.38078866, 0.40311289,\n",
       "        0.43011626, 0.46097722, 0.49497475, 0.53150729, 0.57008771,\n",
       "        0.61032778],\n",
       "       [0.58309519, 0.54083269, 0.5       , 0.46097722, 0.42426407,\n",
       "        0.39051248, 0.36055513, 0.3354102 , 0.31622777, 0.30413813,\n",
       "        0.3       , 0.30413813, 0.31622777, 0.3354102 , 0.36055513,\n",
       "        0.39051248, 0.42426407, 0.46097722, 0.5       , 0.54083269,\n",
       "        0.58309519],\n",
       "       [0.55901699, 0.51478151, 0.47169906, 0.43011626, 0.39051248,\n",
       "        0.35355339, 0.32015621, 0.29154759, 0.26925824, 0.25495098,\n",
       "        0.25      , 0.25495098, 0.26925824, 0.29154759, 0.32015621,\n",
       "        0.35355339, 0.39051248, 0.43011626, 0.47169906, 0.51478151,\n",
       "        0.55901699],\n",
       "       [0.53851648, 0.49244289, 0.4472136 , 0.40311289, 0.36055513,\n",
       "        0.32015621, 0.28284271, 0.25      , 0.2236068 , 0.20615528,\n",
       "        0.2       , 0.20615528, 0.2236068 , 0.25      , 0.28284271,\n",
       "        0.32015621, 0.36055513, 0.40311289, 0.4472136 , 0.49244289,\n",
       "        0.53851648],\n",
       "       [0.52201533, 0.47434165, 0.42720019, 0.38078866, 0.3354102 ,\n",
       "        0.29154759, 0.25      , 0.21213203, 0.18027756, 0.15811388,\n",
       "        0.15      , 0.15811388, 0.18027756, 0.21213203, 0.25      ,\n",
       "        0.29154759, 0.3354102 , 0.38078866, 0.42720019, 0.47434165,\n",
       "        0.52201533],\n",
       "       [0.50990195, 0.46097722, 0.41231056, 0.36400549, 0.31622777,\n",
       "        0.26925824, 0.2236068 , 0.18027756, 0.14142136, 0.1118034 ,\n",
       "        0.1       , 0.1118034 , 0.14142136, 0.18027756, 0.2236068 ,\n",
       "        0.26925824, 0.31622777, 0.36400549, 0.41231056, 0.46097722,\n",
       "        0.50990195],\n",
       "       [0.50249378, 0.45276926, 0.40311289, 0.35355339, 0.30413813,\n",
       "        0.25495098, 0.20615528, 0.15811388, 0.1118034 , 0.07071068,\n",
       "        0.05      , 0.07071068, 0.1118034 , 0.15811388, 0.20615528,\n",
       "        0.25495098, 0.30413813, 0.35355339, 0.40311289, 0.45276926,\n",
       "        0.50249378],\n",
       "       [0.5       , 0.45      , 0.4       , 0.35      , 0.3       ,\n",
       "        0.25      , 0.2       , 0.15      , 0.1       , 0.05      ,\n",
       "        0.        , 0.05      , 0.1       , 0.15      , 0.2       ,\n",
       "        0.25      , 0.3       , 0.35      , 0.4       , 0.45      ,\n",
       "        0.5       ],\n",
       "       [0.50249378, 0.45276926, 0.40311289, 0.35355339, 0.30413813,\n",
       "        0.25495098, 0.20615528, 0.15811388, 0.1118034 , 0.07071068,\n",
       "        0.05      , 0.07071068, 0.1118034 , 0.15811388, 0.20615528,\n",
       "        0.25495098, 0.30413813, 0.35355339, 0.40311289, 0.45276926,\n",
       "        0.50249378],\n",
       "       [0.50990195, 0.46097722, 0.41231056, 0.36400549, 0.31622777,\n",
       "        0.26925824, 0.2236068 , 0.18027756, 0.14142136, 0.1118034 ,\n",
       "        0.1       , 0.1118034 , 0.14142136, 0.18027756, 0.2236068 ,\n",
       "        0.26925824, 0.31622777, 0.36400549, 0.41231056, 0.46097722,\n",
       "        0.50990195],\n",
       "       [0.52201533, 0.47434165, 0.42720019, 0.38078866, 0.3354102 ,\n",
       "        0.29154759, 0.25      , 0.21213203, 0.18027756, 0.15811388,\n",
       "        0.15      , 0.15811388, 0.18027756, 0.21213203, 0.25      ,\n",
       "        0.29154759, 0.3354102 , 0.38078866, 0.42720019, 0.47434165,\n",
       "        0.52201533],\n",
       "       [0.53851648, 0.49244289, 0.4472136 , 0.40311289, 0.36055513,\n",
       "        0.32015621, 0.28284271, 0.25      , 0.2236068 , 0.20615528,\n",
       "        0.2       , 0.20615528, 0.2236068 , 0.25      , 0.28284271,\n",
       "        0.32015621, 0.36055513, 0.40311289, 0.4472136 , 0.49244289,\n",
       "        0.53851648],\n",
       "       [0.55901699, 0.51478151, 0.47169906, 0.43011626, 0.39051248,\n",
       "        0.35355339, 0.32015621, 0.29154759, 0.26925824, 0.25495098,\n",
       "        0.25      , 0.25495098, 0.26925824, 0.29154759, 0.32015621,\n",
       "        0.35355339, 0.39051248, 0.43011626, 0.47169906, 0.51478151,\n",
       "        0.55901699],\n",
       "       [0.58309519, 0.54083269, 0.5       , 0.46097722, 0.42426407,\n",
       "        0.39051248, 0.36055513, 0.3354102 , 0.31622777, 0.30413813,\n",
       "        0.3       , 0.30413813, 0.31622777, 0.3354102 , 0.36055513,\n",
       "        0.39051248, 0.42426407, 0.46097722, 0.5       , 0.54083269,\n",
       "        0.58309519],\n",
       "       [0.61032778, 0.57008771, 0.53150729, 0.49497475, 0.46097722,\n",
       "        0.43011626, 0.40311289, 0.38078866, 0.36400549, 0.35355339,\n",
       "        0.35      , 0.35355339, 0.36400549, 0.38078866, 0.40311289,\n",
       "        0.43011626, 0.46097722, 0.49497475, 0.53150729, 0.57008771,\n",
       "        0.61032778],\n",
       "       [0.64031242, 0.60207973, 0.56568542, 0.53150729, 0.5       ,\n",
       "        0.47169906, 0.4472136 , 0.42720019, 0.41231056, 0.40311289,\n",
       "        0.4       , 0.40311289, 0.41231056, 0.42720019, 0.4472136 ,\n",
       "        0.47169906, 0.5       , 0.53150729, 0.56568542, 0.60207973,\n",
       "        0.64031242],\n",
       "       [0.6726812 , 0.6363961 , 0.60207973, 0.57008771, 0.54083269,\n",
       "        0.51478151, 0.49244289, 0.47434165, 0.46097722, 0.45276926,\n",
       "        0.45      , 0.45276926, 0.46097722, 0.47434165, 0.49244289,\n",
       "        0.51478151, 0.54083269, 0.57008771, 0.60207973, 0.6363961 ,\n",
       "        0.6726812 ],\n",
       "       [0.70710678, 0.6726812 , 0.64031242, 0.61032778, 0.58309519,\n",
       "        0.55901699, 0.53851648, 0.52201533, 0.50990195, 0.50249378,\n",
       "        0.5       , 0.50249378, 0.50990195, 0.52201533, 0.53851648,\n",
       "        0.55901699, 0.58309519, 0.61032778, 0.64031242, 0.6726812 ,\n",
       "        0.70710678]])"
      ]
     },
     "execution_count": 15,
     "metadata": {},
     "output_type": "execute_result"
    }
   ],
   "source": [
    "radius"
   ]
  },
  {
   "cell_type": "code",
   "execution_count": 16,
   "metadata": {},
   "outputs": [],
   "source": [
    "import matplotlib.pyplot as plt\n",
    "%matplotlib inline"
   ]
  },
  {
   "cell_type": "code",
   "execution_count": 17,
   "metadata": {},
   "outputs": [
    {
     "data": {
      "text/plain": [
       "<matplotlib.image.AxesImage at 0x1f9dfebff70>"
      ]
     },
     "execution_count": 17,
     "metadata": {},
     "output_type": "execute_result"
    },
    {
     "data": {
      "image/png": "[encoded data removed]",
      "text/plain": [
       "<Figure size 640x480 with 1 Axes>"
      ]
     },
     "metadata": {},
     "output_type": "display_data"
    }
   ],
   "source": [
    "plt.imshow(radius)"
   ]
  },
  {
   "cell_type": "code",
   "execution_count": null,
   "metadata": {},
   "outputs": [],
   "source": []
  }
 ],
 "metadata": {
  "kernelspec": {
   "display_name": "ml",
   "language": "python",
   "name": "python3"
  },
  "language_info": {
   "codemirror_mode": {
    "name": "ipython",
    "version": 3
   },
   "file_extension": ".py",
   "mimetype": "text/x-python",
   "name": "python",
   "nbconvert_exporter": "python",
   "pygments_lexer": "ipython3",
   "version": "3.8.18"
  }
 },
 "nbformat": 4,
 "nbformat_minor": 2
}
