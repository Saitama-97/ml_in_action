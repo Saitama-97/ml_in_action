{
 "cells": [
  {
   "cell_type": "markdown",
   "metadata": {},
   "source": [
    "# 数组排序"
   ]
  },
  {
   "cell_type": "code",
   "execution_count": 2,
   "metadata": {},
   "outputs": [
    {
     "name": "stdout",
     "output_type": "stream",
     "text": [
      "Using matplotlib backend: TkAgg\n",
      "%pylab is deprecated, use %matplotlib inline and import the required libraries.\n",
      "Populating the interactive namespace from numpy and matplotlib\n"
     ]
    }
   ],
   "source": [
    "%pylab"
   ]
  },
  {
   "cell_type": "markdown",
   "metadata": {},
   "source": [
    "### sort 函数 - 不改变原数组"
   ]
  },
  {
   "cell_type": "code",
   "execution_count": 3,
   "metadata": {},
   "outputs": [
    {
     "data": {
      "text/plain": [
       "array([20.8, 53.4, 61.8, 93.2])"
      ]
     },
     "execution_count": 3,
     "metadata": {},
     "output_type": "execute_result"
    }
   ],
   "source": [
    "names = array([\"bob\",\"sue\",\"jan\",\"ad\"])\n",
    "weights = array([20.8, 93.2, 53.4,61.8])\n",
    "sort(weights)"
   ]
  },
  {
   "cell_type": "markdown",
   "metadata": {},
   "source": [
    "### argsort 函数 - 返回从小到大的排列在数组中的索引位置"
   ]
  },
  {
   "cell_type": "code",
   "execution_count": 5,
   "metadata": {},
   "outputs": [
    {
     "data": {
      "text/plain": [
       "array([0, 2, 3, 1], dtype=int64)"
      ]
     },
     "execution_count": 5,
     "metadata": {},
     "output_type": "execute_result"
    }
   ],
   "source": [
    "ordered_indices = argsort(weights)\n",
    "ordered_indices"
   ]
  },
  {
   "cell_type": "markdown",
   "metadata": {},
   "source": [
    "可以用来进行索引"
   ]
  },
  {
   "cell_type": "code",
   "execution_count": 6,
   "metadata": {},
   "outputs": [
    {
     "data": {
      "text/plain": [
       "array([20.8, 53.4, 61.8, 93.2])"
      ]
     },
     "execution_count": 6,
     "metadata": {},
     "output_type": "execute_result"
    }
   ],
   "source": [
    "weights[ordered_indices]"
   ]
  },
  {
   "cell_type": "markdown",
   "metadata": {},
   "source": [
    "### sort 和 argsort 方法"
   ]
  },
  {
   "cell_type": "markdown",
   "metadata": {},
   "source": [
    "argsort 不会改变原数组"
   ]
  },
  {
   "cell_type": "code",
   "execution_count": 7,
   "metadata": {},
   "outputs": [
    {
     "data": {
      "text/plain": [
       "array([0, 2, 3, 1], dtype=int64)"
      ]
     },
     "execution_count": 7,
     "metadata": {},
     "output_type": "execute_result"
    }
   ],
   "source": [
    "data = array([20.8, 93.2, 53.4, 61.8])\n",
    "data.argsort()"
   ]
  },
  {
   "cell_type": "markdown",
   "metadata": {},
   "source": [
    "sort 会改变原数组"
   ]
  },
  {
   "cell_type": "code",
   "execution_count": 8,
   "metadata": {},
   "outputs": [
    {
     "data": {
      "text/plain": [
       "array([20.8, 53.4, 61.8, 93.2])"
      ]
     },
     "execution_count": 8,
     "metadata": {},
     "output_type": "execute_result"
    }
   ],
   "source": [
    "data.sort()\n",
    "data"
   ]
  },
  {
   "cell_type": "markdown",
   "metadata": {},
   "source": [
    "### 二维数组排序"
   ]
  },
  {
   "cell_type": "markdown",
   "metadata": {},
   "source": [
    "对于多维数组，sort方法默认沿着最后一维(最里面一维)开始排序"
   ]
  },
  {
   "cell_type": "code",
   "execution_count": 2,
   "metadata": {},
   "outputs": [],
   "source": [
    "a = array([\n",
    "    [0.2,0.1,0.5],\n",
    "    [0.4,0.8,0.3],\n",
    "    [0.9,0.6,0.7]\n",
    "])"
   ]
  },
  {
   "cell_type": "code",
   "execution_count": 3,
   "metadata": {},
   "outputs": [
    {
     "data": {
      "text/plain": [
       "array([[0.1, 0.2, 0.5],\n",
       "       [0.3, 0.4, 0.8],\n",
       "       [0.6, 0.7, 0.9]])"
      ]
     },
     "execution_count": 3,
     "metadata": {},
     "output_type": "execute_result"
    }
   ],
   "source": [
    "sort(a)"
   ]
  },
  {
   "cell_type": "code",
   "execution_count": 5,
   "metadata": {},
   "outputs": [
    {
     "data": {
      "text/plain": [
       "array([[0.2, 0.1, 0.3],\n",
       "       [0.4, 0.6, 0.5],\n",
       "       [0.9, 0.8, 0.7]])"
      ]
     },
     "execution_count": 5,
     "metadata": {},
     "output_type": "execute_result"
    }
   ],
   "source": [
    "sort(a, axis=0) # 按列"
   ]
  },
  {
   "cell_type": "code",
   "execution_count": 6,
   "metadata": {},
   "outputs": [
    {
     "data": {
      "text/plain": [
       "array([[0.1, 0.2, 0.5],\n",
       "       [0.3, 0.4, 0.8],\n",
       "       [0.6, 0.7, 0.9]])"
      ]
     },
     "execution_count": 6,
     "metadata": {},
     "output_type": "execute_result"
    }
   ],
   "source": [
    "sort(a, axis=1) # 按行"
   ]
  },
  {
   "cell_type": "markdown",
   "metadata": {},
   "source": [
    "### searchsorted 函数 - 给出values应该插入的位置"
   ]
  },
  {
   "cell_type": "code",
   "execution_count": 3,
   "metadata": {},
   "outputs": [
    {
     "data": {
      "text/plain": [
       "array([0.  , 0.25, 0.5 , 0.75, 1.  ])"
      ]
     },
     "execution_count": 3,
     "metadata": {},
     "output_type": "execute_result"
    }
   ],
   "source": [
    "sorted_array = linspace(0,1,5)\n",
    "sorted_array"
   ]
  },
  {
   "cell_type": "code",
   "execution_count": 5,
   "metadata": {},
   "outputs": [
    {
     "data": {
      "text/plain": [
       "array([1, 4, 2, 1, 2, 1], dtype=int64)"
      ]
     },
     "execution_count": 5,
     "metadata": {},
     "output_type": "execute_result"
    }
   ],
   "source": [
    "values = array([0.1, 0.8, 0.3, 0.12, 0.5, 0.25])\n",
    "searchsorted(sorted_array, values)"
   ]
  },
  {
   "cell_type": "code",
   "execution_count": 6,
   "metadata": {},
   "outputs": [
    {
     "data": {
      "text/plain": [
       "array([0.29980909, 0.36008563, 0.24265199, 0.51597201, 0.3952751 ,\n",
       "       0.65647723, 0.74733878, 0.31098364, 0.31032866, 0.00112556,\n",
       "       0.67206116, 0.07058655, 0.11357561, 0.24776087, 0.59777043,\n",
       "       0.061289  , 0.69113886, 0.93654528, 0.23254124, 0.45725707,\n",
       "       0.60009949, 0.67604215, 0.02518567, 0.22471124, 0.16389223,\n",
       "       0.92589566, 0.27654398, 0.2593047 , 0.39109351, 0.59221449,\n",
       "       0.39929507, 0.56712471, 0.16451825, 0.9982863 , 0.42271738,\n",
       "       0.49437078, 0.45199726, 0.91595815, 0.70115604, 0.98454563,\n",
       "       0.49202113, 0.67674827, 0.90071232, 0.86717894, 0.47323312,\n",
       "       0.91352321, 0.55253576, 0.52329713, 0.57515849, 0.75565502,\n",
       "       0.75933466, 0.2805349 , 0.48157852, 0.89455396, 0.25383651,\n",
       "       0.07974397, 0.72150527, 0.26798467, 0.50265862, 0.82892378,\n",
       "       0.888607  , 0.48940447, 0.72456575, 0.00559278, 0.98651953,\n",
       "       0.82055996, 0.66497111, 0.18943745, 0.62592909, 0.70501687,\n",
       "       0.0221641 , 0.74771132, 0.89188637, 0.99796125, 0.40093311,\n",
       "       0.72689047, 0.40556007, 0.28075139, 0.38005578, 0.32854481,\n",
       "       0.84392894, 0.44725593, 0.11368385, 0.64231247, 0.41597562,\n",
       "       0.24521649, 0.35889227, 0.53375964, 0.60619076, 0.49303672,\n",
       "       0.49698938, 0.86229   , 0.72019487, 0.84753716, 0.21178106,\n",
       "       0.66523166, 0.60995727, 0.00120907, 0.68465178, 0.55451244])"
      ]
     },
     "execution_count": 6,
     "metadata": {},
     "output_type": "execute_result"
    }
   ],
   "source": [
    "from numpy.random import rand\n",
    "data = rand(100)\n",
    "data"
   ]
  },
  {
   "cell_type": "code",
   "execution_count": 7,
   "metadata": {},
   "outputs": [],
   "source": [
    "data.sort()"
   ]
  },
  {
   "cell_type": "code",
   "execution_count": 8,
   "metadata": {},
   "outputs": [
    {
     "data": {
      "text/plain": [
       "array([0.00112556, 0.00120907, 0.00559278, 0.0221641 , 0.02518567,\n",
       "       0.061289  , 0.07058655, 0.07974397, 0.11357561, 0.11368385,\n",
       "       0.16389223, 0.16451825, 0.18943745, 0.21178106, 0.22471124,\n",
       "       0.23254124, 0.24265199, 0.24521649, 0.24776087, 0.25383651,\n",
       "       0.2593047 , 0.26798467, 0.27654398, 0.2805349 , 0.28075139,\n",
       "       0.29980909, 0.31032866, 0.31098364, 0.32854481, 0.35889227,\n",
       "       0.36008563, 0.38005578, 0.39109351, 0.3952751 , 0.39929507,\n",
       "       0.40093311, 0.40556007, 0.41597562, 0.42271738, 0.44725593,\n",
       "       0.45199726, 0.45725707, 0.47323312, 0.48157852, 0.48940447,\n",
       "       0.49202113, 0.49303672, 0.49437078, 0.49698938, 0.50265862,\n",
       "       0.51597201, 0.52329713, 0.53375964, 0.55253576, 0.55451244,\n",
       "       0.56712471, 0.57515849, 0.59221449, 0.59777043, 0.60009949,\n",
       "       0.60619076, 0.60995727, 0.62592909, 0.64231247, 0.65647723,\n",
       "       0.66497111, 0.66523166, 0.67206116, 0.67604215, 0.67674827,\n",
       "       0.68465178, 0.69113886, 0.70115604, 0.70501687, 0.72019487,\n",
       "       0.72150527, 0.72456575, 0.72689047, 0.74733878, 0.74771132,\n",
       "       0.75565502, 0.75933466, 0.82055996, 0.82892378, 0.84392894,\n",
       "       0.84753716, 0.86229   , 0.86717894, 0.888607  , 0.89188637,\n",
       "       0.89455396, 0.90071232, 0.91352321, 0.91595815, 0.92589566,\n",
       "       0.93654528, 0.98454563, 0.98651953, 0.99796125, 0.9982863 ])"
      ]
     },
     "execution_count": 8,
     "metadata": {},
     "output_type": "execute_result"
    }
   ],
   "source": [
    "data"
   ]
  },
  {
   "cell_type": "markdown",
   "metadata": {},
   "source": [
    "不加括号，默认是元组"
   ]
  },
  {
   "cell_type": "code",
   "execution_count": 9,
   "metadata": {},
   "outputs": [
    {
     "data": {
      "text/plain": [
       "(0.4, 0.6)"
      ]
     },
     "execution_count": 9,
     "metadata": {},
     "output_type": "execute_result"
    }
   ],
   "source": [
    "bounds = .4, .6\n",
    "bounds"
   ]
  },
  {
   "cell_type": "code",
   "execution_count": 10,
   "metadata": {},
   "outputs": [
    {
     "name": "stdout",
     "output_type": "stream",
     "text": [
      "35\n",
      "59\n"
     ]
    }
   ],
   "source": [
    "low_idx, high_idx = searchsorted(data, bounds)\n",
    "print(low_idx)\n",
    "print(high_idx)"
   ]
  },
  {
   "cell_type": "code",
   "execution_count": 11,
   "metadata": {},
   "outputs": [
    {
     "data": {
      "text/plain": [
       "array([0.40093311, 0.40556007, 0.41597562, 0.42271738, 0.44725593,\n",
       "       0.45199726, 0.45725707, 0.47323312, 0.48157852, 0.48940447,\n",
       "       0.49202113, 0.49303672, 0.49437078, 0.49698938, 0.50265862,\n",
       "       0.51597201, 0.52329713, 0.53375964, 0.55253576, 0.55451244,\n",
       "       0.56712471, 0.57515849, 0.59221449, 0.59777043])"
      ]
     },
     "execution_count": 11,
     "metadata": {},
     "output_type": "execute_result"
    }
   ],
   "source": [
    "data[low_idx:high_idx]"
   ]
  }
 ],
 "metadata": {
  "kernelspec": {
   "display_name": "dj",
   "language": "python",
   "name": "python3"
  },
  "language_info": {
   "codemirror_mode": {
    "name": "ipython",
    "version": 3
   },
   "file_extension": ".py",
   "mimetype": "text/x-python",
   "name": "python",
   "nbconvert_exporter": "python",
   "pygments_lexer": "ipython3",
   "version": "3.8.18"
  }
 },
 "nbformat": 4,
 "nbformat_minor": 2
}
