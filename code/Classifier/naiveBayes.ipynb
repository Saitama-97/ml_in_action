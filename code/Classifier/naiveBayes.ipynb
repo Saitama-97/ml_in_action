{
 "cells": [
  {
   "cell_type": "markdown",
   "source": [
    "### 使用朴素贝叶斯进行文本分类"
   ],
   "metadata": {
    "collapsed": false
   },
   "id": "302524f470c13b10"
  },
  {
   "cell_type": "code",
   "execution_count": 12,
   "outputs": [],
   "source": [
    "# 加载数据集\n",
    "def load_dataset():\n",
    "    postingList = [\n",
    "        ['my', 'dog', 'has', 'flea', 'problems', 'help', 'please'],\n",
    "        ['maybe', 'not', 'take', 'him', 'to', 'dog', 'park', 'stupid'],\n",
    "        ['my', 'dalmation', 'is', 'so', 'cute', 'I', 'love', 'him'],\n",
    "        ['stop', 'posting', 'stupid', 'worthless', 'garbage'],\n",
    "        ['mr', 'licks', 'ate', 'my', 'steak', 'how', 'to', 'stop', 'him'],\n",
    "        ['quit', 'buying', 'worthless', 'dog', 'food', 'stupid']\n",
    "    ]\n",
    "    # 1 表示侮辱性文字，2 表示正常言论\n",
    "    classVec = [0, 1, 0, 1, 0, 1]\n",
    "    return postingList, classVec"
   ],
   "metadata": {
    "collapsed": false,
    "ExecuteTime": {
     "end_time": "2023-11-16T07:34:14.106846300Z",
     "start_time": "2023-11-16T07:34:14.089892100Z"
    }
   },
   "id": "ea452547012c383f"
  },
  {
   "cell_type": "code",
   "execution_count": 13,
   "outputs": [],
   "source": [
    "def generate_vocab_list(dataset):\n",
    "    vocabList = list()\n",
    "    for sentence in dataset:\n",
    "        print(sentence)\n",
    "        vocabList.extend(sentence)\n",
    "    vocabSet = set(vocabList)\n",
    "    print(vocabSet)\n",
    "    return list(vocabSet).sort()\n"
   ],
   "metadata": {
    "collapsed": false,
    "ExecuteTime": {
     "end_time": "2023-11-16T07:34:14.133774400Z",
     "start_time": "2023-11-16T07:34:14.109839200Z"
    }
   },
   "id": "945e5621b37984b1"
  },
  {
   "cell_type": "code",
   "execution_count": 14,
   "outputs": [],
   "source": [
    "def generate_vec(vocab, sentence):\n",
    "    resVec = [0] * len(vocab)\n",
    "    for word in sentence:\n",
    "        if word in vocab:\n",
    "            resVec[vocab.index(word)] = 1\n",
    "        else:\n",
    "            print(\"{} not in the vocabulary\", word)\n",
    "    return resVec"
   ],
   "metadata": {
    "collapsed": false,
    "ExecuteTime": {
     "end_time": "2023-11-16T07:34:14.142750600Z",
     "start_time": "2023-11-16T07:34:14.124799100Z"
    }
   },
   "id": "4cde11e94402084d"
  },
  {
   "cell_type": "code",
   "execution_count": 16,
   "outputs": [
    {
     "name": "stdout",
     "output_type": "stream",
     "text": [
      "[['my', 'dog', 'has', 'flea', 'problems', 'help', 'please'], ['maybe', 'not', 'take', 'him', 'to', 'dog', 'park', 'stupid'], ['my', 'dalmation', 'is', 'so', 'cute', 'I', 'love', 'him'], ['stop', 'posting', 'stupid', 'worthless', 'garbage'], ['mr', 'licks', 'ate', 'my', 'steak', 'how', 'to', 'stop', 'him'], ['quit', 'buying', 'worthless', 'dog', 'food', 'stupid']]\n",
      "[0, 1, 0, 1, 0, 1]\n",
      "['my', 'dog', 'has', 'flea', 'problems', 'help', 'please']\n",
      "['maybe', 'not', 'take', 'him', 'to', 'dog', 'park', 'stupid']\n",
      "['my', 'dalmation', 'is', 'so', 'cute', 'I', 'love', 'him']\n",
      "['stop', 'posting', 'stupid', 'worthless', 'garbage']\n",
      "['mr', 'licks', 'ate', 'my', 'steak', 'how', 'to', 'stop', 'him']\n",
      "['quit', 'buying', 'worthless', 'dog', 'food', 'stupid']\n",
      "None\n"
     ]
    },
    {
     "ename": "TypeError",
     "evalue": "object of type 'NoneType' has no len()",
     "output_type": "error",
     "traceback": [
      "\u001B[1;31m---------------------------------------------------------------------------\u001B[0m",
      "\u001B[1;31mTypeError\u001B[0m                                 Traceback (most recent call last)",
      "Cell \u001B[1;32mIn[16], line 8\u001B[0m\n\u001B[0;32m      6\u001B[0m \u001B[38;5;28mprint\u001B[39m(vocabList)\n\u001B[0;32m      7\u001B[0m \u001B[38;5;28;01mfor\u001B[39;00m sentence \u001B[38;5;129;01min\u001B[39;00m sentenceList:\n\u001B[1;32m----> 8\u001B[0m     vec \u001B[38;5;241m=\u001B[39m \u001B[43mgenerate_vec\u001B[49m\u001B[43m(\u001B[49m\u001B[43mvocab\u001B[49m\u001B[38;5;241;43m=\u001B[39;49m\u001B[43mvocabList\u001B[49m\u001B[43m,\u001B[49m\u001B[43m \u001B[49m\u001B[43msentence\u001B[49m\u001B[38;5;241;43m=\u001B[39;49m\u001B[43msentence\u001B[49m\u001B[43m)\u001B[49m\n\u001B[0;32m      9\u001B[0m     \u001B[38;5;28mprint\u001B[39m(sentence)\n\u001B[0;32m     10\u001B[0m     \u001B[38;5;28mprint\u001B[39m(vec)\n",
      "Cell \u001B[1;32mIn[14], line 2\u001B[0m, in \u001B[0;36mgenerate_vec\u001B[1;34m(vocab, sentence)\u001B[0m\n\u001B[0;32m      1\u001B[0m \u001B[38;5;28;01mdef\u001B[39;00m \u001B[38;5;21mgenerate_vec\u001B[39m(vocab, sentence):\n\u001B[1;32m----> 2\u001B[0m     resVec \u001B[38;5;241m=\u001B[39m [\u001B[38;5;241m0\u001B[39m] \u001B[38;5;241m*\u001B[39m \u001B[38;5;28;43mlen\u001B[39;49m\u001B[43m(\u001B[49m\u001B[43mvocab\u001B[49m\u001B[43m)\u001B[49m\n\u001B[0;32m      3\u001B[0m     \u001B[38;5;28;01mfor\u001B[39;00m word \u001B[38;5;129;01min\u001B[39;00m sentence:\n\u001B[0;32m      4\u001B[0m         \u001B[38;5;28;01mif\u001B[39;00m word \u001B[38;5;129;01min\u001B[39;00m vocab:\n",
      "\u001B[1;31mTypeError\u001B[0m: object of type 'NoneType' has no len()"
     ]
    }
   ],
   "source": [
    "# 测试\n",
    "sentenceList, classVec = load_dataset()\n",
    "print(sentenceList)\n",
    "print(classVec)\n",
    "vocabList = generate_vocab_list(sentenceList)\n",
    "print(vocabList)\n",
    "for sentence in sentenceList:\n",
    "    vec = generate_vec(vocab=vocabList, sentence=sentence)\n",
    "    print(sentence)\n",
    "    print(vec)\n",
    "    print()"
   ],
   "metadata": {
    "collapsed": false,
    "ExecuteTime": {
     "end_time": "2023-11-16T07:34:46.066931400Z",
     "start_time": "2023-11-16T07:34:46.037953500Z"
    }
   },
   "id": "75880b632e835efa"
  },
  {
   "cell_type": "code",
   "execution_count": null,
   "outputs": [],
   "source": [],
   "metadata": {
    "collapsed": false,
    "ExecuteTime": {
     "start_time": "2023-11-16T07:34:14.168681100Z"
    }
   },
   "id": "53dbae823a026f61"
  }
 ],
 "metadata": {
  "kernelspec": {
   "display_name": "Python 3",
   "language": "python",
   "name": "python3"
  },
  "language_info": {
   "codemirror_mode": {
    "name": "ipython",
    "version": 2
   },
   "file_extension": ".py",
   "mimetype": "text/x-python",
   "name": "python",
   "nbconvert_exporter": "python",
   "pygments_lexer": "ipython2",
   "version": "2.7.6"
  }
 },
 "nbformat": 4,
 "nbformat_minor": 5
}
