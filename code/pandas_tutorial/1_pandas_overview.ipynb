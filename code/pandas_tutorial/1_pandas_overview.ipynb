{
 "cells": [
  {
   "cell_type": "markdown",
   "metadata": {},
   "source": [
    "# Pandas"
   ]
  },
  {
   "cell_type": "code",
   "execution_count": 1,
   "metadata": {},
   "outputs": [],
   "source": [
    "import pandas as pd\n",
    "import numpy as np"
   ]
  },
  {
   "cell_type": "markdown",
   "metadata": {},
   "source": [
    "### 生成Pandas对象"
   ]
  },
  {
   "cell_type": "markdown",
   "metadata": {},
   "source": [
    "Series"
   ]
  },
  {
   "cell_type": "code",
   "execution_count": 2,
   "metadata": {},
   "outputs": [],
   "source": [
    "# 一维Series可用一维列表初始化\n",
    "s = pd.Series([1,3,5,np.nan,6,8])"
   ]
  },
  {
   "cell_type": "code",
   "execution_count": 3,
   "metadata": {},
   "outputs": [
    {
     "data": {
      "text/plain": [
       "0    1.0\n",
       "1    3.0\n",
       "2    5.0\n",
       "3    NaN\n",
       "4    6.0\n",
       "5    8.0\n",
       "dtype: float64"
      ]
     },
     "execution_count": 3,
     "metadata": {},
     "output_type": "execute_result"
    }
   ],
   "source": [
    "s"
   ]
  },
  {
   "cell_type": "code",
   "execution_count": 4,
   "metadata": {},
   "outputs": [
    {
     "data": {
      "text/plain": [
       "(6,)"
      ]
     },
     "execution_count": 4,
     "metadata": {},
     "output_type": "execute_result"
    }
   ],
   "source": [
    "s.shape"
   ]
  },
  {
   "cell_type": "markdown",
   "metadata": {},
   "source": [
    "DataFrame"
   ]
  },
  {
   "cell_type": "markdown",
   "metadata": {},
   "source": [
    "DateFrame是一个二维结构，这里首先构建一个时间序列，作为第一维的下标"
   ]
  },
  {
   "cell_type": "code",
   "execution_count": 5,
   "metadata": {},
   "outputs": [
    {
     "data": {
      "text/plain": [
       "DatetimeIndex(['2013-01-01', '2013-01-02', '2013-01-03', '2013-01-04',\n",
       "               '2013-01-05', '2013-01-06'],\n",
       "              dtype='datetime64[ns]', freq='D')"
      ]
     },
     "execution_count": 5,
     "metadata": {},
     "output_type": "execute_result"
    }
   ],
   "source": [
    "dates = pd.date_range(\"20130101\", periods=6)\n",
    "dates"
   ]
  },
  {
   "cell_type": "code",
   "execution_count": 6,
   "metadata": {},
   "outputs": [
    {
     "data": {
      "text/html": [
       "<div>\n",
       "<style scoped>\n",
       "    .dataframe tbody tr th:only-of-type {\n",
       "        vertical-align: middle;\n",
       "    }\n",
       "\n",
       "    .dataframe tbody tr th {\n",
       "        vertical-align: top;\n",
       "    }\n",
       "\n",
       "    .dataframe thead th {\n",
       "        text-align: right;\n",
       "    }\n",
       "</style>\n",
       "<table border=\"1\" class=\"dataframe\">\n",
       "  <thead>\n",
       "    <tr style=\"text-align: right;\">\n",
       "      <th></th>\n",
       "      <th>A</th>\n",
       "      <th>B</th>\n",
       "      <th>C</th>\n",
       "      <th>D</th>\n",
       "    </tr>\n",
       "  </thead>\n",
       "  <tbody>\n",
       "    <tr>\n",
       "      <th>2013-01-01</th>\n",
       "      <td>1.354493</td>\n",
       "      <td>-0.322129</td>\n",
       "      <td>0.360092</td>\n",
       "      <td>0.398348</td>\n",
       "    </tr>\n",
       "    <tr>\n",
       "      <th>2013-01-02</th>\n",
       "      <td>-0.080907</td>\n",
       "      <td>0.933953</td>\n",
       "      <td>0.436917</td>\n",
       "      <td>0.287909</td>\n",
       "    </tr>\n",
       "    <tr>\n",
       "      <th>2013-01-03</th>\n",
       "      <td>-0.732833</td>\n",
       "      <td>1.342063</td>\n",
       "      <td>1.747463</td>\n",
       "      <td>0.153798</td>\n",
       "    </tr>\n",
       "    <tr>\n",
       "      <th>2013-01-04</th>\n",
       "      <td>1.239696</td>\n",
       "      <td>2.085579</td>\n",
       "      <td>-0.363481</td>\n",
       "      <td>0.230844</td>\n",
       "    </tr>\n",
       "    <tr>\n",
       "      <th>2013-01-05</th>\n",
       "      <td>0.079313</td>\n",
       "      <td>-0.040295</td>\n",
       "      <td>1.046353</td>\n",
       "      <td>1.242420</td>\n",
       "    </tr>\n",
       "    <tr>\n",
       "      <th>2013-01-06</th>\n",
       "      <td>-1.304693</td>\n",
       "      <td>-1.062144</td>\n",
       "      <td>1.385610</td>\n",
       "      <td>0.326687</td>\n",
       "    </tr>\n",
       "  </tbody>\n",
       "</table>\n",
       "</div>"
      ],
      "text/plain": [
       "                   A         B         C         D\n",
       "2013-01-01  1.354493 -0.322129  0.360092  0.398348\n",
       "2013-01-02 -0.080907  0.933953  0.436917  0.287909\n",
       "2013-01-03 -0.732833  1.342063  1.747463  0.153798\n",
       "2013-01-04  1.239696  2.085579 -0.363481  0.230844\n",
       "2013-01-05  0.079313 -0.040295  1.046353  1.242420\n",
       "2013-01-06 -1.304693 -1.062144  1.385610  0.326687"
      ]
     },
     "execution_count": 6,
     "metadata": {},
     "output_type": "execute_result"
    }
   ],
   "source": [
    "df = pd.DataFrame(np.random.randn(6,4),index=dates,columns=list(\"ABCD\"))\n",
    "df"
   ]
  },
  {
   "cell_type": "markdown",
   "metadata": {},
   "source": [
    "默认情况，如果不指定index和column，则值将用从0开始的数字替代"
   ]
  },
  {
   "cell_type": "markdown",
   "metadata": {},
   "source": [
    "除了向DataFrame 传入二维数组，也可以使用字典传入数据"
   ]
  },
  {
   "cell_type": "code",
   "execution_count": 7,
   "metadata": {},
   "outputs": [
    {
     "data": {
      "text/html": [
       "<div>\n",
       "<style scoped>\n",
       "    .dataframe tbody tr th:only-of-type {\n",
       "        vertical-align: middle;\n",
       "    }\n",
       "\n",
       "    .dataframe tbody tr th {\n",
       "        vertical-align: top;\n",
       "    }\n",
       "\n",
       "    .dataframe thead th {\n",
       "        text-align: right;\n",
       "    }\n",
       "</style>\n",
       "<table border=\"1\" class=\"dataframe\">\n",
       "  <thead>\n",
       "    <tr style=\"text-align: right;\">\n",
       "      <th></th>\n",
       "      <th>a</th>\n",
       "      <th>b</th>\n",
       "      <th>c</th>\n",
       "    </tr>\n",
       "  </thead>\n",
       "  <tbody>\n",
       "    <tr>\n",
       "      <th>0</th>\n",
       "      <td>1</td>\n",
       "      <td>2013-01-01</td>\n",
       "      <td>1.0</td>\n",
       "    </tr>\n",
       "    <tr>\n",
       "      <th>1</th>\n",
       "      <td>1</td>\n",
       "      <td>2013-01-01</td>\n",
       "      <td>1.0</td>\n",
       "    </tr>\n",
       "    <tr>\n",
       "      <th>2</th>\n",
       "      <td>1</td>\n",
       "      <td>2013-01-01</td>\n",
       "      <td>1.0</td>\n",
       "    </tr>\n",
       "    <tr>\n",
       "      <th>3</th>\n",
       "      <td>1</td>\n",
       "      <td>2013-01-01</td>\n",
       "      <td>1.0</td>\n",
       "    </tr>\n",
       "  </tbody>\n",
       "</table>\n",
       "</div>"
      ],
      "text/plain": [
       "   a          b    c\n",
       "0  1 2013-01-01  1.0\n",
       "1  1 2013-01-01  1.0\n",
       "2  1 2013-01-01  1.0\n",
       "3  1 2013-01-01  1.0"
      ]
     },
     "execution_count": 7,
     "metadata": {},
     "output_type": "execute_result"
    }
   ],
   "source": [
    "df2 = pd.DataFrame({\n",
    "    \"a\":1,\n",
    "    \"b\":pd.Timestamp(\"20130101\"),\n",
    "    \"c\":pd.Series(1,index=list(range(4)),dtype=\"float32\")\n",
    "})\n",
    "df2"
   ]
  },
  {
   "cell_type": "markdown",
   "metadata": {},
   "source": [
    "### 查看数据"
   ]
  },
  {
   "cell_type": "markdown",
   "metadata": {},
   "source": [
    "头尾数据"
   ]
  },
  {
   "cell_type": "markdown",
   "metadata": {},
   "source": [
    "head 和 tail 方法可以分别查看最前面几行和最后面几行的数据（默认为5）"
   ]
  },
  {
   "cell_type": "code",
   "execution_count": 8,
   "metadata": {},
   "outputs": [
    {
     "data": {
      "text/html": [
       "<div>\n",
       "<style scoped>\n",
       "    .dataframe tbody tr th:only-of-type {\n",
       "        vertical-align: middle;\n",
       "    }\n",
       "\n",
       "    .dataframe tbody tr th {\n",
       "        vertical-align: top;\n",
       "    }\n",
       "\n",
       "    .dataframe thead th {\n",
       "        text-align: right;\n",
       "    }\n",
       "</style>\n",
       "<table border=\"1\" class=\"dataframe\">\n",
       "  <thead>\n",
       "    <tr style=\"text-align: right;\">\n",
       "      <th></th>\n",
       "      <th>A</th>\n",
       "      <th>B</th>\n",
       "      <th>C</th>\n",
       "      <th>D</th>\n",
       "    </tr>\n",
       "  </thead>\n",
       "  <tbody>\n",
       "    <tr>\n",
       "      <th>2013-01-01</th>\n",
       "      <td>1.354493</td>\n",
       "      <td>-0.322129</td>\n",
       "      <td>0.360092</td>\n",
       "      <td>0.398348</td>\n",
       "    </tr>\n",
       "    <tr>\n",
       "      <th>2013-01-02</th>\n",
       "      <td>-0.080907</td>\n",
       "      <td>0.933953</td>\n",
       "      <td>0.436917</td>\n",
       "      <td>0.287909</td>\n",
       "    </tr>\n",
       "    <tr>\n",
       "      <th>2013-01-03</th>\n",
       "      <td>-0.732833</td>\n",
       "      <td>1.342063</td>\n",
       "      <td>1.747463</td>\n",
       "      <td>0.153798</td>\n",
       "    </tr>\n",
       "    <tr>\n",
       "      <th>2013-01-04</th>\n",
       "      <td>1.239696</td>\n",
       "      <td>2.085579</td>\n",
       "      <td>-0.363481</td>\n",
       "      <td>0.230844</td>\n",
       "    </tr>\n",
       "    <tr>\n",
       "      <th>2013-01-05</th>\n",
       "      <td>0.079313</td>\n",
       "      <td>-0.040295</td>\n",
       "      <td>1.046353</td>\n",
       "      <td>1.242420</td>\n",
       "    </tr>\n",
       "  </tbody>\n",
       "</table>\n",
       "</div>"
      ],
      "text/plain": [
       "                   A         B         C         D\n",
       "2013-01-01  1.354493 -0.322129  0.360092  0.398348\n",
       "2013-01-02 -0.080907  0.933953  0.436917  0.287909\n",
       "2013-01-03 -0.732833  1.342063  1.747463  0.153798\n",
       "2013-01-04  1.239696  2.085579 -0.363481  0.230844\n",
       "2013-01-05  0.079313 -0.040295  1.046353  1.242420"
      ]
     },
     "execution_count": 8,
     "metadata": {},
     "output_type": "execute_result"
    }
   ],
   "source": [
    "df.head()"
   ]
  },
  {
   "cell_type": "code",
   "execution_count": 9,
   "metadata": {},
   "outputs": [
    {
     "data": {
      "text/html": [
       "<div>\n",
       "<style scoped>\n",
       "    .dataframe tbody tr th:only-of-type {\n",
       "        vertical-align: middle;\n",
       "    }\n",
       "\n",
       "    .dataframe tbody tr th {\n",
       "        vertical-align: top;\n",
       "    }\n",
       "\n",
       "    .dataframe thead th {\n",
       "        text-align: right;\n",
       "    }\n",
       "</style>\n",
       "<table border=\"1\" class=\"dataframe\">\n",
       "  <thead>\n",
       "    <tr style=\"text-align: right;\">\n",
       "      <th></th>\n",
       "      <th>A</th>\n",
       "      <th>B</th>\n",
       "      <th>C</th>\n",
       "      <th>D</th>\n",
       "    </tr>\n",
       "  </thead>\n",
       "  <tbody>\n",
       "    <tr>\n",
       "      <th>2013-01-02</th>\n",
       "      <td>-0.080907</td>\n",
       "      <td>0.933953</td>\n",
       "      <td>0.436917</td>\n",
       "      <td>0.287909</td>\n",
       "    </tr>\n",
       "    <tr>\n",
       "      <th>2013-01-03</th>\n",
       "      <td>-0.732833</td>\n",
       "      <td>1.342063</td>\n",
       "      <td>1.747463</td>\n",
       "      <td>0.153798</td>\n",
       "    </tr>\n",
       "    <tr>\n",
       "      <th>2013-01-04</th>\n",
       "      <td>1.239696</td>\n",
       "      <td>2.085579</td>\n",
       "      <td>-0.363481</td>\n",
       "      <td>0.230844</td>\n",
       "    </tr>\n",
       "    <tr>\n",
       "      <th>2013-01-05</th>\n",
       "      <td>0.079313</td>\n",
       "      <td>-0.040295</td>\n",
       "      <td>1.046353</td>\n",
       "      <td>1.242420</td>\n",
       "    </tr>\n",
       "    <tr>\n",
       "      <th>2013-01-06</th>\n",
       "      <td>-1.304693</td>\n",
       "      <td>-1.062144</td>\n",
       "      <td>1.385610</td>\n",
       "      <td>0.326687</td>\n",
       "    </tr>\n",
       "  </tbody>\n",
       "</table>\n",
       "</div>"
      ],
      "text/plain": [
       "                   A         B         C         D\n",
       "2013-01-02 -0.080907  0.933953  0.436917  0.287909\n",
       "2013-01-03 -0.732833  1.342063  1.747463  0.153798\n",
       "2013-01-04  1.239696  2.085579 -0.363481  0.230844\n",
       "2013-01-05  0.079313 -0.040295  1.046353  1.242420\n",
       "2013-01-06 -1.304693 -1.062144  1.385610  0.326687"
      ]
     },
     "execution_count": 9,
     "metadata": {},
     "output_type": "execute_result"
    }
   ],
   "source": [
    "df.tail()"
   ]
  },
  {
   "cell_type": "markdown",
   "metadata": {},
   "source": [
    "### 下标，列标，数据"
   ]
  },
  {
   "cell_type": "markdown",
   "metadata": {},
   "source": [
    "下标"
   ]
  },
  {
   "cell_type": "code",
   "execution_count": 10,
   "metadata": {},
   "outputs": [
    {
     "data": {
      "text/plain": [
       "DatetimeIndex(['2013-01-01', '2013-01-02', '2013-01-03', '2013-01-04',\n",
       "               '2013-01-05', '2013-01-06'],\n",
       "              dtype='datetime64[ns]', freq='D')"
      ]
     },
     "execution_count": 10,
     "metadata": {},
     "output_type": "execute_result"
    }
   ],
   "source": [
    "df.index"
   ]
  },
  {
   "cell_type": "markdown",
   "metadata": {},
   "source": [
    "列标"
   ]
  },
  {
   "cell_type": "code",
   "execution_count": 11,
   "metadata": {},
   "outputs": [
    {
     "data": {
      "text/plain": [
       "Index(['A', 'B', 'C', 'D'], dtype='object')"
      ]
     },
     "execution_count": 11,
     "metadata": {},
     "output_type": "execute_result"
    }
   ],
   "source": [
    "df.columns"
   ]
  },
  {
   "cell_type": "markdown",
   "metadata": {},
   "source": [
    "数据值"
   ]
  },
  {
   "cell_type": "code",
   "execution_count": 12,
   "metadata": {},
   "outputs": [
    {
     "data": {
      "text/plain": [
       "array([[ 1.35449255, -0.32212928,  0.36009183,  0.39834765],\n",
       "       [-0.08090677,  0.93395307,  0.43691745,  0.28790887],\n",
       "       [-0.73283262,  1.34206282,  1.74746289,  0.15379825],\n",
       "       [ 1.23969584,  2.08557897, -0.36348149,  0.23084361],\n",
       "       [ 0.07931252, -0.04029528,  1.0463533 ,  1.24241986],\n",
       "       [-1.30469328, -1.06214382,  1.38560961,  0.32668735]])"
      ]
     },
     "execution_count": 12,
     "metadata": {},
     "output_type": "execute_result"
    }
   ],
   "source": [
    "df.values"
   ]
  },
  {
   "cell_type": "markdown",
   "metadata": {},
   "source": [
    "### 排序"
   ]
  },
  {
   "cell_type": "markdown",
   "metadata": {},
   "source": [
    "sort_index 方法按照下标大小排序，axis=0表示按照第0维排序"
   ]
  },
  {
   "cell_type": "code",
   "execution_count": 13,
   "metadata": {},
   "outputs": [
    {
     "data": {
      "text/html": [
       "<div>\n",
       "<style scoped>\n",
       "    .dataframe tbody tr th:only-of-type {\n",
       "        vertical-align: middle;\n",
       "    }\n",
       "\n",
       "    .dataframe tbody tr th {\n",
       "        vertical-align: top;\n",
       "    }\n",
       "\n",
       "    .dataframe thead th {\n",
       "        text-align: right;\n",
       "    }\n",
       "</style>\n",
       "<table border=\"1\" class=\"dataframe\">\n",
       "  <thead>\n",
       "    <tr style=\"text-align: right;\">\n",
       "      <th></th>\n",
       "      <th>A</th>\n",
       "      <th>B</th>\n",
       "      <th>C</th>\n",
       "      <th>D</th>\n",
       "    </tr>\n",
       "  </thead>\n",
       "  <tbody>\n",
       "    <tr>\n",
       "      <th>2013-01-01</th>\n",
       "      <td>1.354493</td>\n",
       "      <td>-0.322129</td>\n",
       "      <td>0.360092</td>\n",
       "      <td>0.398348</td>\n",
       "    </tr>\n",
       "    <tr>\n",
       "      <th>2013-01-02</th>\n",
       "      <td>-0.080907</td>\n",
       "      <td>0.933953</td>\n",
       "      <td>0.436917</td>\n",
       "      <td>0.287909</td>\n",
       "    </tr>\n",
       "    <tr>\n",
       "      <th>2013-01-03</th>\n",
       "      <td>-0.732833</td>\n",
       "      <td>1.342063</td>\n",
       "      <td>1.747463</td>\n",
       "      <td>0.153798</td>\n",
       "    </tr>\n",
       "    <tr>\n",
       "      <th>2013-01-04</th>\n",
       "      <td>1.239696</td>\n",
       "      <td>2.085579</td>\n",
       "      <td>-0.363481</td>\n",
       "      <td>0.230844</td>\n",
       "    </tr>\n",
       "    <tr>\n",
       "      <th>2013-01-05</th>\n",
       "      <td>0.079313</td>\n",
       "      <td>-0.040295</td>\n",
       "      <td>1.046353</td>\n",
       "      <td>1.242420</td>\n",
       "    </tr>\n",
       "    <tr>\n",
       "      <th>2013-01-06</th>\n",
       "      <td>-1.304693</td>\n",
       "      <td>-1.062144</td>\n",
       "      <td>1.385610</td>\n",
       "      <td>0.326687</td>\n",
       "    </tr>\n",
       "  </tbody>\n",
       "</table>\n",
       "</div>"
      ],
      "text/plain": [
       "                   A         B         C         D\n",
       "2013-01-01  1.354493 -0.322129  0.360092  0.398348\n",
       "2013-01-02 -0.080907  0.933953  0.436917  0.287909\n",
       "2013-01-03 -0.732833  1.342063  1.747463  0.153798\n",
       "2013-01-04  1.239696  2.085579 -0.363481  0.230844\n",
       "2013-01-05  0.079313 -0.040295  1.046353  1.242420\n",
       "2013-01-06 -1.304693 -1.062144  1.385610  0.326687"
      ]
     },
     "execution_count": 13,
     "metadata": {},
     "output_type": "execute_result"
    }
   ],
   "source": [
    "df"
   ]
  },
  {
   "cell_type": "code",
   "execution_count": 14,
   "metadata": {},
   "outputs": [
    {
     "data": {
      "text/html": [
       "<div>\n",
       "<style scoped>\n",
       "    .dataframe tbody tr th:only-of-type {\n",
       "        vertical-align: middle;\n",
       "    }\n",
       "\n",
       "    .dataframe tbody tr th {\n",
       "        vertical-align: top;\n",
       "    }\n",
       "\n",
       "    .dataframe thead th {\n",
       "        text-align: right;\n",
       "    }\n",
       "</style>\n",
       "<table border=\"1\" class=\"dataframe\">\n",
       "  <thead>\n",
       "    <tr style=\"text-align: right;\">\n",
       "      <th></th>\n",
       "      <th>A</th>\n",
       "      <th>B</th>\n",
       "      <th>C</th>\n",
       "      <th>D</th>\n",
       "    </tr>\n",
       "  </thead>\n",
       "  <tbody>\n",
       "    <tr>\n",
       "      <th>2013-01-06</th>\n",
       "      <td>-1.304693</td>\n",
       "      <td>-1.062144</td>\n",
       "      <td>1.385610</td>\n",
       "      <td>0.326687</td>\n",
       "    </tr>\n",
       "    <tr>\n",
       "      <th>2013-01-05</th>\n",
       "      <td>0.079313</td>\n",
       "      <td>-0.040295</td>\n",
       "      <td>1.046353</td>\n",
       "      <td>1.242420</td>\n",
       "    </tr>\n",
       "    <tr>\n",
       "      <th>2013-01-04</th>\n",
       "      <td>1.239696</td>\n",
       "      <td>2.085579</td>\n",
       "      <td>-0.363481</td>\n",
       "      <td>0.230844</td>\n",
       "    </tr>\n",
       "    <tr>\n",
       "      <th>2013-01-03</th>\n",
       "      <td>-0.732833</td>\n",
       "      <td>1.342063</td>\n",
       "      <td>1.747463</td>\n",
       "      <td>0.153798</td>\n",
       "    </tr>\n",
       "    <tr>\n",
       "      <th>2013-01-02</th>\n",
       "      <td>-0.080907</td>\n",
       "      <td>0.933953</td>\n",
       "      <td>0.436917</td>\n",
       "      <td>0.287909</td>\n",
       "    </tr>\n",
       "    <tr>\n",
       "      <th>2013-01-01</th>\n",
       "      <td>1.354493</td>\n",
       "      <td>-0.322129</td>\n",
       "      <td>0.360092</td>\n",
       "      <td>0.398348</td>\n",
       "    </tr>\n",
       "  </tbody>\n",
       "</table>\n",
       "</div>"
      ],
      "text/plain": [
       "                   A         B         C         D\n",
       "2013-01-06 -1.304693 -1.062144  1.385610  0.326687\n",
       "2013-01-05  0.079313 -0.040295  1.046353  1.242420\n",
       "2013-01-04  1.239696  2.085579 -0.363481  0.230844\n",
       "2013-01-03 -0.732833  1.342063  1.747463  0.153798\n",
       "2013-01-02 -0.080907  0.933953  0.436917  0.287909\n",
       "2013-01-01  1.354493 -0.322129  0.360092  0.398348"
      ]
     },
     "execution_count": 14,
     "metadata": {},
     "output_type": "execute_result"
    }
   ],
   "source": [
    "df.sort_index(ascending=False)"
   ]
  },
  {
   "cell_type": "code",
   "execution_count": 15,
   "metadata": {},
   "outputs": [
    {
     "data": {
      "text/html": [
       "<div>\n",
       "<style scoped>\n",
       "    .dataframe tbody tr th:only-of-type {\n",
       "        vertical-align: middle;\n",
       "    }\n",
       "\n",
       "    .dataframe tbody tr th {\n",
       "        vertical-align: top;\n",
       "    }\n",
       "\n",
       "    .dataframe thead th {\n",
       "        text-align: right;\n",
       "    }\n",
       "</style>\n",
       "<table border=\"1\" class=\"dataframe\">\n",
       "  <thead>\n",
       "    <tr style=\"text-align: right;\">\n",
       "      <th></th>\n",
       "      <th>D</th>\n",
       "      <th>C</th>\n",
       "      <th>B</th>\n",
       "      <th>A</th>\n",
       "    </tr>\n",
       "  </thead>\n",
       "  <tbody>\n",
       "    <tr>\n",
       "      <th>2013-01-01</th>\n",
       "      <td>0.398348</td>\n",
       "      <td>0.360092</td>\n",
       "      <td>-0.322129</td>\n",
       "      <td>1.354493</td>\n",
       "    </tr>\n",
       "    <tr>\n",
       "      <th>2013-01-02</th>\n",
       "      <td>0.287909</td>\n",
       "      <td>0.436917</td>\n",
       "      <td>0.933953</td>\n",
       "      <td>-0.080907</td>\n",
       "    </tr>\n",
       "    <tr>\n",
       "      <th>2013-01-03</th>\n",
       "      <td>0.153798</td>\n",
       "      <td>1.747463</td>\n",
       "      <td>1.342063</td>\n",
       "      <td>-0.732833</td>\n",
       "    </tr>\n",
       "    <tr>\n",
       "      <th>2013-01-04</th>\n",
       "      <td>0.230844</td>\n",
       "      <td>-0.363481</td>\n",
       "      <td>2.085579</td>\n",
       "      <td>1.239696</td>\n",
       "    </tr>\n",
       "    <tr>\n",
       "      <th>2013-01-05</th>\n",
       "      <td>1.242420</td>\n",
       "      <td>1.046353</td>\n",
       "      <td>-0.040295</td>\n",
       "      <td>0.079313</td>\n",
       "    </tr>\n",
       "    <tr>\n",
       "      <th>2013-01-06</th>\n",
       "      <td>0.326687</td>\n",
       "      <td>1.385610</td>\n",
       "      <td>-1.062144</td>\n",
       "      <td>-1.304693</td>\n",
       "    </tr>\n",
       "  </tbody>\n",
       "</table>\n",
       "</div>"
      ],
      "text/plain": [
       "                   D         C         B         A\n",
       "2013-01-01  0.398348  0.360092 -0.322129  1.354493\n",
       "2013-01-02  0.287909  0.436917  0.933953 -0.080907\n",
       "2013-01-03  0.153798  1.747463  1.342063 -0.732833\n",
       "2013-01-04  0.230844 -0.363481  2.085579  1.239696\n",
       "2013-01-05  1.242420  1.046353 -0.040295  0.079313\n",
       "2013-01-06  0.326687  1.385610 -1.062144 -1.304693"
      ]
     },
     "execution_count": 15,
     "metadata": {},
     "output_type": "execute_result"
    }
   ],
   "source": [
    "df.sort_index(axis=1, ascending=False)"
   ]
  },
  {
   "cell_type": "markdown",
   "metadata": {},
   "source": [
    "sort_values 按照 by 值的大小进行排序"
   ]
  },
  {
   "cell_type": "code",
   "execution_count": 16,
   "metadata": {},
   "outputs": [
    {
     "data": {
      "text/html": [
       "<div>\n",
       "<style scoped>\n",
       "    .dataframe tbody tr th:only-of-type {\n",
       "        vertical-align: middle;\n",
       "    }\n",
       "\n",
       "    .dataframe tbody tr th {\n",
       "        vertical-align: top;\n",
       "    }\n",
       "\n",
       "    .dataframe thead th {\n",
       "        text-align: right;\n",
       "    }\n",
       "</style>\n",
       "<table border=\"1\" class=\"dataframe\">\n",
       "  <thead>\n",
       "    <tr style=\"text-align: right;\">\n",
       "      <th></th>\n",
       "      <th>A</th>\n",
       "      <th>B</th>\n",
       "      <th>C</th>\n",
       "      <th>D</th>\n",
       "    </tr>\n",
       "  </thead>\n",
       "  <tbody>\n",
       "    <tr>\n",
       "      <th>2013-01-06</th>\n",
       "      <td>-1.304693</td>\n",
       "      <td>-1.062144</td>\n",
       "      <td>1.385610</td>\n",
       "      <td>0.326687</td>\n",
       "    </tr>\n",
       "    <tr>\n",
       "      <th>2013-01-03</th>\n",
       "      <td>-0.732833</td>\n",
       "      <td>1.342063</td>\n",
       "      <td>1.747463</td>\n",
       "      <td>0.153798</td>\n",
       "    </tr>\n",
       "    <tr>\n",
       "      <th>2013-01-02</th>\n",
       "      <td>-0.080907</td>\n",
       "      <td>0.933953</td>\n",
       "      <td>0.436917</td>\n",
       "      <td>0.287909</td>\n",
       "    </tr>\n",
       "    <tr>\n",
       "      <th>2013-01-05</th>\n",
       "      <td>0.079313</td>\n",
       "      <td>-0.040295</td>\n",
       "      <td>1.046353</td>\n",
       "      <td>1.242420</td>\n",
       "    </tr>\n",
       "    <tr>\n",
       "      <th>2013-01-04</th>\n",
       "      <td>1.239696</td>\n",
       "      <td>2.085579</td>\n",
       "      <td>-0.363481</td>\n",
       "      <td>0.230844</td>\n",
       "    </tr>\n",
       "    <tr>\n",
       "      <th>2013-01-01</th>\n",
       "      <td>1.354493</td>\n",
       "      <td>-0.322129</td>\n",
       "      <td>0.360092</td>\n",
       "      <td>0.398348</td>\n",
       "    </tr>\n",
       "  </tbody>\n",
       "</table>\n",
       "</div>"
      ],
      "text/plain": [
       "                   A         B         C         D\n",
       "2013-01-06 -1.304693 -1.062144  1.385610  0.326687\n",
       "2013-01-03 -0.732833  1.342063  1.747463  0.153798\n",
       "2013-01-02 -0.080907  0.933953  0.436917  0.287909\n",
       "2013-01-05  0.079313 -0.040295  1.046353  1.242420\n",
       "2013-01-04  1.239696  2.085579 -0.363481  0.230844\n",
       "2013-01-01  1.354493 -0.322129  0.360092  0.398348"
      ]
     },
     "execution_count": 16,
     "metadata": {},
     "output_type": "execute_result"
    }
   ],
   "source": [
    "df.sort_values(by=\"A\")"
   ]
  },
  {
   "cell_type": "code",
   "execution_count": 17,
   "metadata": {},
   "outputs": [
    {
     "data": {
      "text/html": [
       "<div>\n",
       "<style scoped>\n",
       "    .dataframe tbody tr th:only-of-type {\n",
       "        vertical-align: middle;\n",
       "    }\n",
       "\n",
       "    .dataframe tbody tr th {\n",
       "        vertical-align: top;\n",
       "    }\n",
       "\n",
       "    .dataframe thead th {\n",
       "        text-align: right;\n",
       "    }\n",
       "</style>\n",
       "<table border=\"1\" class=\"dataframe\">\n",
       "  <thead>\n",
       "    <tr style=\"text-align: right;\">\n",
       "      <th></th>\n",
       "      <th>A</th>\n",
       "      <th>B</th>\n",
       "      <th>C</th>\n",
       "      <th>D</th>\n",
       "    </tr>\n",
       "  </thead>\n",
       "  <tbody>\n",
       "    <tr>\n",
       "      <th>2013-01-01</th>\n",
       "      <td>1.354493</td>\n",
       "      <td>-0.322129</td>\n",
       "      <td>0.360092</td>\n",
       "      <td>0.398348</td>\n",
       "    </tr>\n",
       "    <tr>\n",
       "      <th>2013-01-04</th>\n",
       "      <td>1.239696</td>\n",
       "      <td>2.085579</td>\n",
       "      <td>-0.363481</td>\n",
       "      <td>0.230844</td>\n",
       "    </tr>\n",
       "    <tr>\n",
       "      <th>2013-01-05</th>\n",
       "      <td>0.079313</td>\n",
       "      <td>-0.040295</td>\n",
       "      <td>1.046353</td>\n",
       "      <td>1.242420</td>\n",
       "    </tr>\n",
       "    <tr>\n",
       "      <th>2013-01-02</th>\n",
       "      <td>-0.080907</td>\n",
       "      <td>0.933953</td>\n",
       "      <td>0.436917</td>\n",
       "      <td>0.287909</td>\n",
       "    </tr>\n",
       "    <tr>\n",
       "      <th>2013-01-03</th>\n",
       "      <td>-0.732833</td>\n",
       "      <td>1.342063</td>\n",
       "      <td>1.747463</td>\n",
       "      <td>0.153798</td>\n",
       "    </tr>\n",
       "    <tr>\n",
       "      <th>2013-01-06</th>\n",
       "      <td>-1.304693</td>\n",
       "      <td>-1.062144</td>\n",
       "      <td>1.385610</td>\n",
       "      <td>0.326687</td>\n",
       "    </tr>\n",
       "  </tbody>\n",
       "</table>\n",
       "</div>"
      ],
      "text/plain": [
       "                   A         B         C         D\n",
       "2013-01-01  1.354493 -0.322129  0.360092  0.398348\n",
       "2013-01-04  1.239696  2.085579 -0.363481  0.230844\n",
       "2013-01-05  0.079313 -0.040295  1.046353  1.242420\n",
       "2013-01-02 -0.080907  0.933953  0.436917  0.287909\n",
       "2013-01-03 -0.732833  1.342063  1.747463  0.153798\n",
       "2013-01-06 -1.304693 -1.062144  1.385610  0.326687"
      ]
     },
     "execution_count": 17,
     "metadata": {},
     "output_type": "execute_result"
    }
   ],
   "source": [
    "df.sort_values(by=\"A\", ascending=False)"
   ]
  },
  {
   "cell_type": "markdown",
   "metadata": {},
   "source": [
    "### 索引"
   ]
  },
  {
   "cell_type": "markdown",
   "metadata": {},
   "source": [
    "虽然 DataFrame 支持 Python/Numpy的索引语法，但是推荐使用 .at, .iat, .loc, .iloc 和 .ix 方法进行索引"
   ]
  },
  {
   "cell_type": "code",
   "execution_count": 18,
   "metadata": {},
   "outputs": [
    {
     "data": {
      "text/plain": [
       "2013-01-01    1.354493\n",
       "2013-01-02   -0.080907\n",
       "2013-01-03   -0.732833\n",
       "2013-01-04    1.239696\n",
       "2013-01-05    0.079313\n",
       "2013-01-06   -1.304693\n",
       "Freq: D, Name: A, dtype: float64"
      ]
     },
     "execution_count": 18,
     "metadata": {},
     "output_type": "execute_result"
    }
   ],
   "source": [
    "# 读取数据\n",
    "df['A']"
   ]
  },
  {
   "cell_type": "code",
   "execution_count": 19,
   "metadata": {},
   "outputs": [
    {
     "data": {
      "text/plain": [
       "2013-01-01    1.354493\n",
       "2013-01-02   -0.080907\n",
       "2013-01-03   -0.732833\n",
       "2013-01-04    1.239696\n",
       "2013-01-05    0.079313\n",
       "2013-01-06   -1.304693\n",
       "Freq: D, Name: A, dtype: float64"
      ]
     },
     "execution_count": 19,
     "metadata": {},
     "output_type": "execute_result"
    }
   ],
   "source": [
    "df.A"
   ]
  },
  {
   "cell_type": "code",
   "execution_count": 20,
   "metadata": {},
   "outputs": [
    {
     "data": {
      "text/html": [
       "<div>\n",
       "<style scoped>\n",
       "    .dataframe tbody tr th:only-of-type {\n",
       "        vertical-align: middle;\n",
       "    }\n",
       "\n",
       "    .dataframe tbody tr th {\n",
       "        vertical-align: top;\n",
       "    }\n",
       "\n",
       "    .dataframe thead th {\n",
       "        text-align: right;\n",
       "    }\n",
       "</style>\n",
       "<table border=\"1\" class=\"dataframe\">\n",
       "  <thead>\n",
       "    <tr style=\"text-align: right;\">\n",
       "      <th></th>\n",
       "      <th>A</th>\n",
       "      <th>B</th>\n",
       "      <th>C</th>\n",
       "      <th>D</th>\n",
       "    </tr>\n",
       "  </thead>\n",
       "  <tbody>\n",
       "    <tr>\n",
       "      <th>2013-01-02</th>\n",
       "      <td>-0.080907</td>\n",
       "      <td>0.933953</td>\n",
       "      <td>0.436917</td>\n",
       "      <td>0.287909</td>\n",
       "    </tr>\n",
       "    <tr>\n",
       "      <th>2013-01-03</th>\n",
       "      <td>-0.732833</td>\n",
       "      <td>1.342063</td>\n",
       "      <td>1.747463</td>\n",
       "      <td>0.153798</td>\n",
       "    </tr>\n",
       "  </tbody>\n",
       "</table>\n",
       "</div>"
      ],
      "text/plain": [
       "                   A         B         C         D\n",
       "2013-01-02 -0.080907  0.933953  0.436917  0.287909\n",
       "2013-01-03 -0.732833  1.342063  1.747463  0.153798"
      ]
     },
     "execution_count": 20,
     "metadata": {},
     "output_type": "execute_result"
    }
   ],
   "source": [
    "# 使用切片读取多行\n",
    "df[1:3]"
   ]
  },
  {
   "cell_type": "code",
   "execution_count": 21,
   "metadata": {},
   "outputs": [
    {
     "data": {
      "text/html": [
       "<div>\n",
       "<style scoped>\n",
       "    .dataframe tbody tr th:only-of-type {\n",
       "        vertical-align: middle;\n",
       "    }\n",
       "\n",
       "    .dataframe tbody tr th {\n",
       "        vertical-align: top;\n",
       "    }\n",
       "\n",
       "    .dataframe thead th {\n",
       "        text-align: right;\n",
       "    }\n",
       "</style>\n",
       "<table border=\"1\" class=\"dataframe\">\n",
       "  <thead>\n",
       "    <tr style=\"text-align: right;\">\n",
       "      <th></th>\n",
       "      <th>A</th>\n",
       "      <th>B</th>\n",
       "      <th>C</th>\n",
       "      <th>D</th>\n",
       "    </tr>\n",
       "  </thead>\n",
       "  <tbody>\n",
       "    <tr>\n",
       "      <th>2013-01-03</th>\n",
       "      <td>-0.732833</td>\n",
       "      <td>1.342063</td>\n",
       "      <td>1.747463</td>\n",
       "      <td>0.153798</td>\n",
       "    </tr>\n",
       "    <tr>\n",
       "      <th>2013-01-04</th>\n",
       "      <td>1.239696</td>\n",
       "      <td>2.085579</td>\n",
       "      <td>-0.363481</td>\n",
       "      <td>0.230844</td>\n",
       "    </tr>\n",
       "    <tr>\n",
       "      <th>2013-01-05</th>\n",
       "      <td>0.079313</td>\n",
       "      <td>-0.040295</td>\n",
       "      <td>1.046353</td>\n",
       "      <td>1.242420</td>\n",
       "    </tr>\n",
       "    <tr>\n",
       "      <th>2013-01-06</th>\n",
       "      <td>-1.304693</td>\n",
       "      <td>-1.062144</td>\n",
       "      <td>1.385610</td>\n",
       "      <td>0.326687</td>\n",
       "    </tr>\n",
       "  </tbody>\n",
       "</table>\n",
       "</div>"
      ],
      "text/plain": [
       "                   A         B         C         D\n",
       "2013-01-03 -0.732833  1.342063  1.747463  0.153798\n",
       "2013-01-04  1.239696  2.085579 -0.363481  0.230844\n",
       "2013-01-05  0.079313 -0.040295  1.046353  1.242420\n",
       "2013-01-06 -1.304693 -1.062144  1.385610  0.326687"
      ]
     },
     "execution_count": 21,
     "metadata": {},
     "output_type": "execute_result"
    }
   ],
   "source": [
    "# 按名字进行切片\n",
    "df[\"2013-01-03\":\"2013-01-06\"]"
   ]
  },
  {
   "cell_type": "markdown",
   "metadata": {},
   "source": [
    "#### 使用 label 进行索引 - loc"
   ]
  },
  {
   "cell_type": "code",
   "execution_count": 22,
   "metadata": {},
   "outputs": [
    {
     "data": {
      "text/plain": [
       "2013-01-01   -0.322129\n",
       "2013-01-02    0.933953\n",
       "2013-01-03    1.342063\n",
       "2013-01-04    2.085579\n",
       "2013-01-05   -0.040295\n",
       "2013-01-06   -1.062144\n",
       "Freq: D, Name: B, dtype: float64"
      ]
     },
     "execution_count": 22,
     "metadata": {},
     "output_type": "execute_result"
    }
   ],
   "source": [
    "df.loc[:,'B']"
   ]
  },
  {
   "cell_type": "code",
   "execution_count": 23,
   "metadata": {},
   "outputs": [
    {
     "data": {
      "text/html": [
       "<div>\n",
       "<style scoped>\n",
       "    .dataframe tbody tr th:only-of-type {\n",
       "        vertical-align: middle;\n",
       "    }\n",
       "\n",
       "    .dataframe tbody tr th {\n",
       "        vertical-align: top;\n",
       "    }\n",
       "\n",
       "    .dataframe thead th {\n",
       "        text-align: right;\n",
       "    }\n",
       "</style>\n",
       "<table border=\"1\" class=\"dataframe\">\n",
       "  <thead>\n",
       "    <tr style=\"text-align: right;\">\n",
       "      <th></th>\n",
       "      <th>B</th>\n",
       "      <th>D</th>\n",
       "    </tr>\n",
       "  </thead>\n",
       "  <tbody>\n",
       "    <tr>\n",
       "      <th>2013-01-02</th>\n",
       "      <td>0.933953</td>\n",
       "      <td>0.287909</td>\n",
       "    </tr>\n",
       "    <tr>\n",
       "      <th>2013-01-03</th>\n",
       "      <td>1.342063</td>\n",
       "      <td>0.153798</td>\n",
       "    </tr>\n",
       "    <tr>\n",
       "      <th>2013-01-04</th>\n",
       "      <td>2.085579</td>\n",
       "      <td>0.230844</td>\n",
       "    </tr>\n",
       "    <tr>\n",
       "      <th>2013-01-05</th>\n",
       "      <td>-0.040295</td>\n",
       "      <td>1.242420</td>\n",
       "    </tr>\n",
       "  </tbody>\n",
       "</table>\n",
       "</div>"
      ],
      "text/plain": [
       "                   B         D\n",
       "2013-01-02  0.933953  0.287909\n",
       "2013-01-03  1.342063  0.153798\n",
       "2013-01-04  2.085579  0.230844\n",
       "2013-01-05 -0.040295  1.242420"
      ]
     },
     "execution_count": 23,
     "metadata": {},
     "output_type": "execute_result"
    }
   ],
   "source": [
    "# 选择多行多列\n",
    "df.loc[\"2013-01-02\":\"2013-01-05\",[\"B\",\"D\"]]"
   ]
  },
  {
   "cell_type": "code",
   "execution_count": 24,
   "metadata": {},
   "outputs": [
    {
     "data": {
      "text/plain": [
       "A   -0.080907\n",
       "C    0.436917\n",
       "Name: 2013-01-02 00:00:00, dtype: float64"
      ]
     },
     "execution_count": 24,
     "metadata": {},
     "output_type": "execute_result"
    }
   ],
   "source": [
    "# 数据降维\n",
    "df.loc[\"20130102\",[\"A\",\"C\"]]"
   ]
  },
  {
   "cell_type": "code",
   "execution_count": 25,
   "metadata": {},
   "outputs": [
    {
     "data": {
      "text/plain": [
       "0.07931252391232498"
      ]
     },
     "execution_count": 25,
     "metadata": {},
     "output_type": "execute_result"
    }
   ],
   "source": [
    "# 直接获取标量值\n",
    "df.loc[\"2013-01-05\",\"A\"]"
   ]
  },
  {
   "cell_type": "markdown",
   "metadata": {},
   "source": [
    "#### 使用位置索引 - iloc"
   ]
  },
  {
   "cell_type": "code",
   "execution_count": 26,
   "metadata": {},
   "outputs": [
    {
     "data": {
      "text/html": [
       "<div>\n",
       "<style scoped>\n",
       "    .dataframe tbody tr th:only-of-type {\n",
       "        vertical-align: middle;\n",
       "    }\n",
       "\n",
       "    .dataframe tbody tr th {\n",
       "        vertical-align: top;\n",
       "    }\n",
       "\n",
       "    .dataframe thead th {\n",
       "        text-align: right;\n",
       "    }\n",
       "</style>\n",
       "<table border=\"1\" class=\"dataframe\">\n",
       "  <thead>\n",
       "    <tr style=\"text-align: right;\">\n",
       "      <th></th>\n",
       "      <th>A</th>\n",
       "      <th>B</th>\n",
       "      <th>C</th>\n",
       "      <th>D</th>\n",
       "    </tr>\n",
       "  </thead>\n",
       "  <tbody>\n",
       "    <tr>\n",
       "      <th>2013-01-01</th>\n",
       "      <td>1.354493</td>\n",
       "      <td>-0.322129</td>\n",
       "      <td>0.360092</td>\n",
       "      <td>0.398348</td>\n",
       "    </tr>\n",
       "    <tr>\n",
       "      <th>2013-01-02</th>\n",
       "      <td>-0.080907</td>\n",
       "      <td>0.933953</td>\n",
       "      <td>0.436917</td>\n",
       "      <td>0.287909</td>\n",
       "    </tr>\n",
       "    <tr>\n",
       "      <th>2013-01-03</th>\n",
       "      <td>-0.732833</td>\n",
       "      <td>1.342063</td>\n",
       "      <td>1.747463</td>\n",
       "      <td>0.153798</td>\n",
       "    </tr>\n",
       "    <tr>\n",
       "      <th>2013-01-04</th>\n",
       "      <td>1.239696</td>\n",
       "      <td>2.085579</td>\n",
       "      <td>-0.363481</td>\n",
       "      <td>0.230844</td>\n",
       "    </tr>\n",
       "    <tr>\n",
       "      <th>2013-01-05</th>\n",
       "      <td>0.079313</td>\n",
       "      <td>-0.040295</td>\n",
       "      <td>1.046353</td>\n",
       "      <td>1.242420</td>\n",
       "    </tr>\n",
       "    <tr>\n",
       "      <th>2013-01-06</th>\n",
       "      <td>-1.304693</td>\n",
       "      <td>-1.062144</td>\n",
       "      <td>1.385610</td>\n",
       "      <td>0.326687</td>\n",
       "    </tr>\n",
       "  </tbody>\n",
       "</table>\n",
       "</div>"
      ],
      "text/plain": [
       "                   A         B         C         D\n",
       "2013-01-01  1.354493 -0.322129  0.360092  0.398348\n",
       "2013-01-02 -0.080907  0.933953  0.436917  0.287909\n",
       "2013-01-03 -0.732833  1.342063  1.747463  0.153798\n",
       "2013-01-04  1.239696  2.085579 -0.363481  0.230844\n",
       "2013-01-05  0.079313 -0.040295  1.046353  1.242420\n",
       "2013-01-06 -1.304693 -1.062144  1.385610  0.326687"
      ]
     },
     "execution_count": 26,
     "metadata": {},
     "output_type": "execute_result"
    }
   ],
   "source": [
    "df"
   ]
  },
  {
   "cell_type": "code",
   "execution_count": 27,
   "metadata": {},
   "outputs": [
    {
     "data": {
      "text/plain": [
       "A   -0.080907\n",
       "B    0.933953\n",
       "C    0.436917\n",
       "D    0.287909\n",
       "Name: 2013-01-02 00:00:00, dtype: float64"
      ]
     },
     "execution_count": 27,
     "metadata": {},
     "output_type": "execute_result"
    }
   ],
   "source": [
    "df.iloc[1]"
   ]
  },
  {
   "cell_type": "markdown",
   "metadata": {},
   "source": [
    "连续切片"
   ]
  },
  {
   "cell_type": "code",
   "execution_count": 28,
   "metadata": {},
   "outputs": [
    {
     "data": {
      "text/html": [
       "<div>\n",
       "<style scoped>\n",
       "    .dataframe tbody tr th:only-of-type {\n",
       "        vertical-align: middle;\n",
       "    }\n",
       "\n",
       "    .dataframe tbody tr th {\n",
       "        vertical-align: top;\n",
       "    }\n",
       "\n",
       "    .dataframe thead th {\n",
       "        text-align: right;\n",
       "    }\n",
       "</style>\n",
       "<table border=\"1\" class=\"dataframe\">\n",
       "  <thead>\n",
       "    <tr style=\"text-align: right;\">\n",
       "      <th></th>\n",
       "      <th>B</th>\n",
       "      <th>C</th>\n",
       "    </tr>\n",
       "  </thead>\n",
       "  <tbody>\n",
       "    <tr>\n",
       "      <th>2013-01-03</th>\n",
       "      <td>1.342063</td>\n",
       "      <td>1.747463</td>\n",
       "    </tr>\n",
       "    <tr>\n",
       "      <th>2013-01-04</th>\n",
       "      <td>2.085579</td>\n",
       "      <td>-0.363481</td>\n",
       "    </tr>\n",
       "    <tr>\n",
       "      <th>2013-01-05</th>\n",
       "      <td>-0.040295</td>\n",
       "      <td>1.046353</td>\n",
       "    </tr>\n",
       "  </tbody>\n",
       "</table>\n",
       "</div>"
      ],
      "text/plain": [
       "                   B         C\n",
       "2013-01-03  1.342063  1.747463\n",
       "2013-01-04  2.085579 -0.363481\n",
       "2013-01-05 -0.040295  1.046353"
      ]
     },
     "execution_count": 28,
     "metadata": {},
     "output_type": "execute_result"
    }
   ],
   "source": [
    "df.iloc[2:5, 1:3]"
   ]
  },
  {
   "cell_type": "markdown",
   "metadata": {},
   "source": [
    "索引不连续的部分"
   ]
  },
  {
   "cell_type": "code",
   "execution_count": 29,
   "metadata": {},
   "outputs": [
    {
     "data": {
      "text/html": [
       "<div>\n",
       "<style scoped>\n",
       "    .dataframe tbody tr th:only-of-type {\n",
       "        vertical-align: middle;\n",
       "    }\n",
       "\n",
       "    .dataframe tbody tr th {\n",
       "        vertical-align: top;\n",
       "    }\n",
       "\n",
       "    .dataframe thead th {\n",
       "        text-align: right;\n",
       "    }\n",
       "</style>\n",
       "<table border=\"1\" class=\"dataframe\">\n",
       "  <thead>\n",
       "    <tr style=\"text-align: right;\">\n",
       "      <th></th>\n",
       "      <th>B</th>\n",
       "      <th>D</th>\n",
       "    </tr>\n",
       "  </thead>\n",
       "  <tbody>\n",
       "    <tr>\n",
       "      <th>2013-01-02</th>\n",
       "      <td>0.933953</td>\n",
       "      <td>0.287909</td>\n",
       "    </tr>\n",
       "    <tr>\n",
       "      <th>2013-01-04</th>\n",
       "      <td>2.085579</td>\n",
       "      <td>0.230844</td>\n",
       "    </tr>\n",
       "    <tr>\n",
       "      <th>2013-01-06</th>\n",
       "      <td>-1.062144</td>\n",
       "      <td>0.326687</td>\n",
       "    </tr>\n",
       "  </tbody>\n",
       "</table>\n",
       "</div>"
      ],
      "text/plain": [
       "                   B         D\n",
       "2013-01-02  0.933953  0.287909\n",
       "2013-01-04  2.085579  0.230844\n",
       "2013-01-06 -1.062144  0.326687"
      ]
     },
     "execution_count": 29,
     "metadata": {},
     "output_type": "execute_result"
    }
   ],
   "source": [
    "df.iloc[[1,3,5],[1,3]]"
   ]
  },
  {
   "cell_type": "markdown",
   "metadata": {},
   "source": [
    "索引整行"
   ]
  },
  {
   "cell_type": "code",
   "execution_count": 30,
   "metadata": {},
   "outputs": [
    {
     "data": {
      "text/html": [
       "<div>\n",
       "<style scoped>\n",
       "    .dataframe tbody tr th:only-of-type {\n",
       "        vertical-align: middle;\n",
       "    }\n",
       "\n",
       "    .dataframe tbody tr th {\n",
       "        vertical-align: top;\n",
       "    }\n",
       "\n",
       "    .dataframe thead th {\n",
       "        text-align: right;\n",
       "    }\n",
       "</style>\n",
       "<table border=\"1\" class=\"dataframe\">\n",
       "  <thead>\n",
       "    <tr style=\"text-align: right;\">\n",
       "      <th></th>\n",
       "      <th>A</th>\n",
       "      <th>B</th>\n",
       "      <th>C</th>\n",
       "      <th>D</th>\n",
       "    </tr>\n",
       "  </thead>\n",
       "  <tbody>\n",
       "    <tr>\n",
       "      <th>2013-01-03</th>\n",
       "      <td>-0.732833</td>\n",
       "      <td>1.342063</td>\n",
       "      <td>1.747463</td>\n",
       "      <td>0.153798</td>\n",
       "    </tr>\n",
       "    <tr>\n",
       "      <th>2013-01-04</th>\n",
       "      <td>1.239696</td>\n",
       "      <td>2.085579</td>\n",
       "      <td>-0.363481</td>\n",
       "      <td>0.230844</td>\n",
       "    </tr>\n",
       "  </tbody>\n",
       "</table>\n",
       "</div>"
      ],
      "text/plain": [
       "                   A         B         C         D\n",
       "2013-01-03 -0.732833  1.342063  1.747463  0.153798\n",
       "2013-01-04  1.239696  2.085579 -0.363481  0.230844"
      ]
     },
     "execution_count": 30,
     "metadata": {},
     "output_type": "execute_result"
    }
   ],
   "source": [
    "df.iloc[2:4,:]"
   ]
  },
  {
   "cell_type": "markdown",
   "metadata": {},
   "source": [
    "索引整列"
   ]
  },
  {
   "cell_type": "code",
   "execution_count": 31,
   "metadata": {},
   "outputs": [
    {
     "data": {
      "text/html": [
       "<div>\n",
       "<style scoped>\n",
       "    .dataframe tbody tr th:only-of-type {\n",
       "        vertical-align: middle;\n",
       "    }\n",
       "\n",
       "    .dataframe tbody tr th {\n",
       "        vertical-align: top;\n",
       "    }\n",
       "\n",
       "    .dataframe thead th {\n",
       "        text-align: right;\n",
       "    }\n",
       "</style>\n",
       "<table border=\"1\" class=\"dataframe\">\n",
       "  <thead>\n",
       "    <tr style=\"text-align: right;\">\n",
       "      <th></th>\n",
       "      <th>B</th>\n",
       "      <th>D</th>\n",
       "    </tr>\n",
       "  </thead>\n",
       "  <tbody>\n",
       "    <tr>\n",
       "      <th>2013-01-01</th>\n",
       "      <td>-0.322129</td>\n",
       "      <td>0.398348</td>\n",
       "    </tr>\n",
       "    <tr>\n",
       "      <th>2013-01-02</th>\n",
       "      <td>0.933953</td>\n",
       "      <td>0.287909</td>\n",
       "    </tr>\n",
       "    <tr>\n",
       "      <th>2013-01-03</th>\n",
       "      <td>1.342063</td>\n",
       "      <td>0.153798</td>\n",
       "    </tr>\n",
       "    <tr>\n",
       "      <th>2013-01-04</th>\n",
       "      <td>2.085579</td>\n",
       "      <td>0.230844</td>\n",
       "    </tr>\n",
       "    <tr>\n",
       "      <th>2013-01-05</th>\n",
       "      <td>-0.040295</td>\n",
       "      <td>1.242420</td>\n",
       "    </tr>\n",
       "    <tr>\n",
       "      <th>2013-01-06</th>\n",
       "      <td>-1.062144</td>\n",
       "      <td>0.326687</td>\n",
       "    </tr>\n",
       "  </tbody>\n",
       "</table>\n",
       "</div>"
      ],
      "text/plain": [
       "                   B         D\n",
       "2013-01-01 -0.322129  0.398348\n",
       "2013-01-02  0.933953  0.287909\n",
       "2013-01-03  1.342063  0.153798\n",
       "2013-01-04  2.085579  0.230844\n",
       "2013-01-05 -0.040295  1.242420\n",
       "2013-01-06 -1.062144  0.326687"
      ]
     },
     "execution_count": 31,
     "metadata": {},
     "output_type": "execute_result"
    }
   ],
   "source": [
    "df.iloc[:,[1,3]]"
   ]
  },
  {
   "cell_type": "markdown",
   "metadata": {},
   "source": [
    "直接获取标量值"
   ]
  },
  {
   "cell_type": "code",
   "execution_count": 32,
   "metadata": {},
   "outputs": [
    {
     "data": {
      "text/plain": [
       "1.7474628945866244"
      ]
     },
     "execution_count": 32,
     "metadata": {},
     "output_type": "execute_result"
    }
   ],
   "source": [
    "df.iloc[2,2]"
   ]
  },
  {
   "cell_type": "markdown",
   "metadata": {},
   "source": [
    "### 布尔型索引"
   ]
  },
  {
   "cell_type": "code",
   "execution_count": 33,
   "metadata": {},
   "outputs": [
    {
     "data": {
      "text/html": [
       "<div>\n",
       "<style scoped>\n",
       "    .dataframe tbody tr th:only-of-type {\n",
       "        vertical-align: middle;\n",
       "    }\n",
       "\n",
       "    .dataframe tbody tr th {\n",
       "        vertical-align: top;\n",
       "    }\n",
       "\n",
       "    .dataframe thead th {\n",
       "        text-align: right;\n",
       "    }\n",
       "</style>\n",
       "<table border=\"1\" class=\"dataframe\">\n",
       "  <thead>\n",
       "    <tr style=\"text-align: right;\">\n",
       "      <th></th>\n",
       "      <th>A</th>\n",
       "      <th>B</th>\n",
       "      <th>C</th>\n",
       "      <th>D</th>\n",
       "    </tr>\n",
       "  </thead>\n",
       "  <tbody>\n",
       "    <tr>\n",
       "      <th>2013-01-01</th>\n",
       "      <td>1.354493</td>\n",
       "      <td>-0.322129</td>\n",
       "      <td>0.360092</td>\n",
       "      <td>0.398348</td>\n",
       "    </tr>\n",
       "    <tr>\n",
       "      <th>2013-01-02</th>\n",
       "      <td>-0.080907</td>\n",
       "      <td>0.933953</td>\n",
       "      <td>0.436917</td>\n",
       "      <td>0.287909</td>\n",
       "    </tr>\n",
       "    <tr>\n",
       "      <th>2013-01-03</th>\n",
       "      <td>-0.732833</td>\n",
       "      <td>1.342063</td>\n",
       "      <td>1.747463</td>\n",
       "      <td>0.153798</td>\n",
       "    </tr>\n",
       "    <tr>\n",
       "      <th>2013-01-04</th>\n",
       "      <td>1.239696</td>\n",
       "      <td>2.085579</td>\n",
       "      <td>-0.363481</td>\n",
       "      <td>0.230844</td>\n",
       "    </tr>\n",
       "    <tr>\n",
       "      <th>2013-01-05</th>\n",
       "      <td>0.079313</td>\n",
       "      <td>-0.040295</td>\n",
       "      <td>1.046353</td>\n",
       "      <td>1.242420</td>\n",
       "    </tr>\n",
       "    <tr>\n",
       "      <th>2013-01-06</th>\n",
       "      <td>-1.304693</td>\n",
       "      <td>-1.062144</td>\n",
       "      <td>1.385610</td>\n",
       "      <td>0.326687</td>\n",
       "    </tr>\n",
       "  </tbody>\n",
       "</table>\n",
       "</div>"
      ],
      "text/plain": [
       "                   A         B         C         D\n",
       "2013-01-01  1.354493 -0.322129  0.360092  0.398348\n",
       "2013-01-02 -0.080907  0.933953  0.436917  0.287909\n",
       "2013-01-03 -0.732833  1.342063  1.747463  0.153798\n",
       "2013-01-04  1.239696  2.085579 -0.363481  0.230844\n",
       "2013-01-05  0.079313 -0.040295  1.046353  1.242420\n",
       "2013-01-06 -1.304693 -1.062144  1.385610  0.326687"
      ]
     },
     "execution_count": 33,
     "metadata": {},
     "output_type": "execute_result"
    }
   ],
   "source": [
    "df"
   ]
  },
  {
   "cell_type": "code",
   "execution_count": 34,
   "metadata": {},
   "outputs": [
    {
     "data": {
      "text/html": [
       "<div>\n",
       "<style scoped>\n",
       "    .dataframe tbody tr th:only-of-type {\n",
       "        vertical-align: middle;\n",
       "    }\n",
       "\n",
       "    .dataframe tbody tr th {\n",
       "        vertical-align: top;\n",
       "    }\n",
       "\n",
       "    .dataframe thead th {\n",
       "        text-align: right;\n",
       "    }\n",
       "</style>\n",
       "<table border=\"1\" class=\"dataframe\">\n",
       "  <thead>\n",
       "    <tr style=\"text-align: right;\">\n",
       "      <th></th>\n",
       "      <th>A</th>\n",
       "      <th>B</th>\n",
       "      <th>C</th>\n",
       "      <th>D</th>\n",
       "    </tr>\n",
       "  </thead>\n",
       "  <tbody>\n",
       "    <tr>\n",
       "      <th>2013-01-01</th>\n",
       "      <td>1.354493</td>\n",
       "      <td>-0.322129</td>\n",
       "      <td>0.360092</td>\n",
       "      <td>0.398348</td>\n",
       "    </tr>\n",
       "    <tr>\n",
       "      <th>2013-01-02</th>\n",
       "      <td>-0.080907</td>\n",
       "      <td>0.933953</td>\n",
       "      <td>0.436917</td>\n",
       "      <td>0.287909</td>\n",
       "    </tr>\n",
       "    <tr>\n",
       "      <th>2013-01-03</th>\n",
       "      <td>-0.732833</td>\n",
       "      <td>1.342063</td>\n",
       "      <td>1.747463</td>\n",
       "      <td>0.153798</td>\n",
       "    </tr>\n",
       "    <tr>\n",
       "      <th>2013-01-05</th>\n",
       "      <td>0.079313</td>\n",
       "      <td>-0.040295</td>\n",
       "      <td>1.046353</td>\n",
       "      <td>1.242420</td>\n",
       "    </tr>\n",
       "    <tr>\n",
       "      <th>2013-01-06</th>\n",
       "      <td>-1.304693</td>\n",
       "      <td>-1.062144</td>\n",
       "      <td>1.385610</td>\n",
       "      <td>0.326687</td>\n",
       "    </tr>\n",
       "  </tbody>\n",
       "</table>\n",
       "</div>"
      ],
      "text/plain": [
       "                   A         B         C         D\n",
       "2013-01-01  1.354493 -0.322129  0.360092  0.398348\n",
       "2013-01-02 -0.080907  0.933953  0.436917  0.287909\n",
       "2013-01-03 -0.732833  1.342063  1.747463  0.153798\n",
       "2013-01-05  0.079313 -0.040295  1.046353  1.242420\n",
       "2013-01-06 -1.304693 -1.062144  1.385610  0.326687"
      ]
     },
     "execution_count": 34,
     "metadata": {},
     "output_type": "execute_result"
    }
   ],
   "source": [
    "# 获取 C 列大于0 的行\n",
    "df[df.C > 0]"
   ]
  },
  {
   "cell_type": "code",
   "execution_count": 35,
   "metadata": {},
   "outputs": [
    {
     "data": {
      "text/html": [
       "<div>\n",
       "<style scoped>\n",
       "    .dataframe tbody tr th:only-of-type {\n",
       "        vertical-align: middle;\n",
       "    }\n",
       "\n",
       "    .dataframe tbody tr th {\n",
       "        vertical-align: top;\n",
       "    }\n",
       "\n",
       "    .dataframe thead th {\n",
       "        text-align: right;\n",
       "    }\n",
       "</style>\n",
       "<table border=\"1\" class=\"dataframe\">\n",
       "  <thead>\n",
       "    <tr style=\"text-align: right;\">\n",
       "      <th></th>\n",
       "      <th>A</th>\n",
       "      <th>B</th>\n",
       "      <th>C</th>\n",
       "      <th>D</th>\n",
       "    </tr>\n",
       "  </thead>\n",
       "  <tbody>\n",
       "    <tr>\n",
       "      <th>2013-01-01</th>\n",
       "      <td>1.354493</td>\n",
       "      <td>NaN</td>\n",
       "      <td>0.360092</td>\n",
       "      <td>0.398348</td>\n",
       "    </tr>\n",
       "    <tr>\n",
       "      <th>2013-01-02</th>\n",
       "      <td>NaN</td>\n",
       "      <td>0.933953</td>\n",
       "      <td>0.436917</td>\n",
       "      <td>0.287909</td>\n",
       "    </tr>\n",
       "    <tr>\n",
       "      <th>2013-01-03</th>\n",
       "      <td>NaN</td>\n",
       "      <td>1.342063</td>\n",
       "      <td>1.747463</td>\n",
       "      <td>0.153798</td>\n",
       "    </tr>\n",
       "    <tr>\n",
       "      <th>2013-01-04</th>\n",
       "      <td>1.239696</td>\n",
       "      <td>2.085579</td>\n",
       "      <td>NaN</td>\n",
       "      <td>0.230844</td>\n",
       "    </tr>\n",
       "    <tr>\n",
       "      <th>2013-01-05</th>\n",
       "      <td>0.079313</td>\n",
       "      <td>NaN</td>\n",
       "      <td>1.046353</td>\n",
       "      <td>1.242420</td>\n",
       "    </tr>\n",
       "    <tr>\n",
       "      <th>2013-01-06</th>\n",
       "      <td>NaN</td>\n",
       "      <td>NaN</td>\n",
       "      <td>1.385610</td>\n",
       "      <td>0.326687</td>\n",
       "    </tr>\n",
       "  </tbody>\n",
       "</table>\n",
       "</div>"
      ],
      "text/plain": [
       "                   A         B         C         D\n",
       "2013-01-01  1.354493       NaN  0.360092  0.398348\n",
       "2013-01-02       NaN  0.933953  0.436917  0.287909\n",
       "2013-01-03       NaN  1.342063  1.747463  0.153798\n",
       "2013-01-04  1.239696  2.085579       NaN  0.230844\n",
       "2013-01-05  0.079313       NaN  1.046353  1.242420\n",
       "2013-01-06       NaN       NaN  1.385610  0.326687"
      ]
     },
     "execution_count": 35,
     "metadata": {},
     "output_type": "execute_result"
    }
   ],
   "source": [
    "# 只留下所有大于0的数值\n",
    "df[df>0]"
   ]
  },
  {
   "cell_type": "code",
   "execution_count": 36,
   "metadata": {},
   "outputs": [
    {
     "data": {
      "text/html": [
       "<div>\n",
       "<style scoped>\n",
       "    .dataframe tbody tr th:only-of-type {\n",
       "        vertical-align: middle;\n",
       "    }\n",
       "\n",
       "    .dataframe tbody tr th {\n",
       "        vertical-align: top;\n",
       "    }\n",
       "\n",
       "    .dataframe thead th {\n",
       "        text-align: right;\n",
       "    }\n",
       "</style>\n",
       "<table border=\"1\" class=\"dataframe\">\n",
       "  <thead>\n",
       "    <tr style=\"text-align: right;\">\n",
       "      <th></th>\n",
       "      <th>A</th>\n",
       "      <th>B</th>\n",
       "      <th>C</th>\n",
       "      <th>D</th>\n",
       "    </tr>\n",
       "  </thead>\n",
       "  <tbody>\n",
       "    <tr>\n",
       "      <th>2013-01-01</th>\n",
       "      <td>1.354493</td>\n",
       "      <td>-0.322129</td>\n",
       "      <td>0.360092</td>\n",
       "      <td>0.398348</td>\n",
       "    </tr>\n",
       "    <tr>\n",
       "      <th>2013-01-02</th>\n",
       "      <td>-0.080907</td>\n",
       "      <td>0.933953</td>\n",
       "      <td>0.436917</td>\n",
       "      <td>0.287909</td>\n",
       "    </tr>\n",
       "    <tr>\n",
       "      <th>2013-01-03</th>\n",
       "      <td>-0.732833</td>\n",
       "      <td>1.342063</td>\n",
       "      <td>1.747463</td>\n",
       "      <td>0.153798</td>\n",
       "    </tr>\n",
       "    <tr>\n",
       "      <th>2013-01-04</th>\n",
       "      <td>1.239696</td>\n",
       "      <td>2.085579</td>\n",
       "      <td>-0.363481</td>\n",
       "      <td>0.230844</td>\n",
       "    </tr>\n",
       "    <tr>\n",
       "      <th>2013-01-05</th>\n",
       "      <td>0.079313</td>\n",
       "      <td>-0.040295</td>\n",
       "      <td>1.046353</td>\n",
       "      <td>1.242420</td>\n",
       "    </tr>\n",
       "    <tr>\n",
       "      <th>2013-01-06</th>\n",
       "      <td>-1.304693</td>\n",
       "      <td>-1.062144</td>\n",
       "      <td>1.385610</td>\n",
       "      <td>0.326687</td>\n",
       "    </tr>\n",
       "  </tbody>\n",
       "</table>\n",
       "</div>"
      ],
      "text/plain": [
       "                   A         B         C         D\n",
       "2013-01-01  1.354493 -0.322129  0.360092  0.398348\n",
       "2013-01-02 -0.080907  0.933953  0.436917  0.287909\n",
       "2013-01-03 -0.732833  1.342063  1.747463  0.153798\n",
       "2013-01-04  1.239696  2.085579 -0.363481  0.230844\n",
       "2013-01-05  0.079313 -0.040295  1.046353  1.242420\n",
       "2013-01-06 -1.304693 -1.062144  1.385610  0.326687"
      ]
     },
     "execution_count": 36,
     "metadata": {},
     "output_type": "execute_result"
    }
   ],
   "source": [
    "# 使用 isin 方法做 filter 过滤\n",
    "df2 = df.copy()\n",
    "df2"
   ]
  },
  {
   "cell_type": "code",
   "execution_count": 37,
   "metadata": {},
   "outputs": [
    {
     "data": {
      "text/html": [
       "<div>\n",
       "<style scoped>\n",
       "    .dataframe tbody tr th:only-of-type {\n",
       "        vertical-align: middle;\n",
       "    }\n",
       "\n",
       "    .dataframe tbody tr th {\n",
       "        vertical-align: top;\n",
       "    }\n",
       "\n",
       "    .dataframe thead th {\n",
       "        text-align: right;\n",
       "    }\n",
       "</style>\n",
       "<table border=\"1\" class=\"dataframe\">\n",
       "  <thead>\n",
       "    <tr style=\"text-align: right;\">\n",
       "      <th></th>\n",
       "      <th>A</th>\n",
       "      <th>B</th>\n",
       "      <th>C</th>\n",
       "      <th>D</th>\n",
       "    </tr>\n",
       "  </thead>\n",
       "  <tbody>\n",
       "    <tr>\n",
       "      <th>2013-01-01</th>\n",
       "      <td>1.354493</td>\n",
       "      <td>-0.322129</td>\n",
       "      <td>0.360092</td>\n",
       "      <td>0.398348</td>\n",
       "    </tr>\n",
       "    <tr>\n",
       "      <th>2013-01-02</th>\n",
       "      <td>-0.080907</td>\n",
       "      <td>0.933953</td>\n",
       "      <td>0.436917</td>\n",
       "      <td>0.287909</td>\n",
       "    </tr>\n",
       "    <tr>\n",
       "      <th>2013-01-03</th>\n",
       "      <td>-0.732833</td>\n",
       "      <td>1.342063</td>\n",
       "      <td>0.666666</td>\n",
       "      <td>0.153798</td>\n",
       "    </tr>\n",
       "    <tr>\n",
       "      <th>2013-01-04</th>\n",
       "      <td>1.239696</td>\n",
       "      <td>2.085579</td>\n",
       "      <td>-0.363481</td>\n",
       "      <td>0.230844</td>\n",
       "    </tr>\n",
       "    <tr>\n",
       "      <th>2013-01-05</th>\n",
       "      <td>0.079313</td>\n",
       "      <td>-0.040295</td>\n",
       "      <td>1.046353</td>\n",
       "      <td>1.242420</td>\n",
       "    </tr>\n",
       "    <tr>\n",
       "      <th>2013-01-06</th>\n",
       "      <td>-1.304693</td>\n",
       "      <td>-1.062144</td>\n",
       "      <td>1.385610</td>\n",
       "      <td>0.326687</td>\n",
       "    </tr>\n",
       "  </tbody>\n",
       "</table>\n",
       "</div>"
      ],
      "text/plain": [
       "                   A         B         C         D\n",
       "2013-01-01  1.354493 -0.322129  0.360092  0.398348\n",
       "2013-01-02 -0.080907  0.933953  0.436917  0.287909\n",
       "2013-01-03 -0.732833  1.342063  0.666666  0.153798\n",
       "2013-01-04  1.239696  2.085579 -0.363481  0.230844\n",
       "2013-01-05  0.079313 -0.040295  1.046353  1.242420\n",
       "2013-01-06 -1.304693 -1.062144  1.385610  0.326687"
      ]
     },
     "execution_count": 37,
     "metadata": {},
     "output_type": "execute_result"
    }
   ],
   "source": [
    "df2.iloc[2,2] = 0.666666\n",
    "df2"
   ]
  },
  {
   "cell_type": "code",
   "execution_count": 38,
   "metadata": {},
   "outputs": [
    {
     "data": {
      "text/html": [
       "<div>\n",
       "<style scoped>\n",
       "    .dataframe tbody tr th:only-of-type {\n",
       "        vertical-align: middle;\n",
       "    }\n",
       "\n",
       "    .dataframe tbody tr th {\n",
       "        vertical-align: top;\n",
       "    }\n",
       "\n",
       "    .dataframe thead th {\n",
       "        text-align: right;\n",
       "    }\n",
       "</style>\n",
       "<table border=\"1\" class=\"dataframe\">\n",
       "  <thead>\n",
       "    <tr style=\"text-align: right;\">\n",
       "      <th></th>\n",
       "      <th>A</th>\n",
       "      <th>B</th>\n",
       "      <th>C</th>\n",
       "      <th>D</th>\n",
       "    </tr>\n",
       "  </thead>\n",
       "  <tbody>\n",
       "    <tr>\n",
       "      <th>2013-01-01</th>\n",
       "      <td>1.354493</td>\n",
       "      <td>-0.322129</td>\n",
       "      <td>0.360092</td>\n",
       "      <td>0.398348</td>\n",
       "    </tr>\n",
       "    <tr>\n",
       "      <th>2013-01-02</th>\n",
       "      <td>-0.080907</td>\n",
       "      <td>0.933953</td>\n",
       "      <td>0.436917</td>\n",
       "      <td>0.287909</td>\n",
       "    </tr>\n",
       "    <tr>\n",
       "      <th>2013-01-03</th>\n",
       "      <td>-0.732833</td>\n",
       "      <td>1.342063</td>\n",
       "      <td>1.747463</td>\n",
       "      <td>0.153798</td>\n",
       "    </tr>\n",
       "    <tr>\n",
       "      <th>2013-01-04</th>\n",
       "      <td>1.239696</td>\n",
       "      <td>2.085579</td>\n",
       "      <td>-0.363481</td>\n",
       "      <td>0.230844</td>\n",
       "    </tr>\n",
       "    <tr>\n",
       "      <th>2013-01-05</th>\n",
       "      <td>0.079313</td>\n",
       "      <td>-0.040295</td>\n",
       "      <td>1.046353</td>\n",
       "      <td>1.242420</td>\n",
       "    </tr>\n",
       "    <tr>\n",
       "      <th>2013-01-06</th>\n",
       "      <td>-1.304693</td>\n",
       "      <td>-1.062144</td>\n",
       "      <td>1.385610</td>\n",
       "      <td>0.326687</td>\n",
       "    </tr>\n",
       "  </tbody>\n",
       "</table>\n",
       "</div>"
      ],
      "text/plain": [
       "                   A         B         C         D\n",
       "2013-01-01  1.354493 -0.322129  0.360092  0.398348\n",
       "2013-01-02 -0.080907  0.933953  0.436917  0.287909\n",
       "2013-01-03 -0.732833  1.342063  1.747463  0.153798\n",
       "2013-01-04  1.239696  2.085579 -0.363481  0.230844\n",
       "2013-01-05  0.079313 -0.040295  1.046353  1.242420\n",
       "2013-01-06 -1.304693 -1.062144  1.385610  0.326687"
      ]
     },
     "execution_count": 38,
     "metadata": {},
     "output_type": "execute_result"
    }
   ],
   "source": [
    "df"
   ]
  },
  {
   "cell_type": "code",
   "execution_count": 39,
   "metadata": {},
   "outputs": [
    {
     "data": {
      "text/html": [
       "<div>\n",
       "<style scoped>\n",
       "    .dataframe tbody tr th:only-of-type {\n",
       "        vertical-align: middle;\n",
       "    }\n",
       "\n",
       "    .dataframe tbody tr th {\n",
       "        vertical-align: top;\n",
       "    }\n",
       "\n",
       "    .dataframe thead th {\n",
       "        text-align: right;\n",
       "    }\n",
       "</style>\n",
       "<table border=\"1\" class=\"dataframe\">\n",
       "  <thead>\n",
       "    <tr style=\"text-align: right;\">\n",
       "      <th></th>\n",
       "      <th>A</th>\n",
       "      <th>B</th>\n",
       "      <th>C</th>\n",
       "      <th>D</th>\n",
       "      <th>e</th>\n",
       "    </tr>\n",
       "  </thead>\n",
       "  <tbody>\n",
       "    <tr>\n",
       "      <th>2013-01-01</th>\n",
       "      <td>1.354493</td>\n",
       "      <td>-0.322129</td>\n",
       "      <td>0.360092</td>\n",
       "      <td>0.398348</td>\n",
       "      <td>one</td>\n",
       "    </tr>\n",
       "    <tr>\n",
       "      <th>2013-01-02</th>\n",
       "      <td>-0.080907</td>\n",
       "      <td>0.933953</td>\n",
       "      <td>0.436917</td>\n",
       "      <td>0.287909</td>\n",
       "      <td>two</td>\n",
       "    </tr>\n",
       "    <tr>\n",
       "      <th>2013-01-03</th>\n",
       "      <td>-0.732833</td>\n",
       "      <td>1.342063</td>\n",
       "      <td>0.666666</td>\n",
       "      <td>0.153798</td>\n",
       "      <td>three</td>\n",
       "    </tr>\n",
       "    <tr>\n",
       "      <th>2013-01-04</th>\n",
       "      <td>1.239696</td>\n",
       "      <td>2.085579</td>\n",
       "      <td>-0.363481</td>\n",
       "      <td>0.230844</td>\n",
       "      <td>four</td>\n",
       "    </tr>\n",
       "    <tr>\n",
       "      <th>2013-01-05</th>\n",
       "      <td>0.079313</td>\n",
       "      <td>-0.040295</td>\n",
       "      <td>1.046353</td>\n",
       "      <td>1.242420</td>\n",
       "      <td>five</td>\n",
       "    </tr>\n",
       "    <tr>\n",
       "      <th>2013-01-06</th>\n",
       "      <td>-1.304693</td>\n",
       "      <td>-1.062144</td>\n",
       "      <td>1.385610</td>\n",
       "      <td>0.326687</td>\n",
       "      <td>six</td>\n",
       "    </tr>\n",
       "  </tbody>\n",
       "</table>\n",
       "</div>"
      ],
      "text/plain": [
       "                   A         B         C         D      e\n",
       "2013-01-01  1.354493 -0.322129  0.360092  0.398348    one\n",
       "2013-01-02 -0.080907  0.933953  0.436917  0.287909    two\n",
       "2013-01-03 -0.732833  1.342063  0.666666  0.153798  three\n",
       "2013-01-04  1.239696  2.085579 -0.363481  0.230844   four\n",
       "2013-01-05  0.079313 -0.040295  1.046353  1.242420   five\n",
       "2013-01-06 -1.304693 -1.062144  1.385610  0.326687    six"
      ]
     },
     "execution_count": 39,
     "metadata": {},
     "output_type": "execute_result"
    }
   ],
   "source": [
    "df2[\"e\"] = [\"one\",'two',\"three\",\"four\",\"five\",\"six\"]\n",
    "df2"
   ]
  },
  {
   "cell_type": "code",
   "execution_count": 40,
   "metadata": {},
   "outputs": [
    {
     "data": {
      "text/html": [
       "<div>\n",
       "<style scoped>\n",
       "    .dataframe tbody tr th:only-of-type {\n",
       "        vertical-align: middle;\n",
       "    }\n",
       "\n",
       "    .dataframe tbody tr th {\n",
       "        vertical-align: top;\n",
       "    }\n",
       "\n",
       "    .dataframe thead th {\n",
       "        text-align: right;\n",
       "    }\n",
       "</style>\n",
       "<table border=\"1\" class=\"dataframe\">\n",
       "  <thead>\n",
       "    <tr style=\"text-align: right;\">\n",
       "      <th></th>\n",
       "      <th>A</th>\n",
       "      <th>B</th>\n",
       "      <th>C</th>\n",
       "      <th>D</th>\n",
       "      <th>e</th>\n",
       "    </tr>\n",
       "  </thead>\n",
       "  <tbody>\n",
       "    <tr>\n",
       "      <th>2013-01-01</th>\n",
       "      <td>1.354493</td>\n",
       "      <td>-0.322129</td>\n",
       "      <td>0.360092</td>\n",
       "      <td>0.398348</td>\n",
       "      <td>one</td>\n",
       "    </tr>\n",
       "    <tr>\n",
       "      <th>2013-01-03</th>\n",
       "      <td>-0.732833</td>\n",
       "      <td>1.342063</td>\n",
       "      <td>0.666666</td>\n",
       "      <td>0.153798</td>\n",
       "      <td>three</td>\n",
       "    </tr>\n",
       "    <tr>\n",
       "      <th>2013-01-05</th>\n",
       "      <td>0.079313</td>\n",
       "      <td>-0.040295</td>\n",
       "      <td>1.046353</td>\n",
       "      <td>1.242420</td>\n",
       "      <td>five</td>\n",
       "    </tr>\n",
       "  </tbody>\n",
       "</table>\n",
       "</div>"
      ],
      "text/plain": [
       "                   A         B         C         D      e\n",
       "2013-01-01  1.354493 -0.322129  0.360092  0.398348    one\n",
       "2013-01-03 -0.732833  1.342063  0.666666  0.153798  three\n",
       "2013-01-05  0.079313 -0.040295  1.046353  1.242420   five"
      ]
     },
     "execution_count": 40,
     "metadata": {},
     "output_type": "execute_result"
    }
   ],
   "source": [
    "df2[df2[\"e\"].isin([\"one\",\"three\",\"five\"])]"
   ]
  },
  {
   "cell_type": "markdown",
   "metadata": {},
   "source": [
    "### 设定数据的值"
   ]
  },
  {
   "cell_type": "code",
   "execution_count": 41,
   "metadata": {},
   "outputs": [
    {
     "data": {
      "text/plain": [
       "2013-01-01    1\n",
       "2013-01-02    2\n",
       "2013-01-03    3\n",
       "2013-01-04    4\n",
       "2013-01-05    5\n",
       "2013-01-06    6\n",
       "Freq: D, dtype: int64"
      ]
     },
     "execution_count": 41,
     "metadata": {},
     "output_type": "execute_result"
    }
   ],
   "source": [
    "s1 = pd.Series([1,2,3,4,5,6],index=pd.date_range(\"20130101\",periods=6))\n",
    "s1"
   ]
  },
  {
   "cell_type": "code",
   "execution_count": 42,
   "metadata": {},
   "outputs": [
    {
     "data": {
      "text/html": [
       "<div>\n",
       "<style scoped>\n",
       "    .dataframe tbody tr th:only-of-type {\n",
       "        vertical-align: middle;\n",
       "    }\n",
       "\n",
       "    .dataframe tbody tr th {\n",
       "        vertical-align: top;\n",
       "    }\n",
       "\n",
       "    .dataframe thead th {\n",
       "        text-align: right;\n",
       "    }\n",
       "</style>\n",
       "<table border=\"1\" class=\"dataframe\">\n",
       "  <thead>\n",
       "    <tr style=\"text-align: right;\">\n",
       "      <th></th>\n",
       "      <th>A</th>\n",
       "      <th>B</th>\n",
       "      <th>C</th>\n",
       "      <th>D</th>\n",
       "    </tr>\n",
       "  </thead>\n",
       "  <tbody>\n",
       "    <tr>\n",
       "      <th>2013-01-01</th>\n",
       "      <td>1.354493</td>\n",
       "      <td>-0.322129</td>\n",
       "      <td>0.360092</td>\n",
       "      <td>0.398348</td>\n",
       "    </tr>\n",
       "    <tr>\n",
       "      <th>2013-01-02</th>\n",
       "      <td>-0.080907</td>\n",
       "      <td>0.933953</td>\n",
       "      <td>0.436917</td>\n",
       "      <td>0.287909</td>\n",
       "    </tr>\n",
       "    <tr>\n",
       "      <th>2013-01-03</th>\n",
       "      <td>-0.732833</td>\n",
       "      <td>1.342063</td>\n",
       "      <td>1.747463</td>\n",
       "      <td>0.153798</td>\n",
       "    </tr>\n",
       "    <tr>\n",
       "      <th>2013-01-04</th>\n",
       "      <td>1.239696</td>\n",
       "      <td>2.085579</td>\n",
       "      <td>-0.363481</td>\n",
       "      <td>0.230844</td>\n",
       "    </tr>\n",
       "    <tr>\n",
       "      <th>2013-01-05</th>\n",
       "      <td>0.079313</td>\n",
       "      <td>-0.040295</td>\n",
       "      <td>1.046353</td>\n",
       "      <td>1.242420</td>\n",
       "    </tr>\n",
       "    <tr>\n",
       "      <th>2013-01-06</th>\n",
       "      <td>-1.304693</td>\n",
       "      <td>-1.062144</td>\n",
       "      <td>1.385610</td>\n",
       "      <td>0.326687</td>\n",
       "    </tr>\n",
       "  </tbody>\n",
       "</table>\n",
       "</div>"
      ],
      "text/plain": [
       "                   A         B         C         D\n",
       "2013-01-01  1.354493 -0.322129  0.360092  0.398348\n",
       "2013-01-02 -0.080907  0.933953  0.436917  0.287909\n",
       "2013-01-03 -0.732833  1.342063  1.747463  0.153798\n",
       "2013-01-04  1.239696  2.085579 -0.363481  0.230844\n",
       "2013-01-05  0.079313 -0.040295  1.046353  1.242420\n",
       "2013-01-06 -1.304693 -1.062144  1.385610  0.326687"
      ]
     },
     "execution_count": 42,
     "metadata": {},
     "output_type": "execute_result"
    }
   ],
   "source": [
    "df"
   ]
  },
  {
   "cell_type": "code",
   "execution_count": 43,
   "metadata": {},
   "outputs": [
    {
     "data": {
      "text/html": [
       "<div>\n",
       "<style scoped>\n",
       "    .dataframe tbody tr th:only-of-type {\n",
       "        vertical-align: middle;\n",
       "    }\n",
       "\n",
       "    .dataframe tbody tr th {\n",
       "        vertical-align: top;\n",
       "    }\n",
       "\n",
       "    .dataframe thead th {\n",
       "        text-align: right;\n",
       "    }\n",
       "</style>\n",
       "<table border=\"1\" class=\"dataframe\">\n",
       "  <thead>\n",
       "    <tr style=\"text-align: right;\">\n",
       "      <th></th>\n",
       "      <th>A</th>\n",
       "      <th>B</th>\n",
       "      <th>C</th>\n",
       "      <th>D</th>\n",
       "      <th>F</th>\n",
       "    </tr>\n",
       "  </thead>\n",
       "  <tbody>\n",
       "    <tr>\n",
       "      <th>2013-01-01</th>\n",
       "      <td>1.354493</td>\n",
       "      <td>-0.322129</td>\n",
       "      <td>0.360092</td>\n",
       "      <td>0.398348</td>\n",
       "      <td>1</td>\n",
       "    </tr>\n",
       "    <tr>\n",
       "      <th>2013-01-02</th>\n",
       "      <td>-0.080907</td>\n",
       "      <td>0.933953</td>\n",
       "      <td>0.436917</td>\n",
       "      <td>0.287909</td>\n",
       "      <td>2</td>\n",
       "    </tr>\n",
       "    <tr>\n",
       "      <th>2013-01-03</th>\n",
       "      <td>-0.732833</td>\n",
       "      <td>1.342063</td>\n",
       "      <td>1.747463</td>\n",
       "      <td>0.153798</td>\n",
       "      <td>3</td>\n",
       "    </tr>\n",
       "    <tr>\n",
       "      <th>2013-01-04</th>\n",
       "      <td>1.239696</td>\n",
       "      <td>2.085579</td>\n",
       "      <td>-0.363481</td>\n",
       "      <td>0.230844</td>\n",
       "      <td>4</td>\n",
       "    </tr>\n",
       "    <tr>\n",
       "      <th>2013-01-05</th>\n",
       "      <td>0.079313</td>\n",
       "      <td>-0.040295</td>\n",
       "      <td>1.046353</td>\n",
       "      <td>1.242420</td>\n",
       "      <td>5</td>\n",
       "    </tr>\n",
       "    <tr>\n",
       "      <th>2013-01-06</th>\n",
       "      <td>-1.304693</td>\n",
       "      <td>-1.062144</td>\n",
       "      <td>1.385610</td>\n",
       "      <td>0.326687</td>\n",
       "      <td>6</td>\n",
       "    </tr>\n",
       "  </tbody>\n",
       "</table>\n",
       "</div>"
      ],
      "text/plain": [
       "                   A         B         C         D  F\n",
       "2013-01-01  1.354493 -0.322129  0.360092  0.398348  1\n",
       "2013-01-02 -0.080907  0.933953  0.436917  0.287909  2\n",
       "2013-01-03 -0.732833  1.342063  1.747463  0.153798  3\n",
       "2013-01-04  1.239696  2.085579 -0.363481  0.230844  4\n",
       "2013-01-05  0.079313 -0.040295  1.046353  1.242420  5\n",
       "2013-01-06 -1.304693 -1.062144  1.385610  0.326687  6"
      ]
     },
     "execution_count": 43,
     "metadata": {},
     "output_type": "execute_result"
    }
   ],
   "source": [
    "df[\"F\"] = s1\n",
    "df"
   ]
  },
  {
   "cell_type": "markdown",
   "metadata": {},
   "source": [
    "使用 at 或者 iat 修改单个值"
   ]
  },
  {
   "cell_type": "code",
   "execution_count": 44,
   "metadata": {},
   "outputs": [
    {
     "data": {
      "text/html": [
       "<div>\n",
       "<style scoped>\n",
       "    .dataframe tbody tr th:only-of-type {\n",
       "        vertical-align: middle;\n",
       "    }\n",
       "\n",
       "    .dataframe tbody tr th {\n",
       "        vertical-align: top;\n",
       "    }\n",
       "\n",
       "    .dataframe thead th {\n",
       "        text-align: right;\n",
       "    }\n",
       "</style>\n",
       "<table border=\"1\" class=\"dataframe\">\n",
       "  <thead>\n",
       "    <tr style=\"text-align: right;\">\n",
       "      <th></th>\n",
       "      <th>A</th>\n",
       "      <th>B</th>\n",
       "      <th>C</th>\n",
       "      <th>D</th>\n",
       "      <th>F</th>\n",
       "    </tr>\n",
       "  </thead>\n",
       "  <tbody>\n",
       "    <tr>\n",
       "      <th>2013-01-01</th>\n",
       "      <td>1.354493</td>\n",
       "      <td>-0.322129</td>\n",
       "      <td>0.360092</td>\n",
       "      <td>0.398348</td>\n",
       "      <td>1</td>\n",
       "    </tr>\n",
       "    <tr>\n",
       "      <th>2013-01-02</th>\n",
       "      <td>-0.080907</td>\n",
       "      <td>0.933953</td>\n",
       "      <td>0.436917</td>\n",
       "      <td>0.287909</td>\n",
       "      <td>2</td>\n",
       "    </tr>\n",
       "    <tr>\n",
       "      <th>2013-01-03</th>\n",
       "      <td>-0.732833</td>\n",
       "      <td>1.342063</td>\n",
       "      <td>1.747463</td>\n",
       "      <td>0.153798</td>\n",
       "      <td>3</td>\n",
       "    </tr>\n",
       "    <tr>\n",
       "      <th>2013-01-04</th>\n",
       "      <td>1.239696</td>\n",
       "      <td>2.085579</td>\n",
       "      <td>-0.363481</td>\n",
       "      <td>0.230844</td>\n",
       "      <td>8</td>\n",
       "    </tr>\n",
       "    <tr>\n",
       "      <th>2013-01-05</th>\n",
       "      <td>0.079313</td>\n",
       "      <td>-0.040295</td>\n",
       "      <td>1.046353</td>\n",
       "      <td>1.242420</td>\n",
       "      <td>5</td>\n",
       "    </tr>\n",
       "    <tr>\n",
       "      <th>2013-01-06</th>\n",
       "      <td>-1.304693</td>\n",
       "      <td>-1.062144</td>\n",
       "      <td>1.385610</td>\n",
       "      <td>0.326687</td>\n",
       "      <td>6</td>\n",
       "    </tr>\n",
       "  </tbody>\n",
       "</table>\n",
       "</div>"
      ],
      "text/plain": [
       "                   A         B         C         D  F\n",
       "2013-01-01  1.354493 -0.322129  0.360092  0.398348  1\n",
       "2013-01-02 -0.080907  0.933953  0.436917  0.287909  2\n",
       "2013-01-03 -0.732833  1.342063  1.747463  0.153798  3\n",
       "2013-01-04  1.239696  2.085579 -0.363481  0.230844  8\n",
       "2013-01-05  0.079313 -0.040295  1.046353  1.242420  5\n",
       "2013-01-06 -1.304693 -1.062144  1.385610  0.326687  6"
      ]
     },
     "execution_count": 44,
     "metadata": {},
     "output_type": "execute_result"
    }
   ],
   "source": [
    "df.iloc[3,-1] = 8\n",
    "df"
   ]
  },
  {
   "cell_type": "code",
   "execution_count": 45,
   "metadata": {},
   "outputs": [
    {
     "data": {
      "text/html": [
       "<div>\n",
       "<style scoped>\n",
       "    .dataframe tbody tr th:only-of-type {\n",
       "        vertical-align: middle;\n",
       "    }\n",
       "\n",
       "    .dataframe tbody tr th {\n",
       "        vertical-align: top;\n",
       "    }\n",
       "\n",
       "    .dataframe thead th {\n",
       "        text-align: right;\n",
       "    }\n",
       "</style>\n",
       "<table border=\"1\" class=\"dataframe\">\n",
       "  <thead>\n",
       "    <tr style=\"text-align: right;\">\n",
       "      <th></th>\n",
       "      <th>A</th>\n",
       "      <th>B</th>\n",
       "      <th>C</th>\n",
       "      <th>D</th>\n",
       "      <th>F</th>\n",
       "    </tr>\n",
       "  </thead>\n",
       "  <tbody>\n",
       "    <tr>\n",
       "      <th>2013-01-01</th>\n",
       "      <td>1.354493</td>\n",
       "      <td>-0.322129</td>\n",
       "      <td>0.360092</td>\n",
       "      <td>0.398348</td>\n",
       "      <td>1</td>\n",
       "    </tr>\n",
       "    <tr>\n",
       "      <th>2013-01-02</th>\n",
       "      <td>-0.080907</td>\n",
       "      <td>0.933953</td>\n",
       "      <td>0.436917</td>\n",
       "      <td>0.287909</td>\n",
       "      <td>2</td>\n",
       "    </tr>\n",
       "    <tr>\n",
       "      <th>2013-01-03</th>\n",
       "      <td>-0.732833</td>\n",
       "      <td>1.342063</td>\n",
       "      <td>1.747463</td>\n",
       "      <td>0.153798</td>\n",
       "      <td>3</td>\n",
       "    </tr>\n",
       "    <tr>\n",
       "      <th>2013-01-04</th>\n",
       "      <td>1.239696</td>\n",
       "      <td>2.085579</td>\n",
       "      <td>-0.363481</td>\n",
       "      <td>0.230844</td>\n",
       "      <td>9</td>\n",
       "    </tr>\n",
       "    <tr>\n",
       "      <th>2013-01-05</th>\n",
       "      <td>0.079313</td>\n",
       "      <td>-0.040295</td>\n",
       "      <td>1.046353</td>\n",
       "      <td>1.242420</td>\n",
       "      <td>5</td>\n",
       "    </tr>\n",
       "    <tr>\n",
       "      <th>2013-01-06</th>\n",
       "      <td>-1.304693</td>\n",
       "      <td>-1.062144</td>\n",
       "      <td>1.385610</td>\n",
       "      <td>0.326687</td>\n",
       "      <td>6</td>\n",
       "    </tr>\n",
       "  </tbody>\n",
       "</table>\n",
       "</div>"
      ],
      "text/plain": [
       "                   A         B         C         D  F\n",
       "2013-01-01  1.354493 -0.322129  0.360092  0.398348  1\n",
       "2013-01-02 -0.080907  0.933953  0.436917  0.287909  2\n",
       "2013-01-03 -0.732833  1.342063  1.747463  0.153798  3\n",
       "2013-01-04  1.239696  2.085579 -0.363481  0.230844  9\n",
       "2013-01-05  0.079313 -0.040295  1.046353  1.242420  5\n",
       "2013-01-06 -1.304693 -1.062144  1.385610  0.326687  6"
      ]
     },
     "execution_count": 45,
     "metadata": {},
     "output_type": "execute_result"
    }
   ],
   "source": [
    "df.at[dates[3],\"F\"] = 9\n",
    "df"
   ]
  },
  {
   "cell_type": "markdown",
   "metadata": {},
   "source": [
    "### 计算操作"
   ]
  },
  {
   "cell_type": "markdown",
   "metadata": {},
   "source": [
    "每一列的均值 (默认都是计算列)"
   ]
  },
  {
   "cell_type": "code",
   "execution_count": 46,
   "metadata": {},
   "outputs": [
    {
     "data": {
      "text/html": [
       "<div>\n",
       "<style scoped>\n",
       "    .dataframe tbody tr th:only-of-type {\n",
       "        vertical-align: middle;\n",
       "    }\n",
       "\n",
       "    .dataframe tbody tr th {\n",
       "        vertical-align: top;\n",
       "    }\n",
       "\n",
       "    .dataframe thead th {\n",
       "        text-align: right;\n",
       "    }\n",
       "</style>\n",
       "<table border=\"1\" class=\"dataframe\">\n",
       "  <thead>\n",
       "    <tr style=\"text-align: right;\">\n",
       "      <th></th>\n",
       "      <th>A</th>\n",
       "      <th>B</th>\n",
       "      <th>C</th>\n",
       "      <th>D</th>\n",
       "      <th>F</th>\n",
       "    </tr>\n",
       "  </thead>\n",
       "  <tbody>\n",
       "    <tr>\n",
       "      <th>2013-01-01</th>\n",
       "      <td>1.354493</td>\n",
       "      <td>-0.322129</td>\n",
       "      <td>0.360092</td>\n",
       "      <td>0.398348</td>\n",
       "      <td>1</td>\n",
       "    </tr>\n",
       "    <tr>\n",
       "      <th>2013-01-02</th>\n",
       "      <td>-0.080907</td>\n",
       "      <td>0.933953</td>\n",
       "      <td>0.436917</td>\n",
       "      <td>0.287909</td>\n",
       "      <td>2</td>\n",
       "    </tr>\n",
       "    <tr>\n",
       "      <th>2013-01-03</th>\n",
       "      <td>-0.732833</td>\n",
       "      <td>1.342063</td>\n",
       "      <td>1.747463</td>\n",
       "      <td>0.153798</td>\n",
       "      <td>3</td>\n",
       "    </tr>\n",
       "    <tr>\n",
       "      <th>2013-01-04</th>\n",
       "      <td>1.239696</td>\n",
       "      <td>2.085579</td>\n",
       "      <td>-0.363481</td>\n",
       "      <td>0.230844</td>\n",
       "      <td>9</td>\n",
       "    </tr>\n",
       "    <tr>\n",
       "      <th>2013-01-05</th>\n",
       "      <td>0.079313</td>\n",
       "      <td>-0.040295</td>\n",
       "      <td>1.046353</td>\n",
       "      <td>1.242420</td>\n",
       "      <td>5</td>\n",
       "    </tr>\n",
       "    <tr>\n",
       "      <th>2013-01-06</th>\n",
       "      <td>-1.304693</td>\n",
       "      <td>-1.062144</td>\n",
       "      <td>1.385610</td>\n",
       "      <td>0.326687</td>\n",
       "      <td>6</td>\n",
       "    </tr>\n",
       "  </tbody>\n",
       "</table>\n",
       "</div>"
      ],
      "text/plain": [
       "                   A         B         C         D  F\n",
       "2013-01-01  1.354493 -0.322129  0.360092  0.398348  1\n",
       "2013-01-02 -0.080907  0.933953  0.436917  0.287909  2\n",
       "2013-01-03 -0.732833  1.342063  1.747463  0.153798  3\n",
       "2013-01-04  1.239696  2.085579 -0.363481  0.230844  9\n",
       "2013-01-05  0.079313 -0.040295  1.046353  1.242420  5\n",
       "2013-01-06 -1.304693 -1.062144  1.385610  0.326687  6"
      ]
     },
     "execution_count": 46,
     "metadata": {},
     "output_type": "execute_result"
    }
   ],
   "source": [
    "df"
   ]
  },
  {
   "cell_type": "code",
   "execution_count": 47,
   "metadata": {},
   "outputs": [
    {
     "data": {
      "text/plain": [
       "A    0.092511\n",
       "B    0.489504\n",
       "C    0.768826\n",
       "D    0.440001\n",
       "F    4.333333\n",
       "dtype: float64"
      ]
     },
     "execution_count": 47,
     "metadata": {},
     "output_type": "execute_result"
    }
   ],
   "source": [
    "df.mean()"
   ]
  },
  {
   "cell_type": "code",
   "execution_count": 48,
   "metadata": {},
   "outputs": [
    {
     "data": {
      "text/plain": [
       "2013-01-01    0.558161\n",
       "2013-01-02    0.715575\n",
       "2013-01-03    1.102098\n",
       "2013-01-04    2.438527\n",
       "2013-01-05    1.465558\n",
       "2013-01-06    1.069092\n",
       "Freq: D, dtype: float64"
      ]
     },
     "execution_count": 48,
     "metadata": {},
     "output_type": "execute_result"
    }
   ],
   "source": [
    "df.mean(axis=1)"
   ]
  },
  {
   "cell_type": "markdown",
   "metadata": {},
   "source": [
    "### 合并操作"
   ]
  },
  {
   "cell_type": "markdown",
   "metadata": {},
   "source": [
    "#### 连接 "
   ]
  },
  {
   "cell_type": "code",
   "execution_count": 49,
   "metadata": {},
   "outputs": [],
   "source": [
    "df = pd.DataFrame(np.random.randn(10,4))"
   ]
  },
  {
   "cell_type": "code",
   "execution_count": 50,
   "metadata": {},
   "outputs": [
    {
     "data": {
      "text/html": [
       "<div>\n",
       "<style scoped>\n",
       "    .dataframe tbody tr th:only-of-type {\n",
       "        vertical-align: middle;\n",
       "    }\n",
       "\n",
       "    .dataframe tbody tr th {\n",
       "        vertical-align: top;\n",
       "    }\n",
       "\n",
       "    .dataframe thead th {\n",
       "        text-align: right;\n",
       "    }\n",
       "</style>\n",
       "<table border=\"1\" class=\"dataframe\">\n",
       "  <thead>\n",
       "    <tr style=\"text-align: right;\">\n",
       "      <th></th>\n",
       "      <th>0</th>\n",
       "      <th>1</th>\n",
       "      <th>2</th>\n",
       "      <th>3</th>\n",
       "    </tr>\n",
       "  </thead>\n",
       "  <tbody>\n",
       "    <tr>\n",
       "      <th>0</th>\n",
       "      <td>0.058312</td>\n",
       "      <td>-0.635674</td>\n",
       "      <td>0.026938</td>\n",
       "      <td>-0.037370</td>\n",
       "    </tr>\n",
       "    <tr>\n",
       "      <th>1</th>\n",
       "      <td>-0.237358</td>\n",
       "      <td>-0.413015</td>\n",
       "      <td>-0.558648</td>\n",
       "      <td>0.529533</td>\n",
       "    </tr>\n",
       "    <tr>\n",
       "      <th>2</th>\n",
       "      <td>0.526878</td>\n",
       "      <td>-0.964944</td>\n",
       "      <td>0.308930</td>\n",
       "      <td>0.242833</td>\n",
       "    </tr>\n",
       "    <tr>\n",
       "      <th>3</th>\n",
       "      <td>-0.557526</td>\n",
       "      <td>0.642577</td>\n",
       "      <td>1.153592</td>\n",
       "      <td>-2.187862</td>\n",
       "    </tr>\n",
       "    <tr>\n",
       "      <th>4</th>\n",
       "      <td>2.439254</td>\n",
       "      <td>-1.403200</td>\n",
       "      <td>0.566686</td>\n",
       "      <td>-1.168231</td>\n",
       "    </tr>\n",
       "    <tr>\n",
       "      <th>5</th>\n",
       "      <td>0.025062</td>\n",
       "      <td>-1.700577</td>\n",
       "      <td>0.465125</td>\n",
       "      <td>-0.697342</td>\n",
       "    </tr>\n",
       "    <tr>\n",
       "      <th>6</th>\n",
       "      <td>-0.389664</td>\n",
       "      <td>0.205015</td>\n",
       "      <td>0.253797</td>\n",
       "      <td>-0.712028</td>\n",
       "    </tr>\n",
       "    <tr>\n",
       "      <th>7</th>\n",
       "      <td>0.896758</td>\n",
       "      <td>-0.279155</td>\n",
       "      <td>1.570913</td>\n",
       "      <td>0.022613</td>\n",
       "    </tr>\n",
       "    <tr>\n",
       "      <th>8</th>\n",
       "      <td>1.048824</td>\n",
       "      <td>-0.153522</td>\n",
       "      <td>1.800595</td>\n",
       "      <td>1.569588</td>\n",
       "    </tr>\n",
       "    <tr>\n",
       "      <th>9</th>\n",
       "      <td>0.701642</td>\n",
       "      <td>-2.156597</td>\n",
       "      <td>-0.371986</td>\n",
       "      <td>-0.556915</td>\n",
       "    </tr>\n",
       "  </tbody>\n",
       "</table>\n",
       "</div>"
      ],
      "text/plain": [
       "          0         1         2         3\n",
       "0  0.058312 -0.635674  0.026938 -0.037370\n",
       "1 -0.237358 -0.413015 -0.558648  0.529533\n",
       "2  0.526878 -0.964944  0.308930  0.242833\n",
       "3 -0.557526  0.642577  1.153592 -2.187862\n",
       "4  2.439254 -1.403200  0.566686 -1.168231\n",
       "5  0.025062 -1.700577  0.465125 -0.697342\n",
       "6 -0.389664  0.205015  0.253797 -0.712028\n",
       "7  0.896758 -0.279155  1.570913  0.022613\n",
       "8  1.048824 -0.153522  1.800595  1.569588\n",
       "9  0.701642 -2.156597 -0.371986 -0.556915"
      ]
     },
     "execution_count": 50,
     "metadata": {},
     "output_type": "execute_result"
    }
   ],
   "source": [
    "df"
   ]
  },
  {
   "cell_type": "markdown",
   "metadata": {},
   "source": [
    "也可以使用 pd.concat 将多个 pandas 对象进行连接"
   ]
  },
  {
   "cell_type": "code",
   "execution_count": 52,
   "metadata": {},
   "outputs": [
    {
     "data": {
      "text/plain": [
       "[          0         1         2         3\n",
       " 0  0.058312 -0.635674  0.026938 -0.037370\n",
       " 1 -0.237358 -0.413015 -0.558648  0.529533,\n",
       "           0       1         2         3\n",
       " 4  2.439254 -1.4032  0.566686 -1.168231,\n",
       "           0         1         2         3\n",
       " 7  0.896758 -0.279155  1.570913  0.022613\n",
       " 8  1.048824 -0.153522  1.800595  1.569588\n",
       " 9  0.701642 -2.156597 -0.371986 -0.556915]"
      ]
     },
     "execution_count": 52,
     "metadata": {},
     "output_type": "execute_result"
    }
   ],
   "source": [
    "pieces = [df[:2],df[4:5],df[7:]]\n",
    "pieces"
   ]
  },
  {
   "cell_type": "code",
   "execution_count": 53,
   "metadata": {},
   "outputs": [
    {
     "data": {
      "text/html": [
       "<div>\n",
       "<style scoped>\n",
       "    .dataframe tbody tr th:only-of-type {\n",
       "        vertical-align: middle;\n",
       "    }\n",
       "\n",
       "    .dataframe tbody tr th {\n",
       "        vertical-align: top;\n",
       "    }\n",
       "\n",
       "    .dataframe thead th {\n",
       "        text-align: right;\n",
       "    }\n",
       "</style>\n",
       "<table border=\"1\" class=\"dataframe\">\n",
       "  <thead>\n",
       "    <tr style=\"text-align: right;\">\n",
       "      <th></th>\n",
       "      <th>0</th>\n",
       "      <th>1</th>\n",
       "      <th>2</th>\n",
       "      <th>3</th>\n",
       "    </tr>\n",
       "  </thead>\n",
       "  <tbody>\n",
       "    <tr>\n",
       "      <th>0</th>\n",
       "      <td>0.058312</td>\n",
       "      <td>-0.635674</td>\n",
       "      <td>0.026938</td>\n",
       "      <td>-0.037370</td>\n",
       "    </tr>\n",
       "    <tr>\n",
       "      <th>1</th>\n",
       "      <td>-0.237358</td>\n",
       "      <td>-0.413015</td>\n",
       "      <td>-0.558648</td>\n",
       "      <td>0.529533</td>\n",
       "    </tr>\n",
       "    <tr>\n",
       "      <th>4</th>\n",
       "      <td>2.439254</td>\n",
       "      <td>-1.403200</td>\n",
       "      <td>0.566686</td>\n",
       "      <td>-1.168231</td>\n",
       "    </tr>\n",
       "    <tr>\n",
       "      <th>7</th>\n",
       "      <td>0.896758</td>\n",
       "      <td>-0.279155</td>\n",
       "      <td>1.570913</td>\n",
       "      <td>0.022613</td>\n",
       "    </tr>\n",
       "    <tr>\n",
       "      <th>8</th>\n",
       "      <td>1.048824</td>\n",
       "      <td>-0.153522</td>\n",
       "      <td>1.800595</td>\n",
       "      <td>1.569588</td>\n",
       "    </tr>\n",
       "    <tr>\n",
       "      <th>9</th>\n",
       "      <td>0.701642</td>\n",
       "      <td>-2.156597</td>\n",
       "      <td>-0.371986</td>\n",
       "      <td>-0.556915</td>\n",
       "    </tr>\n",
       "  </tbody>\n",
       "</table>\n",
       "</div>"
      ],
      "text/plain": [
       "          0         1         2         3\n",
       "0  0.058312 -0.635674  0.026938 -0.037370\n",
       "1 -0.237358 -0.413015 -0.558648  0.529533\n",
       "4  2.439254 -1.403200  0.566686 -1.168231\n",
       "7  0.896758 -0.279155  1.570913  0.022613\n",
       "8  1.048824 -0.153522  1.800595  1.569588\n",
       "9  0.701642 -2.156597 -0.371986 -0.556915"
      ]
     },
     "execution_count": 53,
     "metadata": {},
     "output_type": "execute_result"
    }
   ],
   "source": [
    "pd.concat(pieces)"
   ]
  },
  {
   "cell_type": "markdown",
   "metadata": {},
   "source": [
    "数据库中的Join"
   ]
  },
  {
   "cell_type": "markdown",
   "metadata": {},
   "source": [
    "merge 可以实现数据库中的 join 操作"
   ]
  },
  {
   "cell_type": "code",
   "execution_count": 55,
   "metadata": {},
   "outputs": [
    {
     "name": "stdout",
     "output_type": "stream",
     "text": [
      "   key  lval\n",
      "0  foo     1\n",
      "1  foo     2\n",
      "   key  rval\n",
      "0  foo     4\n",
      "1  foo     5\n",
      "<class 'pandas.core.frame.DataFrame'>\n",
      "<class 'pandas.core.frame.DataFrame'>\n"
     ]
    }
   ],
   "source": [
    "left = pd.DataFrame({\"key\":[\"foo\",\"foo\"], \"lval\":[1,2]})\n",
    "right = pd.DataFrame({\"key\":[\"foo\",\"foo\"], \"rval\":[4,5]})\n",
    "\n",
    "print(left)\n",
    "print(right)\n",
    "print(type(left))\n",
    "print(type(right))"
   ]
  },
  {
   "cell_type": "code",
   "execution_count": 56,
   "metadata": {},
   "outputs": [
    {
     "data": {
      "text/html": [
       "<div>\n",
       "<style scoped>\n",
       "    .dataframe tbody tr th:only-of-type {\n",
       "        vertical-align: middle;\n",
       "    }\n",
       "\n",
       "    .dataframe tbody tr th {\n",
       "        vertical-align: top;\n",
       "    }\n",
       "\n",
       "    .dataframe thead th {\n",
       "        text-align: right;\n",
       "    }\n",
       "</style>\n",
       "<table border=\"1\" class=\"dataframe\">\n",
       "  <thead>\n",
       "    <tr style=\"text-align: right;\">\n",
       "      <th></th>\n",
       "      <th>key</th>\n",
       "      <th>lval</th>\n",
       "      <th>rval</th>\n",
       "    </tr>\n",
       "  </thead>\n",
       "  <tbody>\n",
       "    <tr>\n",
       "      <th>0</th>\n",
       "      <td>foo</td>\n",
       "      <td>1</td>\n",
       "      <td>4</td>\n",
       "    </tr>\n",
       "    <tr>\n",
       "      <th>1</th>\n",
       "      <td>foo</td>\n",
       "      <td>1</td>\n",
       "      <td>5</td>\n",
       "    </tr>\n",
       "    <tr>\n",
       "      <th>2</th>\n",
       "      <td>foo</td>\n",
       "      <td>2</td>\n",
       "      <td>4</td>\n",
       "    </tr>\n",
       "    <tr>\n",
       "      <th>3</th>\n",
       "      <td>foo</td>\n",
       "      <td>2</td>\n",
       "      <td>5</td>\n",
       "    </tr>\n",
       "  </tbody>\n",
       "</table>\n",
       "</div>"
      ],
      "text/plain": [
       "   key  lval  rval\n",
       "0  foo     1     4\n",
       "1  foo     1     5\n",
       "2  foo     2     4\n",
       "3  foo     2     5"
      ]
     },
     "execution_count": 56,
     "metadata": {},
     "output_type": "execute_result"
    }
   ],
   "source": [
    "pd.merge(left, right, on=\"key\")"
   ]
  },
  {
   "cell_type": "markdown",
   "metadata": {},
   "source": [
    "### append"
   ]
  },
  {
   "cell_type": "markdown",
   "metadata": {},
   "source": [
    "向 DataFrame 中添加行"
   ]
  },
  {
   "cell_type": "code",
   "execution_count": 58,
   "metadata": {},
   "outputs": [
    {
     "data": {
      "text/html": [
       "<div>\n",
       "<style scoped>\n",
       "    .dataframe tbody tr th:only-of-type {\n",
       "        vertical-align: middle;\n",
       "    }\n",
       "\n",
       "    .dataframe tbody tr th {\n",
       "        vertical-align: top;\n",
       "    }\n",
       "\n",
       "    .dataframe thead th {\n",
       "        text-align: right;\n",
       "    }\n",
       "</style>\n",
       "<table border=\"1\" class=\"dataframe\">\n",
       "  <thead>\n",
       "    <tr style=\"text-align: right;\">\n",
       "      <th></th>\n",
       "      <th>A</th>\n",
       "      <th>B</th>\n",
       "      <th>C</th>\n",
       "      <th>D</th>\n",
       "    </tr>\n",
       "  </thead>\n",
       "  <tbody>\n",
       "    <tr>\n",
       "      <th>0</th>\n",
       "      <td>0.459643</td>\n",
       "      <td>-0.378127</td>\n",
       "      <td>-1.062132</td>\n",
       "      <td>-1.138199</td>\n",
       "    </tr>\n",
       "    <tr>\n",
       "      <th>1</th>\n",
       "      <td>-0.095095</td>\n",
       "      <td>0.350394</td>\n",
       "      <td>-0.231968</td>\n",
       "      <td>-1.590776</td>\n",
       "    </tr>\n",
       "    <tr>\n",
       "      <th>2</th>\n",
       "      <td>-1.967441</td>\n",
       "      <td>-0.275402</td>\n",
       "      <td>1.043646</td>\n",
       "      <td>-0.020758</td>\n",
       "    </tr>\n",
       "    <tr>\n",
       "      <th>3</th>\n",
       "      <td>1.685108</td>\n",
       "      <td>0.341329</td>\n",
       "      <td>-0.601349</td>\n",
       "      <td>-0.123905</td>\n",
       "    </tr>\n",
       "    <tr>\n",
       "      <th>4</th>\n",
       "      <td>0.560273</td>\n",
       "      <td>-0.413988</td>\n",
       "      <td>-0.531212</td>\n",
       "      <td>-1.229444</td>\n",
       "    </tr>\n",
       "    <tr>\n",
       "      <th>5</th>\n",
       "      <td>0.771256</td>\n",
       "      <td>-0.998426</td>\n",
       "      <td>-1.678794</td>\n",
       "      <td>-0.772468</td>\n",
       "    </tr>\n",
       "    <tr>\n",
       "      <th>6</th>\n",
       "      <td>0.823599</td>\n",
       "      <td>-0.765494</td>\n",
       "      <td>1.135680</td>\n",
       "      <td>-1.112937</td>\n",
       "    </tr>\n",
       "    <tr>\n",
       "      <th>7</th>\n",
       "      <td>0.078997</td>\n",
       "      <td>0.036722</td>\n",
       "      <td>-1.778946</td>\n",
       "      <td>0.054995</td>\n",
       "    </tr>\n",
       "  </tbody>\n",
       "</table>\n",
       "</div>"
      ],
      "text/plain": [
       "          A         B         C         D\n",
       "0  0.459643 -0.378127 -1.062132 -1.138199\n",
       "1 -0.095095  0.350394 -0.231968 -1.590776\n",
       "2 -1.967441 -0.275402  1.043646 -0.020758\n",
       "3  1.685108  0.341329 -0.601349 -0.123905\n",
       "4  0.560273 -0.413988 -0.531212 -1.229444\n",
       "5  0.771256 -0.998426 -1.678794 -0.772468\n",
       "6  0.823599 -0.765494  1.135680 -1.112937\n",
       "7  0.078997  0.036722 -1.778946  0.054995"
      ]
     },
     "execution_count": 58,
     "metadata": {},
     "output_type": "execute_result"
    }
   ],
   "source": [
    "# np.random.randn(x,y) 生成一个 x 行 y 列的数组\n",
    "df = pd.DataFrame(np.random.randn(8,4), columns=[\"A\",\"B\",\"C\",\"D\"])\n",
    "df"
   ]
  },
  {
   "cell_type": "markdown",
   "metadata": {},
   "source": [
    "将第三行的值添加到最后"
   ]
  },
  {
   "cell_type": "code",
   "execution_count": 59,
   "metadata": {},
   "outputs": [
    {
     "data": {
      "text/plain": [
       "A    1.685108\n",
       "B    0.341329\n",
       "C   -0.601349\n",
       "D   -0.123905\n",
       "Name: 3, dtype: float64"
      ]
     },
     "execution_count": 59,
     "metadata": {},
     "output_type": "execute_result"
    }
   ],
   "source": [
    "df.iloc[3]"
   ]
  },
  {
   "cell_type": "code",
   "execution_count": 60,
   "metadata": {},
   "outputs": [
    {
     "ename": "AttributeError",
     "evalue": "'DataFrame' object has no attribute 'append'",
     "output_type": "error",
     "traceback": [
      "\u001b[1;31m---------------------------------------------------------------------------\u001b[0m",
      "\u001b[1;31mAttributeError\u001b[0m                            Traceback (most recent call last)",
      "\u001b[1;32me:\\PycharmProjects\\ml_in_action\\code\\pandas_tutorial\\1_pandas_overview.ipynb Cell 96\u001b[0m line \u001b[0;36m1\n\u001b[1;32m----> <a href='vscode-notebook-cell:/e%3A/PycharmProjects/ml_in_action/code/pandas_tutorial/1_pandas_overview.ipynb#Y205sZmlsZQ%3D%3D?line=0'>1</a>\u001b[0m df\u001b[39m.\u001b[39;49mappend(df\u001b[39m.\u001b[39miloc[\u001b[39m3\u001b[39m])\n",
      "File \u001b[1;32me:\\Anaconda3\\envs\\ml\\lib\\site-packages\\pandas\\core\\generic.py:5989\u001b[0m, in \u001b[0;36mNDFrame.__getattr__\u001b[1;34m(self, name)\u001b[0m\n\u001b[0;32m   5982\u001b[0m \u001b[39mif\u001b[39;00m (\n\u001b[0;32m   5983\u001b[0m     name \u001b[39mnot\u001b[39;00m \u001b[39min\u001b[39;00m \u001b[39mself\u001b[39m\u001b[39m.\u001b[39m_internal_names_set\n\u001b[0;32m   5984\u001b[0m     \u001b[39mand\u001b[39;00m name \u001b[39mnot\u001b[39;00m \u001b[39min\u001b[39;00m \u001b[39mself\u001b[39m\u001b[39m.\u001b[39m_metadata\n\u001b[0;32m   5985\u001b[0m     \u001b[39mand\u001b[39;00m name \u001b[39mnot\u001b[39;00m \u001b[39min\u001b[39;00m \u001b[39mself\u001b[39m\u001b[39m.\u001b[39m_accessors\n\u001b[0;32m   5986\u001b[0m     \u001b[39mand\u001b[39;00m \u001b[39mself\u001b[39m\u001b[39m.\u001b[39m_info_axis\u001b[39m.\u001b[39m_can_hold_identifiers_and_holds_name(name)\n\u001b[0;32m   5987\u001b[0m ):\n\u001b[0;32m   5988\u001b[0m     \u001b[39mreturn\u001b[39;00m \u001b[39mself\u001b[39m[name]\n\u001b[1;32m-> 5989\u001b[0m \u001b[39mreturn\u001b[39;00m \u001b[39mobject\u001b[39;49m\u001b[39m.\u001b[39;49m\u001b[39m__getattribute__\u001b[39;49m(\u001b[39mself\u001b[39;49m, name)\n",
      "\u001b[1;31mAttributeError\u001b[0m: 'DataFrame' object has no attribute 'append'"
     ]
    }
   ],
   "source": [
    "df.append(df.iloc[3])"
   ]
  },
  {
   "cell_type": "code",
   "execution_count": 63,
   "metadata": {},
   "outputs": [
    {
     "data": {
      "text/html": [
       "<div>\n",
       "<style scoped>\n",
       "    .dataframe tbody tr th:only-of-type {\n",
       "        vertical-align: middle;\n",
       "    }\n",
       "\n",
       "    .dataframe tbody tr th {\n",
       "        vertical-align: top;\n",
       "    }\n",
       "\n",
       "    .dataframe thead th {\n",
       "        text-align: right;\n",
       "    }\n",
       "</style>\n",
       "<table border=\"1\" class=\"dataframe\">\n",
       "  <thead>\n",
       "    <tr style=\"text-align: right;\">\n",
       "      <th></th>\n",
       "      <th>A</th>\n",
       "      <th>B</th>\n",
       "      <th>C</th>\n",
       "      <th>D</th>\n",
       "      <th>3</th>\n",
       "    </tr>\n",
       "  </thead>\n",
       "  <tbody>\n",
       "    <tr>\n",
       "      <th>0</th>\n",
       "      <td>0.459643</td>\n",
       "      <td>-0.378127</td>\n",
       "      <td>-1.062132</td>\n",
       "      <td>-1.138199</td>\n",
       "      <td>NaN</td>\n",
       "    </tr>\n",
       "    <tr>\n",
       "      <th>1</th>\n",
       "      <td>-0.095095</td>\n",
       "      <td>0.350394</td>\n",
       "      <td>-0.231968</td>\n",
       "      <td>-1.590776</td>\n",
       "      <td>NaN</td>\n",
       "    </tr>\n",
       "    <tr>\n",
       "      <th>2</th>\n",
       "      <td>-1.967441</td>\n",
       "      <td>-0.275402</td>\n",
       "      <td>1.043646</td>\n",
       "      <td>-0.020758</td>\n",
       "      <td>NaN</td>\n",
       "    </tr>\n",
       "    <tr>\n",
       "      <th>3</th>\n",
       "      <td>1.685108</td>\n",
       "      <td>0.341329</td>\n",
       "      <td>-0.601349</td>\n",
       "      <td>-0.123905</td>\n",
       "      <td>NaN</td>\n",
       "    </tr>\n",
       "    <tr>\n",
       "      <th>4</th>\n",
       "      <td>0.560273</td>\n",
       "      <td>-0.413988</td>\n",
       "      <td>-0.531212</td>\n",
       "      <td>-1.229444</td>\n",
       "      <td>NaN</td>\n",
       "    </tr>\n",
       "    <tr>\n",
       "      <th>5</th>\n",
       "      <td>0.771256</td>\n",
       "      <td>-0.998426</td>\n",
       "      <td>-1.678794</td>\n",
       "      <td>-0.772468</td>\n",
       "      <td>NaN</td>\n",
       "    </tr>\n",
       "    <tr>\n",
       "      <th>6</th>\n",
       "      <td>0.823599</td>\n",
       "      <td>-0.765494</td>\n",
       "      <td>1.135680</td>\n",
       "      <td>-1.112937</td>\n",
       "      <td>NaN</td>\n",
       "    </tr>\n",
       "    <tr>\n",
       "      <th>7</th>\n",
       "      <td>0.078997</td>\n",
       "      <td>0.036722</td>\n",
       "      <td>-1.778946</td>\n",
       "      <td>0.054995</td>\n",
       "      <td>NaN</td>\n",
       "    </tr>\n",
       "    <tr>\n",
       "      <th>A</th>\n",
       "      <td>NaN</td>\n",
       "      <td>NaN</td>\n",
       "      <td>NaN</td>\n",
       "      <td>NaN</td>\n",
       "      <td>1.685108</td>\n",
       "    </tr>\n",
       "    <tr>\n",
       "      <th>B</th>\n",
       "      <td>NaN</td>\n",
       "      <td>NaN</td>\n",
       "      <td>NaN</td>\n",
       "      <td>NaN</td>\n",
       "      <td>0.341329</td>\n",
       "    </tr>\n",
       "    <tr>\n",
       "      <th>C</th>\n",
       "      <td>NaN</td>\n",
       "      <td>NaN</td>\n",
       "      <td>NaN</td>\n",
       "      <td>NaN</td>\n",
       "      <td>-0.601349</td>\n",
       "    </tr>\n",
       "    <tr>\n",
       "      <th>D</th>\n",
       "      <td>NaN</td>\n",
       "      <td>NaN</td>\n",
       "      <td>NaN</td>\n",
       "      <td>NaN</td>\n",
       "      <td>-0.123905</td>\n",
       "    </tr>\n",
       "  </tbody>\n",
       "</table>\n",
       "</div>"
      ],
      "text/plain": [
       "          A         B         C         D         3\n",
       "0  0.459643 -0.378127 -1.062132 -1.138199       NaN\n",
       "1 -0.095095  0.350394 -0.231968 -1.590776       NaN\n",
       "2 -1.967441 -0.275402  1.043646 -0.020758       NaN\n",
       "3  1.685108  0.341329 -0.601349 -0.123905       NaN\n",
       "4  0.560273 -0.413988 -0.531212 -1.229444       NaN\n",
       "5  0.771256 -0.998426 -1.678794 -0.772468       NaN\n",
       "6  0.823599 -0.765494  1.135680 -1.112937       NaN\n",
       "7  0.078997  0.036722 -1.778946  0.054995       NaN\n",
       "A       NaN       NaN       NaN       NaN  1.685108\n",
       "B       NaN       NaN       NaN       NaN  0.341329\n",
       "C       NaN       NaN       NaN       NaN -0.601349\n",
       "D       NaN       NaN       NaN       NaN -0.123905"
      ]
     },
     "execution_count": 63,
     "metadata": {},
     "output_type": "execute_result"
    }
   ],
   "source": [
    "pd.concat([df,df.iloc[3]],axis=1)"
   ]
  },
  {
   "cell_type": "code",
   "execution_count": 64,
   "metadata": {},
   "outputs": [
    {
     "data": {
      "text/html": [
       "<div>\n",
       "<style scoped>\n",
       "    .dataframe tbody tr th:only-of-type {\n",
       "        vertical-align: middle;\n",
       "    }\n",
       "\n",
       "    .dataframe tbody tr th {\n",
       "        vertical-align: top;\n",
       "    }\n",
       "\n",
       "    .dataframe thead th {\n",
       "        text-align: right;\n",
       "    }\n",
       "</style>\n",
       "<table border=\"1\" class=\"dataframe\">\n",
       "  <thead>\n",
       "    <tr style=\"text-align: right;\">\n",
       "      <th></th>\n",
       "      <th>A</th>\n",
       "      <th>B</th>\n",
       "      <th>C</th>\n",
       "      <th>D</th>\n",
       "    </tr>\n",
       "  </thead>\n",
       "  <tbody>\n",
       "    <tr>\n",
       "      <th>0</th>\n",
       "      <td>0.459643</td>\n",
       "      <td>-0.378127</td>\n",
       "      <td>-1.062132</td>\n",
       "      <td>-1.138199</td>\n",
       "    </tr>\n",
       "    <tr>\n",
       "      <th>1</th>\n",
       "      <td>-0.095095</td>\n",
       "      <td>0.350394</td>\n",
       "      <td>-0.231968</td>\n",
       "      <td>-1.590776</td>\n",
       "    </tr>\n",
       "    <tr>\n",
       "      <th>2</th>\n",
       "      <td>-1.967441</td>\n",
       "      <td>-0.275402</td>\n",
       "      <td>1.043646</td>\n",
       "      <td>-0.020758</td>\n",
       "    </tr>\n",
       "    <tr>\n",
       "      <th>3</th>\n",
       "      <td>1.685108</td>\n",
       "      <td>0.341329</td>\n",
       "      <td>-0.601349</td>\n",
       "      <td>-0.123905</td>\n",
       "    </tr>\n",
       "    <tr>\n",
       "      <th>4</th>\n",
       "      <td>0.560273</td>\n",
       "      <td>-0.413988</td>\n",
       "      <td>-0.531212</td>\n",
       "      <td>-1.229444</td>\n",
       "    </tr>\n",
       "    <tr>\n",
       "      <th>5</th>\n",
       "      <td>0.771256</td>\n",
       "      <td>-0.998426</td>\n",
       "      <td>-1.678794</td>\n",
       "      <td>-0.772468</td>\n",
       "    </tr>\n",
       "    <tr>\n",
       "      <th>6</th>\n",
       "      <td>0.823599</td>\n",
       "      <td>-0.765494</td>\n",
       "      <td>1.135680</td>\n",
       "      <td>-1.112937</td>\n",
       "    </tr>\n",
       "    <tr>\n",
       "      <th>7</th>\n",
       "      <td>0.078997</td>\n",
       "      <td>0.036722</td>\n",
       "      <td>-1.778946</td>\n",
       "      <td>0.054995</td>\n",
       "    </tr>\n",
       "  </tbody>\n",
       "</table>\n",
       "</div>"
      ],
      "text/plain": [
       "          A         B         C         D\n",
       "0  0.459643 -0.378127 -1.062132 -1.138199\n",
       "1 -0.095095  0.350394 -0.231968 -1.590776\n",
       "2 -1.967441 -0.275402  1.043646 -0.020758\n",
       "3  1.685108  0.341329 -0.601349 -0.123905\n",
       "4  0.560273 -0.413988 -0.531212 -1.229444\n",
       "5  0.771256 -0.998426 -1.678794 -0.772468\n",
       "6  0.823599 -0.765494  1.135680 -1.112937\n",
       "7  0.078997  0.036722 -1.778946  0.054995"
      ]
     },
     "execution_count": 64,
     "metadata": {},
     "output_type": "execute_result"
    }
   ],
   "source": [
    "df"
   ]
  },
  {
   "cell_type": "code",
   "execution_count": 65,
   "metadata": {},
   "outputs": [
    {
     "data": {
      "text/plain": [
       "A    1.685108\n",
       "B    0.341329\n",
       "C   -0.601349\n",
       "D   -0.123905\n",
       "Name: 3, dtype: float64"
      ]
     },
     "execution_count": 65,
     "metadata": {},
     "output_type": "execute_result"
    }
   ],
   "source": [
    "df.iloc[3]"
   ]
  },
  {
   "cell_type": "code",
   "execution_count": null,
   "metadata": {},
   "outputs": [],
   "source": []
  }
 ],
 "metadata": {
  "kernelspec": {
   "display_name": "ml",
   "language": "python",
   "name": "python3"
  },
  "language_info": {
   "codemirror_mode": {
    "name": "ipython",
    "version": 3
   },
   "file_extension": ".py",
   "mimetype": "text/x-python",
   "name": "python",
   "nbconvert_exporter": "python",
   "pygments_lexer": "ipython3",
   "version": "3.8.18"
  }
 },
 "nbformat": 4,
 "nbformat_minor": 2
}
