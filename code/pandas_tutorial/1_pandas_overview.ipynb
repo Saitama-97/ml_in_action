{
 "cells": [
  {
   "cell_type": "markdown",
   "metadata": {},
   "source": [
    "# Pandas"
   ]
  },
  {
   "cell_type": "code",
   "execution_count": 1,
   "metadata": {},
   "outputs": [],
   "source": [
    "import pandas as pd\n",
    "import numpy as np"
   ]
  },
  {
   "cell_type": "markdown",
   "metadata": {},
   "source": [
    "### 生成Pandas对象"
   ]
  },
  {
   "cell_type": "markdown",
   "metadata": {},
   "source": [
    "Series"
   ]
  },
  {
   "cell_type": "code",
   "execution_count": 2,
   "metadata": {},
   "outputs": [],
   "source": [
    "# 一维Series可用一维列表初始化\n",
    "s = pd.Series([1,3,5,np.nan,6,8])"
   ]
  },
  {
   "cell_type": "code",
   "execution_count": 3,
   "metadata": {},
   "outputs": [
    {
     "data": {
      "text/plain": [
       "0    1.0\n",
       "1    3.0\n",
       "2    5.0\n",
       "3    NaN\n",
       "4    6.0\n",
       "5    8.0\n",
       "dtype: float64"
      ]
     },
     "execution_count": 3,
     "metadata": {},
     "output_type": "execute_result"
    }
   ],
   "source": [
    "s"
   ]
  },
  {
   "cell_type": "code",
   "execution_count": 4,
   "metadata": {},
   "outputs": [
    {
     "data": {
      "text/plain": [
       "(6,)"
      ]
     },
     "execution_count": 4,
     "metadata": {},
     "output_type": "execute_result"
    }
   ],
   "source": [
    "s.shape"
   ]
  },
  {
   "cell_type": "markdown",
   "metadata": {},
   "source": [
    "DataFrame"
   ]
  },
  {
   "cell_type": "markdown",
   "metadata": {},
   "source": [
    "DateFrame是一个二维结构，这里首先构建一个时间序列，作为第一维的下标"
   ]
  },
  {
   "cell_type": "code",
   "execution_count": 5,
   "metadata": {},
   "outputs": [
    {
     "data": {
      "text/plain": [
       "DatetimeIndex(['2013-01-01', '2013-01-02', '2013-01-03', '2013-01-04',\n",
       "               '2013-01-05', '2013-01-06'],\n",
       "              dtype='datetime64[ns]', freq='D')"
      ]
     },
     "execution_count": 5,
     "metadata": {},
     "output_type": "execute_result"
    }
   ],
   "source": [
    "dates = pd.date_range(\"20130101\", periods=6)\n",
    "dates"
   ]
  },
  {
   "cell_type": "code",
   "execution_count": 71,
   "metadata": {},
   "outputs": [
    {
     "data": {
      "text/html": [
       "<div>\n",
       "<style scoped>\n",
       "    .dataframe tbody tr th:only-of-type {\n",
       "        vertical-align: middle;\n",
       "    }\n",
       "\n",
       "    .dataframe tbody tr th {\n",
       "        vertical-align: top;\n",
       "    }\n",
       "\n",
       "    .dataframe thead th {\n",
       "        text-align: right;\n",
       "    }\n",
       "</style>\n",
       "<table border=\"1\" class=\"dataframe\">\n",
       "  <thead>\n",
       "    <tr style=\"text-align: right;\">\n",
       "      <th></th>\n",
       "      <th>A</th>\n",
       "      <th>B</th>\n",
       "      <th>C</th>\n",
       "      <th>D</th>\n",
       "    </tr>\n",
       "  </thead>\n",
       "  <tbody>\n",
       "    <tr>\n",
       "      <th>2013-01-01</th>\n",
       "      <td>0.267376</td>\n",
       "      <td>0.585746</td>\n",
       "      <td>-0.196869</td>\n",
       "      <td>0.768682</td>\n",
       "    </tr>\n",
       "    <tr>\n",
       "      <th>2013-01-02</th>\n",
       "      <td>-0.822315</td>\n",
       "      <td>0.075991</td>\n",
       "      <td>-1.817137</td>\n",
       "      <td>-1.198938</td>\n",
       "    </tr>\n",
       "    <tr>\n",
       "      <th>2013-01-03</th>\n",
       "      <td>0.960549</td>\n",
       "      <td>-0.501705</td>\n",
       "      <td>-0.738993</td>\n",
       "      <td>0.691028</td>\n",
       "    </tr>\n",
       "    <tr>\n",
       "      <th>2013-01-04</th>\n",
       "      <td>1.114202</td>\n",
       "      <td>0.533635</td>\n",
       "      <td>-1.448454</td>\n",
       "      <td>-0.518114</td>\n",
       "    </tr>\n",
       "    <tr>\n",
       "      <th>2013-01-05</th>\n",
       "      <td>1.537865</td>\n",
       "      <td>-0.439014</td>\n",
       "      <td>-0.923585</td>\n",
       "      <td>-1.232224</td>\n",
       "    </tr>\n",
       "    <tr>\n",
       "      <th>2013-01-06</th>\n",
       "      <td>-0.448290</td>\n",
       "      <td>0.576860</td>\n",
       "      <td>0.673624</td>\n",
       "      <td>0.234582</td>\n",
       "    </tr>\n",
       "  </tbody>\n",
       "</table>\n",
       "</div>"
      ],
      "text/plain": [
       "                   A         B         C         D\n",
       "2013-01-01  0.267376  0.585746 -0.196869  0.768682\n",
       "2013-01-02 -0.822315  0.075991 -1.817137 -1.198938\n",
       "2013-01-03  0.960549 -0.501705 -0.738993  0.691028\n",
       "2013-01-04  1.114202  0.533635 -1.448454 -0.518114\n",
       "2013-01-05  1.537865 -0.439014 -0.923585 -1.232224\n",
       "2013-01-06 -0.448290  0.576860  0.673624  0.234582"
      ]
     },
     "execution_count": 71,
     "metadata": {},
     "output_type": "execute_result"
    }
   ],
   "source": [
    "df = pd.DataFrame(np.random.randn(6,4),index=dates,columns=list(\"ABCD\"))\n",
    "df"
   ]
  },
  {
   "cell_type": "markdown",
   "metadata": {},
   "source": [
    "默认情况，如果不指定index和column，则值将用从0开始的数字替代"
   ]
  },
  {
   "cell_type": "markdown",
   "metadata": {},
   "source": [
    "除了向DataFrame 传入二维数组，也可以使用字典传入数据"
   ]
  },
  {
   "cell_type": "code",
   "execution_count": 7,
   "metadata": {},
   "outputs": [
    {
     "data": {
      "text/html": [
       "<div>\n",
       "<style scoped>\n",
       "    .dataframe tbody tr th:only-of-type {\n",
       "        vertical-align: middle;\n",
       "    }\n",
       "\n",
       "    .dataframe tbody tr th {\n",
       "        vertical-align: top;\n",
       "    }\n",
       "\n",
       "    .dataframe thead th {\n",
       "        text-align: right;\n",
       "    }\n",
       "</style>\n",
       "<table border=\"1\" class=\"dataframe\">\n",
       "  <thead>\n",
       "    <tr style=\"text-align: right;\">\n",
       "      <th></th>\n",
       "      <th>a</th>\n",
       "      <th>b</th>\n",
       "      <th>c</th>\n",
       "    </tr>\n",
       "  </thead>\n",
       "  <tbody>\n",
       "    <tr>\n",
       "      <th>0</th>\n",
       "      <td>1</td>\n",
       "      <td>2013-01-01</td>\n",
       "      <td>1.0</td>\n",
       "    </tr>\n",
       "    <tr>\n",
       "      <th>1</th>\n",
       "      <td>1</td>\n",
       "      <td>2013-01-01</td>\n",
       "      <td>1.0</td>\n",
       "    </tr>\n",
       "    <tr>\n",
       "      <th>2</th>\n",
       "      <td>1</td>\n",
       "      <td>2013-01-01</td>\n",
       "      <td>1.0</td>\n",
       "    </tr>\n",
       "    <tr>\n",
       "      <th>3</th>\n",
       "      <td>1</td>\n",
       "      <td>2013-01-01</td>\n",
       "      <td>1.0</td>\n",
       "    </tr>\n",
       "  </tbody>\n",
       "</table>\n",
       "</div>"
      ],
      "text/plain": [
       "   a          b    c\n",
       "0  1 2013-01-01  1.0\n",
       "1  1 2013-01-01  1.0\n",
       "2  1 2013-01-01  1.0\n",
       "3  1 2013-01-01  1.0"
      ]
     },
     "execution_count": 7,
     "metadata": {},
     "output_type": "execute_result"
    }
   ],
   "source": [
    "df2 = pd.DataFrame({\n",
    "    \"a\":1,\n",
    "    \"b\":pd.Timestamp(\"20130101\"),\n",
    "    \"c\":pd.Series(1,index=list(range(4)),dtype=\"float32\")\n",
    "})\n",
    "df2"
   ]
  },
  {
   "cell_type": "markdown",
   "metadata": {},
   "source": [
    "### 查看数据"
   ]
  },
  {
   "cell_type": "markdown",
   "metadata": {},
   "source": [
    "头尾数据"
   ]
  },
  {
   "cell_type": "markdown",
   "metadata": {},
   "source": [
    "head 和 tail 方法可以分别查看最前面几行和最后面几行的数据（默认为5）"
   ]
  },
  {
   "cell_type": "code",
   "execution_count": 8,
   "metadata": {},
   "outputs": [
    {
     "data": {
      "text/html": [
       "<div>\n",
       "<style scoped>\n",
       "    .dataframe tbody tr th:only-of-type {\n",
       "        vertical-align: middle;\n",
       "    }\n",
       "\n",
       "    .dataframe tbody tr th {\n",
       "        vertical-align: top;\n",
       "    }\n",
       "\n",
       "    .dataframe thead th {\n",
       "        text-align: right;\n",
       "    }\n",
       "</style>\n",
       "<table border=\"1\" class=\"dataframe\">\n",
       "  <thead>\n",
       "    <tr style=\"text-align: right;\">\n",
       "      <th></th>\n",
       "      <th>A</th>\n",
       "      <th>B</th>\n",
       "      <th>C</th>\n",
       "      <th>D</th>\n",
       "    </tr>\n",
       "  </thead>\n",
       "  <tbody>\n",
       "    <tr>\n",
       "      <th>2013-01-01</th>\n",
       "      <td>-1.402903</td>\n",
       "      <td>0.049582</td>\n",
       "      <td>-1.161489</td>\n",
       "      <td>-0.293990</td>\n",
       "    </tr>\n",
       "    <tr>\n",
       "      <th>2013-01-02</th>\n",
       "      <td>0.978756</td>\n",
       "      <td>0.901375</td>\n",
       "      <td>0.415517</td>\n",
       "      <td>-0.382321</td>\n",
       "    </tr>\n",
       "    <tr>\n",
       "      <th>2013-01-03</th>\n",
       "      <td>0.795442</td>\n",
       "      <td>-0.958289</td>\n",
       "      <td>-1.099207</td>\n",
       "      <td>0.416366</td>\n",
       "    </tr>\n",
       "    <tr>\n",
       "      <th>2013-01-04</th>\n",
       "      <td>0.530126</td>\n",
       "      <td>1.779631</td>\n",
       "      <td>-0.159555</td>\n",
       "      <td>0.088139</td>\n",
       "    </tr>\n",
       "    <tr>\n",
       "      <th>2013-01-05</th>\n",
       "      <td>0.616210</td>\n",
       "      <td>-0.335829</td>\n",
       "      <td>-1.176989</td>\n",
       "      <td>0.829282</td>\n",
       "    </tr>\n",
       "  </tbody>\n",
       "</table>\n",
       "</div>"
      ],
      "text/plain": [
       "                   A         B         C         D\n",
       "2013-01-01 -1.402903  0.049582 -1.161489 -0.293990\n",
       "2013-01-02  0.978756  0.901375  0.415517 -0.382321\n",
       "2013-01-03  0.795442 -0.958289 -1.099207  0.416366\n",
       "2013-01-04  0.530126  1.779631 -0.159555  0.088139\n",
       "2013-01-05  0.616210 -0.335829 -1.176989  0.829282"
      ]
     },
     "execution_count": 8,
     "metadata": {},
     "output_type": "execute_result"
    }
   ],
   "source": [
    "df.head()"
   ]
  },
  {
   "cell_type": "code",
   "execution_count": 9,
   "metadata": {},
   "outputs": [
    {
     "data": {
      "text/html": [
       "<div>\n",
       "<style scoped>\n",
       "    .dataframe tbody tr th:only-of-type {\n",
       "        vertical-align: middle;\n",
       "    }\n",
       "\n",
       "    .dataframe tbody tr th {\n",
       "        vertical-align: top;\n",
       "    }\n",
       "\n",
       "    .dataframe thead th {\n",
       "        text-align: right;\n",
       "    }\n",
       "</style>\n",
       "<table border=\"1\" class=\"dataframe\">\n",
       "  <thead>\n",
       "    <tr style=\"text-align: right;\">\n",
       "      <th></th>\n",
       "      <th>A</th>\n",
       "      <th>B</th>\n",
       "      <th>C</th>\n",
       "      <th>D</th>\n",
       "    </tr>\n",
       "  </thead>\n",
       "  <tbody>\n",
       "    <tr>\n",
       "      <th>2013-01-02</th>\n",
       "      <td>0.978756</td>\n",
       "      <td>0.901375</td>\n",
       "      <td>0.415517</td>\n",
       "      <td>-0.382321</td>\n",
       "    </tr>\n",
       "    <tr>\n",
       "      <th>2013-01-03</th>\n",
       "      <td>0.795442</td>\n",
       "      <td>-0.958289</td>\n",
       "      <td>-1.099207</td>\n",
       "      <td>0.416366</td>\n",
       "    </tr>\n",
       "    <tr>\n",
       "      <th>2013-01-04</th>\n",
       "      <td>0.530126</td>\n",
       "      <td>1.779631</td>\n",
       "      <td>-0.159555</td>\n",
       "      <td>0.088139</td>\n",
       "    </tr>\n",
       "    <tr>\n",
       "      <th>2013-01-05</th>\n",
       "      <td>0.616210</td>\n",
       "      <td>-0.335829</td>\n",
       "      <td>-1.176989</td>\n",
       "      <td>0.829282</td>\n",
       "    </tr>\n",
       "    <tr>\n",
       "      <th>2013-01-06</th>\n",
       "      <td>0.150710</td>\n",
       "      <td>0.549930</td>\n",
       "      <td>0.638278</td>\n",
       "      <td>1.404480</td>\n",
       "    </tr>\n",
       "  </tbody>\n",
       "</table>\n",
       "</div>"
      ],
      "text/plain": [
       "                   A         B         C         D\n",
       "2013-01-02  0.978756  0.901375  0.415517 -0.382321\n",
       "2013-01-03  0.795442 -0.958289 -1.099207  0.416366\n",
       "2013-01-04  0.530126  1.779631 -0.159555  0.088139\n",
       "2013-01-05  0.616210 -0.335829 -1.176989  0.829282\n",
       "2013-01-06  0.150710  0.549930  0.638278  1.404480"
      ]
     },
     "execution_count": 9,
     "metadata": {},
     "output_type": "execute_result"
    }
   ],
   "source": [
    "df.tail()"
   ]
  },
  {
   "cell_type": "markdown",
   "metadata": {},
   "source": [
    "### 下标，列标，数据"
   ]
  },
  {
   "cell_type": "markdown",
   "metadata": {},
   "source": [
    "下标"
   ]
  },
  {
   "cell_type": "code",
   "execution_count": 10,
   "metadata": {},
   "outputs": [
    {
     "data": {
      "text/plain": [
       "DatetimeIndex(['2013-01-01', '2013-01-02', '2013-01-03', '2013-01-04',\n",
       "               '2013-01-05', '2013-01-06'],\n",
       "              dtype='datetime64[ns]', freq='D')"
      ]
     },
     "execution_count": 10,
     "metadata": {},
     "output_type": "execute_result"
    }
   ],
   "source": [
    "df.index"
   ]
  },
  {
   "cell_type": "markdown",
   "metadata": {},
   "source": [
    "列标"
   ]
  },
  {
   "cell_type": "code",
   "execution_count": 11,
   "metadata": {},
   "outputs": [
    {
     "data": {
      "text/plain": [
       "Index(['A', 'B', 'C', 'D'], dtype='object')"
      ]
     },
     "execution_count": 11,
     "metadata": {},
     "output_type": "execute_result"
    }
   ],
   "source": [
    "df.columns"
   ]
  },
  {
   "cell_type": "markdown",
   "metadata": {},
   "source": [
    "数据值"
   ]
  },
  {
   "cell_type": "code",
   "execution_count": 12,
   "metadata": {},
   "outputs": [
    {
     "data": {
      "text/plain": [
       "array([[-1.40290331,  0.04958243, -1.16148888, -0.29399048],\n",
       "       [ 0.97875608,  0.901375  ,  0.41551677, -0.38232086],\n",
       "       [ 0.79544216, -0.95828922, -1.09920733,  0.41636588],\n",
       "       [ 0.5301262 ,  1.77963064, -0.15955543,  0.08813917],\n",
       "       [ 0.61620956, -0.33582861, -1.17698874,  0.82928246],\n",
       "       [ 0.15070979,  0.54993001,  0.63827777,  1.40447973]])"
      ]
     },
     "execution_count": 12,
     "metadata": {},
     "output_type": "execute_result"
    }
   ],
   "source": [
    "df.values"
   ]
  },
  {
   "cell_type": "markdown",
   "metadata": {},
   "source": [
    "### 排序"
   ]
  },
  {
   "cell_type": "markdown",
   "metadata": {},
   "source": [
    "sort_index 方法按照下标大小排序，axis=0表示按照第0维排序"
   ]
  },
  {
   "cell_type": "code",
   "execution_count": 13,
   "metadata": {},
   "outputs": [
    {
     "data": {
      "text/html": [
       "<div>\n",
       "<style scoped>\n",
       "    .dataframe tbody tr th:only-of-type {\n",
       "        vertical-align: middle;\n",
       "    }\n",
       "\n",
       "    .dataframe tbody tr th {\n",
       "        vertical-align: top;\n",
       "    }\n",
       "\n",
       "    .dataframe thead th {\n",
       "        text-align: right;\n",
       "    }\n",
       "</style>\n",
       "<table border=\"1\" class=\"dataframe\">\n",
       "  <thead>\n",
       "    <tr style=\"text-align: right;\">\n",
       "      <th></th>\n",
       "      <th>A</th>\n",
       "      <th>B</th>\n",
       "      <th>C</th>\n",
       "      <th>D</th>\n",
       "    </tr>\n",
       "  </thead>\n",
       "  <tbody>\n",
       "    <tr>\n",
       "      <th>2013-01-01</th>\n",
       "      <td>-1.402903</td>\n",
       "      <td>0.049582</td>\n",
       "      <td>-1.161489</td>\n",
       "      <td>-0.293990</td>\n",
       "    </tr>\n",
       "    <tr>\n",
       "      <th>2013-01-02</th>\n",
       "      <td>0.978756</td>\n",
       "      <td>0.901375</td>\n",
       "      <td>0.415517</td>\n",
       "      <td>-0.382321</td>\n",
       "    </tr>\n",
       "    <tr>\n",
       "      <th>2013-01-03</th>\n",
       "      <td>0.795442</td>\n",
       "      <td>-0.958289</td>\n",
       "      <td>-1.099207</td>\n",
       "      <td>0.416366</td>\n",
       "    </tr>\n",
       "    <tr>\n",
       "      <th>2013-01-04</th>\n",
       "      <td>0.530126</td>\n",
       "      <td>1.779631</td>\n",
       "      <td>-0.159555</td>\n",
       "      <td>0.088139</td>\n",
       "    </tr>\n",
       "    <tr>\n",
       "      <th>2013-01-05</th>\n",
       "      <td>0.616210</td>\n",
       "      <td>-0.335829</td>\n",
       "      <td>-1.176989</td>\n",
       "      <td>0.829282</td>\n",
       "    </tr>\n",
       "    <tr>\n",
       "      <th>2013-01-06</th>\n",
       "      <td>0.150710</td>\n",
       "      <td>0.549930</td>\n",
       "      <td>0.638278</td>\n",
       "      <td>1.404480</td>\n",
       "    </tr>\n",
       "  </tbody>\n",
       "</table>\n",
       "</div>"
      ],
      "text/plain": [
       "                   A         B         C         D\n",
       "2013-01-01 -1.402903  0.049582 -1.161489 -0.293990\n",
       "2013-01-02  0.978756  0.901375  0.415517 -0.382321\n",
       "2013-01-03  0.795442 -0.958289 -1.099207  0.416366\n",
       "2013-01-04  0.530126  1.779631 -0.159555  0.088139\n",
       "2013-01-05  0.616210 -0.335829 -1.176989  0.829282\n",
       "2013-01-06  0.150710  0.549930  0.638278  1.404480"
      ]
     },
     "execution_count": 13,
     "metadata": {},
     "output_type": "execute_result"
    }
   ],
   "source": [
    "df"
   ]
  },
  {
   "cell_type": "code",
   "execution_count": 14,
   "metadata": {},
   "outputs": [
    {
     "data": {
      "text/html": [
       "<div>\n",
       "<style scoped>\n",
       "    .dataframe tbody tr th:only-of-type {\n",
       "        vertical-align: middle;\n",
       "    }\n",
       "\n",
       "    .dataframe tbody tr th {\n",
       "        vertical-align: top;\n",
       "    }\n",
       "\n",
       "    .dataframe thead th {\n",
       "        text-align: right;\n",
       "    }\n",
       "</style>\n",
       "<table border=\"1\" class=\"dataframe\">\n",
       "  <thead>\n",
       "    <tr style=\"text-align: right;\">\n",
       "      <th></th>\n",
       "      <th>A</th>\n",
       "      <th>B</th>\n",
       "      <th>C</th>\n",
       "      <th>D</th>\n",
       "    </tr>\n",
       "  </thead>\n",
       "  <tbody>\n",
       "    <tr>\n",
       "      <th>2013-01-06</th>\n",
       "      <td>0.150710</td>\n",
       "      <td>0.549930</td>\n",
       "      <td>0.638278</td>\n",
       "      <td>1.404480</td>\n",
       "    </tr>\n",
       "    <tr>\n",
       "      <th>2013-01-05</th>\n",
       "      <td>0.616210</td>\n",
       "      <td>-0.335829</td>\n",
       "      <td>-1.176989</td>\n",
       "      <td>0.829282</td>\n",
       "    </tr>\n",
       "    <tr>\n",
       "      <th>2013-01-04</th>\n",
       "      <td>0.530126</td>\n",
       "      <td>1.779631</td>\n",
       "      <td>-0.159555</td>\n",
       "      <td>0.088139</td>\n",
       "    </tr>\n",
       "    <tr>\n",
       "      <th>2013-01-03</th>\n",
       "      <td>0.795442</td>\n",
       "      <td>-0.958289</td>\n",
       "      <td>-1.099207</td>\n",
       "      <td>0.416366</td>\n",
       "    </tr>\n",
       "    <tr>\n",
       "      <th>2013-01-02</th>\n",
       "      <td>0.978756</td>\n",
       "      <td>0.901375</td>\n",
       "      <td>0.415517</td>\n",
       "      <td>-0.382321</td>\n",
       "    </tr>\n",
       "    <tr>\n",
       "      <th>2013-01-01</th>\n",
       "      <td>-1.402903</td>\n",
       "      <td>0.049582</td>\n",
       "      <td>-1.161489</td>\n",
       "      <td>-0.293990</td>\n",
       "    </tr>\n",
       "  </tbody>\n",
       "</table>\n",
       "</div>"
      ],
      "text/plain": [
       "                   A         B         C         D\n",
       "2013-01-06  0.150710  0.549930  0.638278  1.404480\n",
       "2013-01-05  0.616210 -0.335829 -1.176989  0.829282\n",
       "2013-01-04  0.530126  1.779631 -0.159555  0.088139\n",
       "2013-01-03  0.795442 -0.958289 -1.099207  0.416366\n",
       "2013-01-02  0.978756  0.901375  0.415517 -0.382321\n",
       "2013-01-01 -1.402903  0.049582 -1.161489 -0.293990"
      ]
     },
     "execution_count": 14,
     "metadata": {},
     "output_type": "execute_result"
    }
   ],
   "source": [
    "df.sort_index(ascending=False)"
   ]
  },
  {
   "cell_type": "code",
   "execution_count": 15,
   "metadata": {},
   "outputs": [
    {
     "data": {
      "text/html": [
       "<div>\n",
       "<style scoped>\n",
       "    .dataframe tbody tr th:only-of-type {\n",
       "        vertical-align: middle;\n",
       "    }\n",
       "\n",
       "    .dataframe tbody tr th {\n",
       "        vertical-align: top;\n",
       "    }\n",
       "\n",
       "    .dataframe thead th {\n",
       "        text-align: right;\n",
       "    }\n",
       "</style>\n",
       "<table border=\"1\" class=\"dataframe\">\n",
       "  <thead>\n",
       "    <tr style=\"text-align: right;\">\n",
       "      <th></th>\n",
       "      <th>D</th>\n",
       "      <th>C</th>\n",
       "      <th>B</th>\n",
       "      <th>A</th>\n",
       "    </tr>\n",
       "  </thead>\n",
       "  <tbody>\n",
       "    <tr>\n",
       "      <th>2013-01-01</th>\n",
       "      <td>-0.293990</td>\n",
       "      <td>-1.161489</td>\n",
       "      <td>0.049582</td>\n",
       "      <td>-1.402903</td>\n",
       "    </tr>\n",
       "    <tr>\n",
       "      <th>2013-01-02</th>\n",
       "      <td>-0.382321</td>\n",
       "      <td>0.415517</td>\n",
       "      <td>0.901375</td>\n",
       "      <td>0.978756</td>\n",
       "    </tr>\n",
       "    <tr>\n",
       "      <th>2013-01-03</th>\n",
       "      <td>0.416366</td>\n",
       "      <td>-1.099207</td>\n",
       "      <td>-0.958289</td>\n",
       "      <td>0.795442</td>\n",
       "    </tr>\n",
       "    <tr>\n",
       "      <th>2013-01-04</th>\n",
       "      <td>0.088139</td>\n",
       "      <td>-0.159555</td>\n",
       "      <td>1.779631</td>\n",
       "      <td>0.530126</td>\n",
       "    </tr>\n",
       "    <tr>\n",
       "      <th>2013-01-05</th>\n",
       "      <td>0.829282</td>\n",
       "      <td>-1.176989</td>\n",
       "      <td>-0.335829</td>\n",
       "      <td>0.616210</td>\n",
       "    </tr>\n",
       "    <tr>\n",
       "      <th>2013-01-06</th>\n",
       "      <td>1.404480</td>\n",
       "      <td>0.638278</td>\n",
       "      <td>0.549930</td>\n",
       "      <td>0.150710</td>\n",
       "    </tr>\n",
       "  </tbody>\n",
       "</table>\n",
       "</div>"
      ],
      "text/plain": [
       "                   D         C         B         A\n",
       "2013-01-01 -0.293990 -1.161489  0.049582 -1.402903\n",
       "2013-01-02 -0.382321  0.415517  0.901375  0.978756\n",
       "2013-01-03  0.416366 -1.099207 -0.958289  0.795442\n",
       "2013-01-04  0.088139 -0.159555  1.779631  0.530126\n",
       "2013-01-05  0.829282 -1.176989 -0.335829  0.616210\n",
       "2013-01-06  1.404480  0.638278  0.549930  0.150710"
      ]
     },
     "execution_count": 15,
     "metadata": {},
     "output_type": "execute_result"
    }
   ],
   "source": [
    "df.sort_index(axis=1, ascending=False)"
   ]
  },
  {
   "cell_type": "markdown",
   "metadata": {},
   "source": [
    "sort_values 按照 by 值的大小进行排序"
   ]
  },
  {
   "cell_type": "code",
   "execution_count": 18,
   "metadata": {},
   "outputs": [
    {
     "data": {
      "text/html": [
       "<div>\n",
       "<style scoped>\n",
       "    .dataframe tbody tr th:only-of-type {\n",
       "        vertical-align: middle;\n",
       "    }\n",
       "\n",
       "    .dataframe tbody tr th {\n",
       "        vertical-align: top;\n",
       "    }\n",
       "\n",
       "    .dataframe thead th {\n",
       "        text-align: right;\n",
       "    }\n",
       "</style>\n",
       "<table border=\"1\" class=\"dataframe\">\n",
       "  <thead>\n",
       "    <tr style=\"text-align: right;\">\n",
       "      <th></th>\n",
       "      <th>A</th>\n",
       "      <th>B</th>\n",
       "      <th>C</th>\n",
       "      <th>D</th>\n",
       "    </tr>\n",
       "  </thead>\n",
       "  <tbody>\n",
       "    <tr>\n",
       "      <th>2013-01-01</th>\n",
       "      <td>-1.402903</td>\n",
       "      <td>0.049582</td>\n",
       "      <td>-1.161489</td>\n",
       "      <td>-0.293990</td>\n",
       "    </tr>\n",
       "    <tr>\n",
       "      <th>2013-01-06</th>\n",
       "      <td>0.150710</td>\n",
       "      <td>0.549930</td>\n",
       "      <td>0.638278</td>\n",
       "      <td>1.404480</td>\n",
       "    </tr>\n",
       "    <tr>\n",
       "      <th>2013-01-04</th>\n",
       "      <td>0.530126</td>\n",
       "      <td>1.779631</td>\n",
       "      <td>-0.159555</td>\n",
       "      <td>0.088139</td>\n",
       "    </tr>\n",
       "    <tr>\n",
       "      <th>2013-01-05</th>\n",
       "      <td>0.616210</td>\n",
       "      <td>-0.335829</td>\n",
       "      <td>-1.176989</td>\n",
       "      <td>0.829282</td>\n",
       "    </tr>\n",
       "    <tr>\n",
       "      <th>2013-01-03</th>\n",
       "      <td>0.795442</td>\n",
       "      <td>-0.958289</td>\n",
       "      <td>-1.099207</td>\n",
       "      <td>0.416366</td>\n",
       "    </tr>\n",
       "    <tr>\n",
       "      <th>2013-01-02</th>\n",
       "      <td>0.978756</td>\n",
       "      <td>0.901375</td>\n",
       "      <td>0.415517</td>\n",
       "      <td>-0.382321</td>\n",
       "    </tr>\n",
       "  </tbody>\n",
       "</table>\n",
       "</div>"
      ],
      "text/plain": [
       "                   A         B         C         D\n",
       "2013-01-01 -1.402903  0.049582 -1.161489 -0.293990\n",
       "2013-01-06  0.150710  0.549930  0.638278  1.404480\n",
       "2013-01-04  0.530126  1.779631 -0.159555  0.088139\n",
       "2013-01-05  0.616210 -0.335829 -1.176989  0.829282\n",
       "2013-01-03  0.795442 -0.958289 -1.099207  0.416366\n",
       "2013-01-02  0.978756  0.901375  0.415517 -0.382321"
      ]
     },
     "execution_count": 18,
     "metadata": {},
     "output_type": "execute_result"
    }
   ],
   "source": [
    "df.sort_values(by=\"A\")"
   ]
  },
  {
   "cell_type": "code",
   "execution_count": 17,
   "metadata": {},
   "outputs": [
    {
     "data": {
      "text/html": [
       "<div>\n",
       "<style scoped>\n",
       "    .dataframe tbody tr th:only-of-type {\n",
       "        vertical-align: middle;\n",
       "    }\n",
       "\n",
       "    .dataframe tbody tr th {\n",
       "        vertical-align: top;\n",
       "    }\n",
       "\n",
       "    .dataframe thead th {\n",
       "        text-align: right;\n",
       "    }\n",
       "</style>\n",
       "<table border=\"1\" class=\"dataframe\">\n",
       "  <thead>\n",
       "    <tr style=\"text-align: right;\">\n",
       "      <th></th>\n",
       "      <th>A</th>\n",
       "      <th>B</th>\n",
       "      <th>C</th>\n",
       "      <th>D</th>\n",
       "    </tr>\n",
       "  </thead>\n",
       "  <tbody>\n",
       "    <tr>\n",
       "      <th>2013-01-02</th>\n",
       "      <td>0.978756</td>\n",
       "      <td>0.901375</td>\n",
       "      <td>0.415517</td>\n",
       "      <td>-0.382321</td>\n",
       "    </tr>\n",
       "    <tr>\n",
       "      <th>2013-01-03</th>\n",
       "      <td>0.795442</td>\n",
       "      <td>-0.958289</td>\n",
       "      <td>-1.099207</td>\n",
       "      <td>0.416366</td>\n",
       "    </tr>\n",
       "    <tr>\n",
       "      <th>2013-01-05</th>\n",
       "      <td>0.616210</td>\n",
       "      <td>-0.335829</td>\n",
       "      <td>-1.176989</td>\n",
       "      <td>0.829282</td>\n",
       "    </tr>\n",
       "    <tr>\n",
       "      <th>2013-01-04</th>\n",
       "      <td>0.530126</td>\n",
       "      <td>1.779631</td>\n",
       "      <td>-0.159555</td>\n",
       "      <td>0.088139</td>\n",
       "    </tr>\n",
       "    <tr>\n",
       "      <th>2013-01-06</th>\n",
       "      <td>0.150710</td>\n",
       "      <td>0.549930</td>\n",
       "      <td>0.638278</td>\n",
       "      <td>1.404480</td>\n",
       "    </tr>\n",
       "    <tr>\n",
       "      <th>2013-01-01</th>\n",
       "      <td>-1.402903</td>\n",
       "      <td>0.049582</td>\n",
       "      <td>-1.161489</td>\n",
       "      <td>-0.293990</td>\n",
       "    </tr>\n",
       "  </tbody>\n",
       "</table>\n",
       "</div>"
      ],
      "text/plain": [
       "                   A         B         C         D\n",
       "2013-01-02  0.978756  0.901375  0.415517 -0.382321\n",
       "2013-01-03  0.795442 -0.958289 -1.099207  0.416366\n",
       "2013-01-05  0.616210 -0.335829 -1.176989  0.829282\n",
       "2013-01-04  0.530126  1.779631 -0.159555  0.088139\n",
       "2013-01-06  0.150710  0.549930  0.638278  1.404480\n",
       "2013-01-01 -1.402903  0.049582 -1.161489 -0.293990"
      ]
     },
     "execution_count": 17,
     "metadata": {},
     "output_type": "execute_result"
    }
   ],
   "source": [
    "df.sort_values(by=\"A\", ascending=False)"
   ]
  },
  {
   "cell_type": "markdown",
   "metadata": {},
   "source": [
    "### 索引"
   ]
  },
  {
   "cell_type": "markdown",
   "metadata": {},
   "source": [
    "虽然 DataFrame 支持 Python/Numpy的索引语法，但是推荐使用 .at, .iat, .loc, .iloc 和 .ix 方法进行索引"
   ]
  },
  {
   "cell_type": "code",
   "execution_count": 19,
   "metadata": {},
   "outputs": [
    {
     "data": {
      "text/plain": [
       "2013-01-01   -1.402903\n",
       "2013-01-02    0.978756\n",
       "2013-01-03    0.795442\n",
       "2013-01-04    0.530126\n",
       "2013-01-05    0.616210\n",
       "2013-01-06    0.150710\n",
       "Freq: D, Name: A, dtype: float64"
      ]
     },
     "execution_count": 19,
     "metadata": {},
     "output_type": "execute_result"
    }
   ],
   "source": [
    "# 读取数据\n",
    "df['A']"
   ]
  },
  {
   "cell_type": "code",
   "execution_count": 20,
   "metadata": {},
   "outputs": [
    {
     "data": {
      "text/plain": [
       "2013-01-01   -1.402903\n",
       "2013-01-02    0.978756\n",
       "2013-01-03    0.795442\n",
       "2013-01-04    0.530126\n",
       "2013-01-05    0.616210\n",
       "2013-01-06    0.150710\n",
       "Freq: D, Name: A, dtype: float64"
      ]
     },
     "execution_count": 20,
     "metadata": {},
     "output_type": "execute_result"
    }
   ],
   "source": [
    "df.A"
   ]
  },
  {
   "cell_type": "code",
   "execution_count": 21,
   "metadata": {},
   "outputs": [
    {
     "data": {
      "text/html": [
       "<div>\n",
       "<style scoped>\n",
       "    .dataframe tbody tr th:only-of-type {\n",
       "        vertical-align: middle;\n",
       "    }\n",
       "\n",
       "    .dataframe tbody tr th {\n",
       "        vertical-align: top;\n",
       "    }\n",
       "\n",
       "    .dataframe thead th {\n",
       "        text-align: right;\n",
       "    }\n",
       "</style>\n",
       "<table border=\"1\" class=\"dataframe\">\n",
       "  <thead>\n",
       "    <tr style=\"text-align: right;\">\n",
       "      <th></th>\n",
       "      <th>A</th>\n",
       "      <th>B</th>\n",
       "      <th>C</th>\n",
       "      <th>D</th>\n",
       "    </tr>\n",
       "  </thead>\n",
       "  <tbody>\n",
       "    <tr>\n",
       "      <th>2013-01-02</th>\n",
       "      <td>0.978756</td>\n",
       "      <td>0.901375</td>\n",
       "      <td>0.415517</td>\n",
       "      <td>-0.382321</td>\n",
       "    </tr>\n",
       "    <tr>\n",
       "      <th>2013-01-03</th>\n",
       "      <td>0.795442</td>\n",
       "      <td>-0.958289</td>\n",
       "      <td>-1.099207</td>\n",
       "      <td>0.416366</td>\n",
       "    </tr>\n",
       "  </tbody>\n",
       "</table>\n",
       "</div>"
      ],
      "text/plain": [
       "                   A         B         C         D\n",
       "2013-01-02  0.978756  0.901375  0.415517 -0.382321\n",
       "2013-01-03  0.795442 -0.958289 -1.099207  0.416366"
      ]
     },
     "execution_count": 21,
     "metadata": {},
     "output_type": "execute_result"
    }
   ],
   "source": [
    "# 使用切片读取多行\n",
    "df[1:3]"
   ]
  },
  {
   "cell_type": "code",
   "execution_count": 22,
   "metadata": {},
   "outputs": [
    {
     "data": {
      "text/html": [
       "<div>\n",
       "<style scoped>\n",
       "    .dataframe tbody tr th:only-of-type {\n",
       "        vertical-align: middle;\n",
       "    }\n",
       "\n",
       "    .dataframe tbody tr th {\n",
       "        vertical-align: top;\n",
       "    }\n",
       "\n",
       "    .dataframe thead th {\n",
       "        text-align: right;\n",
       "    }\n",
       "</style>\n",
       "<table border=\"1\" class=\"dataframe\">\n",
       "  <thead>\n",
       "    <tr style=\"text-align: right;\">\n",
       "      <th></th>\n",
       "      <th>A</th>\n",
       "      <th>B</th>\n",
       "      <th>C</th>\n",
       "      <th>D</th>\n",
       "    </tr>\n",
       "  </thead>\n",
       "  <tbody>\n",
       "    <tr>\n",
       "      <th>2013-01-03</th>\n",
       "      <td>0.795442</td>\n",
       "      <td>-0.958289</td>\n",
       "      <td>-1.099207</td>\n",
       "      <td>0.416366</td>\n",
       "    </tr>\n",
       "    <tr>\n",
       "      <th>2013-01-04</th>\n",
       "      <td>0.530126</td>\n",
       "      <td>1.779631</td>\n",
       "      <td>-0.159555</td>\n",
       "      <td>0.088139</td>\n",
       "    </tr>\n",
       "    <tr>\n",
       "      <th>2013-01-05</th>\n",
       "      <td>0.616210</td>\n",
       "      <td>-0.335829</td>\n",
       "      <td>-1.176989</td>\n",
       "      <td>0.829282</td>\n",
       "    </tr>\n",
       "    <tr>\n",
       "      <th>2013-01-06</th>\n",
       "      <td>0.150710</td>\n",
       "      <td>0.549930</td>\n",
       "      <td>0.638278</td>\n",
       "      <td>1.404480</td>\n",
       "    </tr>\n",
       "  </tbody>\n",
       "</table>\n",
       "</div>"
      ],
      "text/plain": [
       "                   A         B         C         D\n",
       "2013-01-03  0.795442 -0.958289 -1.099207  0.416366\n",
       "2013-01-04  0.530126  1.779631 -0.159555  0.088139\n",
       "2013-01-05  0.616210 -0.335829 -1.176989  0.829282\n",
       "2013-01-06  0.150710  0.549930  0.638278  1.404480"
      ]
     },
     "execution_count": 22,
     "metadata": {},
     "output_type": "execute_result"
    }
   ],
   "source": [
    "# 按名字进行切片\n",
    "df[\"2013-01-03\":\"2013-01-06\"]"
   ]
  },
  {
   "cell_type": "markdown",
   "metadata": {},
   "source": [
    "#### 使用 label 进行索引 - loc"
   ]
  },
  {
   "cell_type": "code",
   "execution_count": 24,
   "metadata": {},
   "outputs": [
    {
     "data": {
      "text/plain": [
       "2013-01-01    0.049582\n",
       "2013-01-02    0.901375\n",
       "2013-01-03   -0.958289\n",
       "2013-01-04    1.779631\n",
       "2013-01-05   -0.335829\n",
       "2013-01-06    0.549930\n",
       "Freq: D, Name: B, dtype: float64"
      ]
     },
     "execution_count": 24,
     "metadata": {},
     "output_type": "execute_result"
    }
   ],
   "source": [
    "df.loc[:,'B']"
   ]
  },
  {
   "cell_type": "code",
   "execution_count": 29,
   "metadata": {},
   "outputs": [
    {
     "data": {
      "text/html": [
       "<div>\n",
       "<style scoped>\n",
       "    .dataframe tbody tr th:only-of-type {\n",
       "        vertical-align: middle;\n",
       "    }\n",
       "\n",
       "    .dataframe tbody tr th {\n",
       "        vertical-align: top;\n",
       "    }\n",
       "\n",
       "    .dataframe thead th {\n",
       "        text-align: right;\n",
       "    }\n",
       "</style>\n",
       "<table border=\"1\" class=\"dataframe\">\n",
       "  <thead>\n",
       "    <tr style=\"text-align: right;\">\n",
       "      <th></th>\n",
       "      <th>B</th>\n",
       "      <th>D</th>\n",
       "    </tr>\n",
       "  </thead>\n",
       "  <tbody>\n",
       "    <tr>\n",
       "      <th>2013-01-02</th>\n",
       "      <td>0.901375</td>\n",
       "      <td>-0.382321</td>\n",
       "    </tr>\n",
       "    <tr>\n",
       "      <th>2013-01-03</th>\n",
       "      <td>-0.958289</td>\n",
       "      <td>0.416366</td>\n",
       "    </tr>\n",
       "    <tr>\n",
       "      <th>2013-01-04</th>\n",
       "      <td>1.779631</td>\n",
       "      <td>0.088139</td>\n",
       "    </tr>\n",
       "    <tr>\n",
       "      <th>2013-01-05</th>\n",
       "      <td>-0.335829</td>\n",
       "      <td>0.829282</td>\n",
       "    </tr>\n",
       "  </tbody>\n",
       "</table>\n",
       "</div>"
      ],
      "text/plain": [
       "                   B         D\n",
       "2013-01-02  0.901375 -0.382321\n",
       "2013-01-03 -0.958289  0.416366\n",
       "2013-01-04  1.779631  0.088139\n",
       "2013-01-05 -0.335829  0.829282"
      ]
     },
     "execution_count": 29,
     "metadata": {},
     "output_type": "execute_result"
    }
   ],
   "source": [
    "# 选择多行多列\n",
    "df.loc[\"2013-01-02\":\"2013-01-05\",[\"B\",\"D\"]]"
   ]
  },
  {
   "cell_type": "code",
   "execution_count": 30,
   "metadata": {},
   "outputs": [
    {
     "data": {
      "text/plain": [
       "A    0.978756\n",
       "C    0.415517\n",
       "Name: 2013-01-02 00:00:00, dtype: float64"
      ]
     },
     "execution_count": 30,
     "metadata": {},
     "output_type": "execute_result"
    }
   ],
   "source": [
    "# 数据降维\n",
    "df.loc[\"20130102\",[\"A\",\"C\"]]"
   ]
  },
  {
   "cell_type": "code",
   "execution_count": 31,
   "metadata": {},
   "outputs": [
    {
     "data": {
      "text/plain": [
       "0.6162095614124133"
      ]
     },
     "execution_count": 31,
     "metadata": {},
     "output_type": "execute_result"
    }
   ],
   "source": [
    "# 直接获取标量值\n",
    "df.loc[\"2013-01-05\",\"A\"]"
   ]
  },
  {
   "cell_type": "markdown",
   "metadata": {},
   "source": [
    "#### 使用位置索引 - iloc"
   ]
  },
  {
   "cell_type": "code",
   "execution_count": 32,
   "metadata": {},
   "outputs": [
    {
     "data": {
      "text/html": [
       "<div>\n",
       "<style scoped>\n",
       "    .dataframe tbody tr th:only-of-type {\n",
       "        vertical-align: middle;\n",
       "    }\n",
       "\n",
       "    .dataframe tbody tr th {\n",
       "        vertical-align: top;\n",
       "    }\n",
       "\n",
       "    .dataframe thead th {\n",
       "        text-align: right;\n",
       "    }\n",
       "</style>\n",
       "<table border=\"1\" class=\"dataframe\">\n",
       "  <thead>\n",
       "    <tr style=\"text-align: right;\">\n",
       "      <th></th>\n",
       "      <th>A</th>\n",
       "      <th>B</th>\n",
       "      <th>C</th>\n",
       "      <th>D</th>\n",
       "    </tr>\n",
       "  </thead>\n",
       "  <tbody>\n",
       "    <tr>\n",
       "      <th>2013-01-01</th>\n",
       "      <td>-1.402903</td>\n",
       "      <td>0.049582</td>\n",
       "      <td>-1.161489</td>\n",
       "      <td>-0.293990</td>\n",
       "    </tr>\n",
       "    <tr>\n",
       "      <th>2013-01-02</th>\n",
       "      <td>0.978756</td>\n",
       "      <td>0.901375</td>\n",
       "      <td>0.415517</td>\n",
       "      <td>-0.382321</td>\n",
       "    </tr>\n",
       "    <tr>\n",
       "      <th>2013-01-03</th>\n",
       "      <td>0.795442</td>\n",
       "      <td>-0.958289</td>\n",
       "      <td>-1.099207</td>\n",
       "      <td>0.416366</td>\n",
       "    </tr>\n",
       "    <tr>\n",
       "      <th>2013-01-04</th>\n",
       "      <td>0.530126</td>\n",
       "      <td>1.779631</td>\n",
       "      <td>-0.159555</td>\n",
       "      <td>0.088139</td>\n",
       "    </tr>\n",
       "    <tr>\n",
       "      <th>2013-01-05</th>\n",
       "      <td>0.616210</td>\n",
       "      <td>-0.335829</td>\n",
       "      <td>-1.176989</td>\n",
       "      <td>0.829282</td>\n",
       "    </tr>\n",
       "    <tr>\n",
       "      <th>2013-01-06</th>\n",
       "      <td>0.150710</td>\n",
       "      <td>0.549930</td>\n",
       "      <td>0.638278</td>\n",
       "      <td>1.404480</td>\n",
       "    </tr>\n",
       "  </tbody>\n",
       "</table>\n",
       "</div>"
      ],
      "text/plain": [
       "                   A         B         C         D\n",
       "2013-01-01 -1.402903  0.049582 -1.161489 -0.293990\n",
       "2013-01-02  0.978756  0.901375  0.415517 -0.382321\n",
       "2013-01-03  0.795442 -0.958289 -1.099207  0.416366\n",
       "2013-01-04  0.530126  1.779631 -0.159555  0.088139\n",
       "2013-01-05  0.616210 -0.335829 -1.176989  0.829282\n",
       "2013-01-06  0.150710  0.549930  0.638278  1.404480"
      ]
     },
     "execution_count": 32,
     "metadata": {},
     "output_type": "execute_result"
    }
   ],
   "source": [
    "df"
   ]
  },
  {
   "cell_type": "code",
   "execution_count": 33,
   "metadata": {},
   "outputs": [
    {
     "data": {
      "text/plain": [
       "A    0.978756\n",
       "B    0.901375\n",
       "C    0.415517\n",
       "D   -0.382321\n",
       "Name: 2013-01-02 00:00:00, dtype: float64"
      ]
     },
     "execution_count": 33,
     "metadata": {},
     "output_type": "execute_result"
    }
   ],
   "source": [
    "df.iloc[1]"
   ]
  },
  {
   "cell_type": "markdown",
   "metadata": {},
   "source": [
    "连续切片"
   ]
  },
  {
   "cell_type": "code",
   "execution_count": 35,
   "metadata": {},
   "outputs": [
    {
     "data": {
      "text/html": [
       "<div>\n",
       "<style scoped>\n",
       "    .dataframe tbody tr th:only-of-type {\n",
       "        vertical-align: middle;\n",
       "    }\n",
       "\n",
       "    .dataframe tbody tr th {\n",
       "        vertical-align: top;\n",
       "    }\n",
       "\n",
       "    .dataframe thead th {\n",
       "        text-align: right;\n",
       "    }\n",
       "</style>\n",
       "<table border=\"1\" class=\"dataframe\">\n",
       "  <thead>\n",
       "    <tr style=\"text-align: right;\">\n",
       "      <th></th>\n",
       "      <th>B</th>\n",
       "      <th>C</th>\n",
       "    </tr>\n",
       "  </thead>\n",
       "  <tbody>\n",
       "    <tr>\n",
       "      <th>2013-01-03</th>\n",
       "      <td>-0.958289</td>\n",
       "      <td>-1.099207</td>\n",
       "    </tr>\n",
       "    <tr>\n",
       "      <th>2013-01-04</th>\n",
       "      <td>1.779631</td>\n",
       "      <td>-0.159555</td>\n",
       "    </tr>\n",
       "    <tr>\n",
       "      <th>2013-01-05</th>\n",
       "      <td>-0.335829</td>\n",
       "      <td>-1.176989</td>\n",
       "    </tr>\n",
       "  </tbody>\n",
       "</table>\n",
       "</div>"
      ],
      "text/plain": [
       "                   B         C\n",
       "2013-01-03 -0.958289 -1.099207\n",
       "2013-01-04  1.779631 -0.159555\n",
       "2013-01-05 -0.335829 -1.176989"
      ]
     },
     "execution_count": 35,
     "metadata": {},
     "output_type": "execute_result"
    }
   ],
   "source": [
    "df.iloc[2:5, 1:3]"
   ]
  },
  {
   "cell_type": "markdown",
   "metadata": {},
   "source": [
    "索引不连续的部分"
   ]
  },
  {
   "cell_type": "code",
   "execution_count": 36,
   "metadata": {},
   "outputs": [
    {
     "data": {
      "text/html": [
       "<div>\n",
       "<style scoped>\n",
       "    .dataframe tbody tr th:only-of-type {\n",
       "        vertical-align: middle;\n",
       "    }\n",
       "\n",
       "    .dataframe tbody tr th {\n",
       "        vertical-align: top;\n",
       "    }\n",
       "\n",
       "    .dataframe thead th {\n",
       "        text-align: right;\n",
       "    }\n",
       "</style>\n",
       "<table border=\"1\" class=\"dataframe\">\n",
       "  <thead>\n",
       "    <tr style=\"text-align: right;\">\n",
       "      <th></th>\n",
       "      <th>B</th>\n",
       "      <th>D</th>\n",
       "    </tr>\n",
       "  </thead>\n",
       "  <tbody>\n",
       "    <tr>\n",
       "      <th>2013-01-02</th>\n",
       "      <td>0.901375</td>\n",
       "      <td>-0.382321</td>\n",
       "    </tr>\n",
       "    <tr>\n",
       "      <th>2013-01-04</th>\n",
       "      <td>1.779631</td>\n",
       "      <td>0.088139</td>\n",
       "    </tr>\n",
       "    <tr>\n",
       "      <th>2013-01-06</th>\n",
       "      <td>0.549930</td>\n",
       "      <td>1.404480</td>\n",
       "    </tr>\n",
       "  </tbody>\n",
       "</table>\n",
       "</div>"
      ],
      "text/plain": [
       "                   B         D\n",
       "2013-01-02  0.901375 -0.382321\n",
       "2013-01-04  1.779631  0.088139\n",
       "2013-01-06  0.549930  1.404480"
      ]
     },
     "execution_count": 36,
     "metadata": {},
     "output_type": "execute_result"
    }
   ],
   "source": [
    "df.iloc[[1,3,5],[1,3]]"
   ]
  },
  {
   "cell_type": "markdown",
   "metadata": {},
   "source": [
    "索引整行"
   ]
  },
  {
   "cell_type": "code",
   "execution_count": 37,
   "metadata": {},
   "outputs": [
    {
     "data": {
      "text/html": [
       "<div>\n",
       "<style scoped>\n",
       "    .dataframe tbody tr th:only-of-type {\n",
       "        vertical-align: middle;\n",
       "    }\n",
       "\n",
       "    .dataframe tbody tr th {\n",
       "        vertical-align: top;\n",
       "    }\n",
       "\n",
       "    .dataframe thead th {\n",
       "        text-align: right;\n",
       "    }\n",
       "</style>\n",
       "<table border=\"1\" class=\"dataframe\">\n",
       "  <thead>\n",
       "    <tr style=\"text-align: right;\">\n",
       "      <th></th>\n",
       "      <th>A</th>\n",
       "      <th>B</th>\n",
       "      <th>C</th>\n",
       "      <th>D</th>\n",
       "    </tr>\n",
       "  </thead>\n",
       "  <tbody>\n",
       "    <tr>\n",
       "      <th>2013-01-03</th>\n",
       "      <td>0.795442</td>\n",
       "      <td>-0.958289</td>\n",
       "      <td>-1.099207</td>\n",
       "      <td>0.416366</td>\n",
       "    </tr>\n",
       "    <tr>\n",
       "      <th>2013-01-04</th>\n",
       "      <td>0.530126</td>\n",
       "      <td>1.779631</td>\n",
       "      <td>-0.159555</td>\n",
       "      <td>0.088139</td>\n",
       "    </tr>\n",
       "  </tbody>\n",
       "</table>\n",
       "</div>"
      ],
      "text/plain": [
       "                   A         B         C         D\n",
       "2013-01-03  0.795442 -0.958289 -1.099207  0.416366\n",
       "2013-01-04  0.530126  1.779631 -0.159555  0.088139"
      ]
     },
     "execution_count": 37,
     "metadata": {},
     "output_type": "execute_result"
    }
   ],
   "source": [
    "df.iloc[2:4,:]"
   ]
  },
  {
   "cell_type": "markdown",
   "metadata": {},
   "source": [
    "索引整列"
   ]
  },
  {
   "cell_type": "code",
   "execution_count": 38,
   "metadata": {},
   "outputs": [
    {
     "data": {
      "text/html": [
       "<div>\n",
       "<style scoped>\n",
       "    .dataframe tbody tr th:only-of-type {\n",
       "        vertical-align: middle;\n",
       "    }\n",
       "\n",
       "    .dataframe tbody tr th {\n",
       "        vertical-align: top;\n",
       "    }\n",
       "\n",
       "    .dataframe thead th {\n",
       "        text-align: right;\n",
       "    }\n",
       "</style>\n",
       "<table border=\"1\" class=\"dataframe\">\n",
       "  <thead>\n",
       "    <tr style=\"text-align: right;\">\n",
       "      <th></th>\n",
       "      <th>B</th>\n",
       "      <th>D</th>\n",
       "    </tr>\n",
       "  </thead>\n",
       "  <tbody>\n",
       "    <tr>\n",
       "      <th>2013-01-01</th>\n",
       "      <td>0.049582</td>\n",
       "      <td>-0.293990</td>\n",
       "    </tr>\n",
       "    <tr>\n",
       "      <th>2013-01-02</th>\n",
       "      <td>0.901375</td>\n",
       "      <td>-0.382321</td>\n",
       "    </tr>\n",
       "    <tr>\n",
       "      <th>2013-01-03</th>\n",
       "      <td>-0.958289</td>\n",
       "      <td>0.416366</td>\n",
       "    </tr>\n",
       "    <tr>\n",
       "      <th>2013-01-04</th>\n",
       "      <td>1.779631</td>\n",
       "      <td>0.088139</td>\n",
       "    </tr>\n",
       "    <tr>\n",
       "      <th>2013-01-05</th>\n",
       "      <td>-0.335829</td>\n",
       "      <td>0.829282</td>\n",
       "    </tr>\n",
       "    <tr>\n",
       "      <th>2013-01-06</th>\n",
       "      <td>0.549930</td>\n",
       "      <td>1.404480</td>\n",
       "    </tr>\n",
       "  </tbody>\n",
       "</table>\n",
       "</div>"
      ],
      "text/plain": [
       "                   B         D\n",
       "2013-01-01  0.049582 -0.293990\n",
       "2013-01-02  0.901375 -0.382321\n",
       "2013-01-03 -0.958289  0.416366\n",
       "2013-01-04  1.779631  0.088139\n",
       "2013-01-05 -0.335829  0.829282\n",
       "2013-01-06  0.549930  1.404480"
      ]
     },
     "execution_count": 38,
     "metadata": {},
     "output_type": "execute_result"
    }
   ],
   "source": [
    "df.iloc[:,[1,3]]"
   ]
  },
  {
   "cell_type": "markdown",
   "metadata": {},
   "source": [
    "直接获取标量值"
   ]
  },
  {
   "cell_type": "code",
   "execution_count": 39,
   "metadata": {},
   "outputs": [
    {
     "data": {
      "text/plain": [
       "-1.0992073260965605"
      ]
     },
     "execution_count": 39,
     "metadata": {},
     "output_type": "execute_result"
    }
   ],
   "source": [
    "df.iloc[2,2]"
   ]
  },
  {
   "cell_type": "markdown",
   "metadata": {},
   "source": [
    "### 布尔型索引"
   ]
  },
  {
   "cell_type": "code",
   "execution_count": 40,
   "metadata": {},
   "outputs": [
    {
     "data": {
      "text/html": [
       "<div>\n",
       "<style scoped>\n",
       "    .dataframe tbody tr th:only-of-type {\n",
       "        vertical-align: middle;\n",
       "    }\n",
       "\n",
       "    .dataframe tbody tr th {\n",
       "        vertical-align: top;\n",
       "    }\n",
       "\n",
       "    .dataframe thead th {\n",
       "        text-align: right;\n",
       "    }\n",
       "</style>\n",
       "<table border=\"1\" class=\"dataframe\">\n",
       "  <thead>\n",
       "    <tr style=\"text-align: right;\">\n",
       "      <th></th>\n",
       "      <th>A</th>\n",
       "      <th>B</th>\n",
       "      <th>C</th>\n",
       "      <th>D</th>\n",
       "    </tr>\n",
       "  </thead>\n",
       "  <tbody>\n",
       "    <tr>\n",
       "      <th>2013-01-01</th>\n",
       "      <td>-1.402903</td>\n",
       "      <td>0.049582</td>\n",
       "      <td>-1.161489</td>\n",
       "      <td>-0.293990</td>\n",
       "    </tr>\n",
       "    <tr>\n",
       "      <th>2013-01-02</th>\n",
       "      <td>0.978756</td>\n",
       "      <td>0.901375</td>\n",
       "      <td>0.415517</td>\n",
       "      <td>-0.382321</td>\n",
       "    </tr>\n",
       "    <tr>\n",
       "      <th>2013-01-03</th>\n",
       "      <td>0.795442</td>\n",
       "      <td>-0.958289</td>\n",
       "      <td>-1.099207</td>\n",
       "      <td>0.416366</td>\n",
       "    </tr>\n",
       "    <tr>\n",
       "      <th>2013-01-04</th>\n",
       "      <td>0.530126</td>\n",
       "      <td>1.779631</td>\n",
       "      <td>-0.159555</td>\n",
       "      <td>0.088139</td>\n",
       "    </tr>\n",
       "    <tr>\n",
       "      <th>2013-01-05</th>\n",
       "      <td>0.616210</td>\n",
       "      <td>-0.335829</td>\n",
       "      <td>-1.176989</td>\n",
       "      <td>0.829282</td>\n",
       "    </tr>\n",
       "    <tr>\n",
       "      <th>2013-01-06</th>\n",
       "      <td>0.150710</td>\n",
       "      <td>0.549930</td>\n",
       "      <td>0.638278</td>\n",
       "      <td>1.404480</td>\n",
       "    </tr>\n",
       "  </tbody>\n",
       "</table>\n",
       "</div>"
      ],
      "text/plain": [
       "                   A         B         C         D\n",
       "2013-01-01 -1.402903  0.049582 -1.161489 -0.293990\n",
       "2013-01-02  0.978756  0.901375  0.415517 -0.382321\n",
       "2013-01-03  0.795442 -0.958289 -1.099207  0.416366\n",
       "2013-01-04  0.530126  1.779631 -0.159555  0.088139\n",
       "2013-01-05  0.616210 -0.335829 -1.176989  0.829282\n",
       "2013-01-06  0.150710  0.549930  0.638278  1.404480"
      ]
     },
     "execution_count": 40,
     "metadata": {},
     "output_type": "execute_result"
    }
   ],
   "source": [
    "df"
   ]
  },
  {
   "cell_type": "code",
   "execution_count": 42,
   "metadata": {},
   "outputs": [
    {
     "data": {
      "text/html": [
       "<div>\n",
       "<style scoped>\n",
       "    .dataframe tbody tr th:only-of-type {\n",
       "        vertical-align: middle;\n",
       "    }\n",
       "\n",
       "    .dataframe tbody tr th {\n",
       "        vertical-align: top;\n",
       "    }\n",
       "\n",
       "    .dataframe thead th {\n",
       "        text-align: right;\n",
       "    }\n",
       "</style>\n",
       "<table border=\"1\" class=\"dataframe\">\n",
       "  <thead>\n",
       "    <tr style=\"text-align: right;\">\n",
       "      <th></th>\n",
       "      <th>A</th>\n",
       "      <th>B</th>\n",
       "      <th>C</th>\n",
       "      <th>D</th>\n",
       "    </tr>\n",
       "  </thead>\n",
       "  <tbody>\n",
       "    <tr>\n",
       "      <th>2013-01-02</th>\n",
       "      <td>0.978756</td>\n",
       "      <td>0.901375</td>\n",
       "      <td>0.415517</td>\n",
       "      <td>-0.382321</td>\n",
       "    </tr>\n",
       "    <tr>\n",
       "      <th>2013-01-06</th>\n",
       "      <td>0.150710</td>\n",
       "      <td>0.549930</td>\n",
       "      <td>0.638278</td>\n",
       "      <td>1.404480</td>\n",
       "    </tr>\n",
       "  </tbody>\n",
       "</table>\n",
       "</div>"
      ],
      "text/plain": [
       "                   A         B         C         D\n",
       "2013-01-02  0.978756  0.901375  0.415517 -0.382321\n",
       "2013-01-06  0.150710  0.549930  0.638278  1.404480"
      ]
     },
     "execution_count": 42,
     "metadata": {},
     "output_type": "execute_result"
    }
   ],
   "source": [
    "# 获取 C 列大于0 的行\n",
    "df[df.C > 0]"
   ]
  },
  {
   "cell_type": "code",
   "execution_count": 44,
   "metadata": {},
   "outputs": [
    {
     "data": {
      "text/html": [
       "<div>\n",
       "<style scoped>\n",
       "    .dataframe tbody tr th:only-of-type {\n",
       "        vertical-align: middle;\n",
       "    }\n",
       "\n",
       "    .dataframe tbody tr th {\n",
       "        vertical-align: top;\n",
       "    }\n",
       "\n",
       "    .dataframe thead th {\n",
       "        text-align: right;\n",
       "    }\n",
       "</style>\n",
       "<table border=\"1\" class=\"dataframe\">\n",
       "  <thead>\n",
       "    <tr style=\"text-align: right;\">\n",
       "      <th></th>\n",
       "      <th>A</th>\n",
       "      <th>B</th>\n",
       "      <th>C</th>\n",
       "      <th>D</th>\n",
       "    </tr>\n",
       "  </thead>\n",
       "  <tbody>\n",
       "    <tr>\n",
       "      <th>2013-01-01</th>\n",
       "      <td>NaN</td>\n",
       "      <td>0.049582</td>\n",
       "      <td>NaN</td>\n",
       "      <td>NaN</td>\n",
       "    </tr>\n",
       "    <tr>\n",
       "      <th>2013-01-02</th>\n",
       "      <td>0.978756</td>\n",
       "      <td>0.901375</td>\n",
       "      <td>0.415517</td>\n",
       "      <td>NaN</td>\n",
       "    </tr>\n",
       "    <tr>\n",
       "      <th>2013-01-03</th>\n",
       "      <td>0.795442</td>\n",
       "      <td>NaN</td>\n",
       "      <td>NaN</td>\n",
       "      <td>0.416366</td>\n",
       "    </tr>\n",
       "    <tr>\n",
       "      <th>2013-01-04</th>\n",
       "      <td>0.530126</td>\n",
       "      <td>1.779631</td>\n",
       "      <td>NaN</td>\n",
       "      <td>0.088139</td>\n",
       "    </tr>\n",
       "    <tr>\n",
       "      <th>2013-01-05</th>\n",
       "      <td>0.616210</td>\n",
       "      <td>NaN</td>\n",
       "      <td>NaN</td>\n",
       "      <td>0.829282</td>\n",
       "    </tr>\n",
       "    <tr>\n",
       "      <th>2013-01-06</th>\n",
       "      <td>0.150710</td>\n",
       "      <td>0.549930</td>\n",
       "      <td>0.638278</td>\n",
       "      <td>1.404480</td>\n",
       "    </tr>\n",
       "  </tbody>\n",
       "</table>\n",
       "</div>"
      ],
      "text/plain": [
       "                   A         B         C         D\n",
       "2013-01-01       NaN  0.049582       NaN       NaN\n",
       "2013-01-02  0.978756  0.901375  0.415517       NaN\n",
       "2013-01-03  0.795442       NaN       NaN  0.416366\n",
       "2013-01-04  0.530126  1.779631       NaN  0.088139\n",
       "2013-01-05  0.616210       NaN       NaN  0.829282\n",
       "2013-01-06  0.150710  0.549930  0.638278  1.404480"
      ]
     },
     "execution_count": 44,
     "metadata": {},
     "output_type": "execute_result"
    }
   ],
   "source": [
    "# 只留下所有大于0的数值\n",
    "df[df>0]"
   ]
  },
  {
   "cell_type": "code",
   "execution_count": 49,
   "metadata": {},
   "outputs": [
    {
     "data": {
      "text/html": [
       "<div>\n",
       "<style scoped>\n",
       "    .dataframe tbody tr th:only-of-type {\n",
       "        vertical-align: middle;\n",
       "    }\n",
       "\n",
       "    .dataframe tbody tr th {\n",
       "        vertical-align: top;\n",
       "    }\n",
       "\n",
       "    .dataframe thead th {\n",
       "        text-align: right;\n",
       "    }\n",
       "</style>\n",
       "<table border=\"1\" class=\"dataframe\">\n",
       "  <thead>\n",
       "    <tr style=\"text-align: right;\">\n",
       "      <th></th>\n",
       "      <th>A</th>\n",
       "      <th>B</th>\n",
       "      <th>C</th>\n",
       "      <th>D</th>\n",
       "    </tr>\n",
       "  </thead>\n",
       "  <tbody>\n",
       "    <tr>\n",
       "      <th>2013-01-01</th>\n",
       "      <td>-1.402903</td>\n",
       "      <td>0.049582</td>\n",
       "      <td>-1.161489</td>\n",
       "      <td>-0.293990</td>\n",
       "    </tr>\n",
       "    <tr>\n",
       "      <th>2013-01-02</th>\n",
       "      <td>0.978756</td>\n",
       "      <td>0.901375</td>\n",
       "      <td>0.415517</td>\n",
       "      <td>-0.382321</td>\n",
       "    </tr>\n",
       "    <tr>\n",
       "      <th>2013-01-03</th>\n",
       "      <td>0.795442</td>\n",
       "      <td>-0.958289</td>\n",
       "      <td>-1.099207</td>\n",
       "      <td>0.416366</td>\n",
       "    </tr>\n",
       "    <tr>\n",
       "      <th>2013-01-04</th>\n",
       "      <td>0.530126</td>\n",
       "      <td>1.779631</td>\n",
       "      <td>-0.159555</td>\n",
       "      <td>0.088139</td>\n",
       "    </tr>\n",
       "    <tr>\n",
       "      <th>2013-01-05</th>\n",
       "      <td>0.616210</td>\n",
       "      <td>-0.335829</td>\n",
       "      <td>-1.176989</td>\n",
       "      <td>0.829282</td>\n",
       "    </tr>\n",
       "    <tr>\n",
       "      <th>2013-01-06</th>\n",
       "      <td>0.150710</td>\n",
       "      <td>0.549930</td>\n",
       "      <td>0.638278</td>\n",
       "      <td>1.404480</td>\n",
       "    </tr>\n",
       "  </tbody>\n",
       "</table>\n",
       "</div>"
      ],
      "text/plain": [
       "                   A         B         C         D\n",
       "2013-01-01 -1.402903  0.049582 -1.161489 -0.293990\n",
       "2013-01-02  0.978756  0.901375  0.415517 -0.382321\n",
       "2013-01-03  0.795442 -0.958289 -1.099207  0.416366\n",
       "2013-01-04  0.530126  1.779631 -0.159555  0.088139\n",
       "2013-01-05  0.616210 -0.335829 -1.176989  0.829282\n",
       "2013-01-06  0.150710  0.549930  0.638278  1.404480"
      ]
     },
     "execution_count": 49,
     "metadata": {},
     "output_type": "execute_result"
    }
   ],
   "source": [
    "# 使用 isin 方法做 filter 过滤\n",
    "df2 = df.copy()\n",
    "df2"
   ]
  },
  {
   "cell_type": "code",
   "execution_count": 50,
   "metadata": {},
   "outputs": [
    {
     "data": {
      "text/html": [
       "<div>\n",
       "<style scoped>\n",
       "    .dataframe tbody tr th:only-of-type {\n",
       "        vertical-align: middle;\n",
       "    }\n",
       "\n",
       "    .dataframe tbody tr th {\n",
       "        vertical-align: top;\n",
       "    }\n",
       "\n",
       "    .dataframe thead th {\n",
       "        text-align: right;\n",
       "    }\n",
       "</style>\n",
       "<table border=\"1\" class=\"dataframe\">\n",
       "  <thead>\n",
       "    <tr style=\"text-align: right;\">\n",
       "      <th></th>\n",
       "      <th>A</th>\n",
       "      <th>B</th>\n",
       "      <th>C</th>\n",
       "      <th>D</th>\n",
       "    </tr>\n",
       "  </thead>\n",
       "  <tbody>\n",
       "    <tr>\n",
       "      <th>2013-01-01</th>\n",
       "      <td>-1.402903</td>\n",
       "      <td>0.049582</td>\n",
       "      <td>-1.161489</td>\n",
       "      <td>-0.293990</td>\n",
       "    </tr>\n",
       "    <tr>\n",
       "      <th>2013-01-02</th>\n",
       "      <td>0.978756</td>\n",
       "      <td>0.901375</td>\n",
       "      <td>0.415517</td>\n",
       "      <td>-0.382321</td>\n",
       "    </tr>\n",
       "    <tr>\n",
       "      <th>2013-01-03</th>\n",
       "      <td>0.795442</td>\n",
       "      <td>-0.958289</td>\n",
       "      <td>0.666666</td>\n",
       "      <td>0.416366</td>\n",
       "    </tr>\n",
       "    <tr>\n",
       "      <th>2013-01-04</th>\n",
       "      <td>0.530126</td>\n",
       "      <td>1.779631</td>\n",
       "      <td>-0.159555</td>\n",
       "      <td>0.088139</td>\n",
       "    </tr>\n",
       "    <tr>\n",
       "      <th>2013-01-05</th>\n",
       "      <td>0.616210</td>\n",
       "      <td>-0.335829</td>\n",
       "      <td>-1.176989</td>\n",
       "      <td>0.829282</td>\n",
       "    </tr>\n",
       "    <tr>\n",
       "      <th>2013-01-06</th>\n",
       "      <td>0.150710</td>\n",
       "      <td>0.549930</td>\n",
       "      <td>0.638278</td>\n",
       "      <td>1.404480</td>\n",
       "    </tr>\n",
       "  </tbody>\n",
       "</table>\n",
       "</div>"
      ],
      "text/plain": [
       "                   A         B         C         D\n",
       "2013-01-01 -1.402903  0.049582 -1.161489 -0.293990\n",
       "2013-01-02  0.978756  0.901375  0.415517 -0.382321\n",
       "2013-01-03  0.795442 -0.958289  0.666666  0.416366\n",
       "2013-01-04  0.530126  1.779631 -0.159555  0.088139\n",
       "2013-01-05  0.616210 -0.335829 -1.176989  0.829282\n",
       "2013-01-06  0.150710  0.549930  0.638278  1.404480"
      ]
     },
     "execution_count": 50,
     "metadata": {},
     "output_type": "execute_result"
    }
   ],
   "source": [
    "df2.iloc[2,2] = 0.666666\n",
    "df2"
   ]
  },
  {
   "cell_type": "code",
   "execution_count": 51,
   "metadata": {},
   "outputs": [
    {
     "data": {
      "text/html": [
       "<div>\n",
       "<style scoped>\n",
       "    .dataframe tbody tr th:only-of-type {\n",
       "        vertical-align: middle;\n",
       "    }\n",
       "\n",
       "    .dataframe tbody tr th {\n",
       "        vertical-align: top;\n",
       "    }\n",
       "\n",
       "    .dataframe thead th {\n",
       "        text-align: right;\n",
       "    }\n",
       "</style>\n",
       "<table border=\"1\" class=\"dataframe\">\n",
       "  <thead>\n",
       "    <tr style=\"text-align: right;\">\n",
       "      <th></th>\n",
       "      <th>A</th>\n",
       "      <th>B</th>\n",
       "      <th>C</th>\n",
       "      <th>D</th>\n",
       "    </tr>\n",
       "  </thead>\n",
       "  <tbody>\n",
       "    <tr>\n",
       "      <th>2013-01-01</th>\n",
       "      <td>-1.402903</td>\n",
       "      <td>0.049582</td>\n",
       "      <td>-1.161489</td>\n",
       "      <td>-0.293990</td>\n",
       "    </tr>\n",
       "    <tr>\n",
       "      <th>2013-01-02</th>\n",
       "      <td>0.978756</td>\n",
       "      <td>0.901375</td>\n",
       "      <td>0.415517</td>\n",
       "      <td>-0.382321</td>\n",
       "    </tr>\n",
       "    <tr>\n",
       "      <th>2013-01-03</th>\n",
       "      <td>0.795442</td>\n",
       "      <td>-0.958289</td>\n",
       "      <td>-1.099207</td>\n",
       "      <td>0.416366</td>\n",
       "    </tr>\n",
       "    <tr>\n",
       "      <th>2013-01-04</th>\n",
       "      <td>0.530126</td>\n",
       "      <td>1.779631</td>\n",
       "      <td>-0.159555</td>\n",
       "      <td>0.088139</td>\n",
       "    </tr>\n",
       "    <tr>\n",
       "      <th>2013-01-05</th>\n",
       "      <td>0.616210</td>\n",
       "      <td>-0.335829</td>\n",
       "      <td>-1.176989</td>\n",
       "      <td>0.829282</td>\n",
       "    </tr>\n",
       "    <tr>\n",
       "      <th>2013-01-06</th>\n",
       "      <td>0.150710</td>\n",
       "      <td>0.549930</td>\n",
       "      <td>0.638278</td>\n",
       "      <td>1.404480</td>\n",
       "    </tr>\n",
       "  </tbody>\n",
       "</table>\n",
       "</div>"
      ],
      "text/plain": [
       "                   A         B         C         D\n",
       "2013-01-01 -1.402903  0.049582 -1.161489 -0.293990\n",
       "2013-01-02  0.978756  0.901375  0.415517 -0.382321\n",
       "2013-01-03  0.795442 -0.958289 -1.099207  0.416366\n",
       "2013-01-04  0.530126  1.779631 -0.159555  0.088139\n",
       "2013-01-05  0.616210 -0.335829 -1.176989  0.829282\n",
       "2013-01-06  0.150710  0.549930  0.638278  1.404480"
      ]
     },
     "execution_count": 51,
     "metadata": {},
     "output_type": "execute_result"
    }
   ],
   "source": [
    "df"
   ]
  },
  {
   "cell_type": "code",
   "execution_count": 52,
   "metadata": {},
   "outputs": [
    {
     "data": {
      "text/html": [
       "<div>\n",
       "<style scoped>\n",
       "    .dataframe tbody tr th:only-of-type {\n",
       "        vertical-align: middle;\n",
       "    }\n",
       "\n",
       "    .dataframe tbody tr th {\n",
       "        vertical-align: top;\n",
       "    }\n",
       "\n",
       "    .dataframe thead th {\n",
       "        text-align: right;\n",
       "    }\n",
       "</style>\n",
       "<table border=\"1\" class=\"dataframe\">\n",
       "  <thead>\n",
       "    <tr style=\"text-align: right;\">\n",
       "      <th></th>\n",
       "      <th>A</th>\n",
       "      <th>B</th>\n",
       "      <th>C</th>\n",
       "      <th>D</th>\n",
       "      <th>e</th>\n",
       "    </tr>\n",
       "  </thead>\n",
       "  <tbody>\n",
       "    <tr>\n",
       "      <th>2013-01-01</th>\n",
       "      <td>-1.402903</td>\n",
       "      <td>0.049582</td>\n",
       "      <td>-1.161489</td>\n",
       "      <td>-0.293990</td>\n",
       "      <td>one</td>\n",
       "    </tr>\n",
       "    <tr>\n",
       "      <th>2013-01-02</th>\n",
       "      <td>0.978756</td>\n",
       "      <td>0.901375</td>\n",
       "      <td>0.415517</td>\n",
       "      <td>-0.382321</td>\n",
       "      <td>two</td>\n",
       "    </tr>\n",
       "    <tr>\n",
       "      <th>2013-01-03</th>\n",
       "      <td>0.795442</td>\n",
       "      <td>-0.958289</td>\n",
       "      <td>0.666666</td>\n",
       "      <td>0.416366</td>\n",
       "      <td>three</td>\n",
       "    </tr>\n",
       "    <tr>\n",
       "      <th>2013-01-04</th>\n",
       "      <td>0.530126</td>\n",
       "      <td>1.779631</td>\n",
       "      <td>-0.159555</td>\n",
       "      <td>0.088139</td>\n",
       "      <td>four</td>\n",
       "    </tr>\n",
       "    <tr>\n",
       "      <th>2013-01-05</th>\n",
       "      <td>0.616210</td>\n",
       "      <td>-0.335829</td>\n",
       "      <td>-1.176989</td>\n",
       "      <td>0.829282</td>\n",
       "      <td>five</td>\n",
       "    </tr>\n",
       "    <tr>\n",
       "      <th>2013-01-06</th>\n",
       "      <td>0.150710</td>\n",
       "      <td>0.549930</td>\n",
       "      <td>0.638278</td>\n",
       "      <td>1.404480</td>\n",
       "      <td>six</td>\n",
       "    </tr>\n",
       "  </tbody>\n",
       "</table>\n",
       "</div>"
      ],
      "text/plain": [
       "                   A         B         C         D      e\n",
       "2013-01-01 -1.402903  0.049582 -1.161489 -0.293990    one\n",
       "2013-01-02  0.978756  0.901375  0.415517 -0.382321    two\n",
       "2013-01-03  0.795442 -0.958289  0.666666  0.416366  three\n",
       "2013-01-04  0.530126  1.779631 -0.159555  0.088139   four\n",
       "2013-01-05  0.616210 -0.335829 -1.176989  0.829282   five\n",
       "2013-01-06  0.150710  0.549930  0.638278  1.404480    six"
      ]
     },
     "execution_count": 52,
     "metadata": {},
     "output_type": "execute_result"
    }
   ],
   "source": [
    "df2[\"e\"] = [\"one\",'two',\"three\",\"four\",\"five\",\"six\"]\n",
    "df2"
   ]
  },
  {
   "cell_type": "code",
   "execution_count": 53,
   "metadata": {},
   "outputs": [
    {
     "data": {
      "text/html": [
       "<div>\n",
       "<style scoped>\n",
       "    .dataframe tbody tr th:only-of-type {\n",
       "        vertical-align: middle;\n",
       "    }\n",
       "\n",
       "    .dataframe tbody tr th {\n",
       "        vertical-align: top;\n",
       "    }\n",
       "\n",
       "    .dataframe thead th {\n",
       "        text-align: right;\n",
       "    }\n",
       "</style>\n",
       "<table border=\"1\" class=\"dataframe\">\n",
       "  <thead>\n",
       "    <tr style=\"text-align: right;\">\n",
       "      <th></th>\n",
       "      <th>A</th>\n",
       "      <th>B</th>\n",
       "      <th>C</th>\n",
       "      <th>D</th>\n",
       "      <th>e</th>\n",
       "    </tr>\n",
       "  </thead>\n",
       "  <tbody>\n",
       "    <tr>\n",
       "      <th>2013-01-01</th>\n",
       "      <td>-1.402903</td>\n",
       "      <td>0.049582</td>\n",
       "      <td>-1.161489</td>\n",
       "      <td>-0.293990</td>\n",
       "      <td>one</td>\n",
       "    </tr>\n",
       "    <tr>\n",
       "      <th>2013-01-03</th>\n",
       "      <td>0.795442</td>\n",
       "      <td>-0.958289</td>\n",
       "      <td>0.666666</td>\n",
       "      <td>0.416366</td>\n",
       "      <td>three</td>\n",
       "    </tr>\n",
       "    <tr>\n",
       "      <th>2013-01-05</th>\n",
       "      <td>0.616210</td>\n",
       "      <td>-0.335829</td>\n",
       "      <td>-1.176989</td>\n",
       "      <td>0.829282</td>\n",
       "      <td>five</td>\n",
       "    </tr>\n",
       "  </tbody>\n",
       "</table>\n",
       "</div>"
      ],
      "text/plain": [
       "                   A         B         C         D      e\n",
       "2013-01-01 -1.402903  0.049582 -1.161489 -0.293990    one\n",
       "2013-01-03  0.795442 -0.958289  0.666666  0.416366  three\n",
       "2013-01-05  0.616210 -0.335829 -1.176989  0.829282   five"
      ]
     },
     "execution_count": 53,
     "metadata": {},
     "output_type": "execute_result"
    }
   ],
   "source": [
    "df2[df2[\"e\"].isin([\"one\",\"three\",\"five\"])]"
   ]
  },
  {
   "cell_type": "markdown",
   "metadata": {},
   "source": [
    "### 设定数据的值"
   ]
  },
  {
   "cell_type": "code",
   "execution_count": 72,
   "metadata": {},
   "outputs": [
    {
     "data": {
      "text/plain": [
       "2013-01-01    1\n",
       "2013-01-02    2\n",
       "2013-01-03    3\n",
       "2013-01-04    4\n",
       "2013-01-05    5\n",
       "2013-01-06    6\n",
       "Freq: D, dtype: int64"
      ]
     },
     "execution_count": 72,
     "metadata": {},
     "output_type": "execute_result"
    }
   ],
   "source": [
    "s1 = pd.Series([1,2,3,4,5,6],index=pd.date_range(\"20130101\",periods=6))\n",
    "s1"
   ]
  },
  {
   "cell_type": "code",
   "execution_count": 73,
   "metadata": {},
   "outputs": [
    {
     "data": {
      "text/html": [
       "<div>\n",
       "<style scoped>\n",
       "    .dataframe tbody tr th:only-of-type {\n",
       "        vertical-align: middle;\n",
       "    }\n",
       "\n",
       "    .dataframe tbody tr th {\n",
       "        vertical-align: top;\n",
       "    }\n",
       "\n",
       "    .dataframe thead th {\n",
       "        text-align: right;\n",
       "    }\n",
       "</style>\n",
       "<table border=\"1\" class=\"dataframe\">\n",
       "  <thead>\n",
       "    <tr style=\"text-align: right;\">\n",
       "      <th></th>\n",
       "      <th>A</th>\n",
       "      <th>B</th>\n",
       "      <th>C</th>\n",
       "      <th>D</th>\n",
       "    </tr>\n",
       "  </thead>\n",
       "  <tbody>\n",
       "    <tr>\n",
       "      <th>2013-01-01</th>\n",
       "      <td>0.267376</td>\n",
       "      <td>0.585746</td>\n",
       "      <td>-0.196869</td>\n",
       "      <td>0.768682</td>\n",
       "    </tr>\n",
       "    <tr>\n",
       "      <th>2013-01-02</th>\n",
       "      <td>-0.822315</td>\n",
       "      <td>0.075991</td>\n",
       "      <td>-1.817137</td>\n",
       "      <td>-1.198938</td>\n",
       "    </tr>\n",
       "    <tr>\n",
       "      <th>2013-01-03</th>\n",
       "      <td>0.960549</td>\n",
       "      <td>-0.501705</td>\n",
       "      <td>-0.738993</td>\n",
       "      <td>0.691028</td>\n",
       "    </tr>\n",
       "    <tr>\n",
       "      <th>2013-01-04</th>\n",
       "      <td>1.114202</td>\n",
       "      <td>0.533635</td>\n",
       "      <td>-1.448454</td>\n",
       "      <td>-0.518114</td>\n",
       "    </tr>\n",
       "    <tr>\n",
       "      <th>2013-01-05</th>\n",
       "      <td>1.537865</td>\n",
       "      <td>-0.439014</td>\n",
       "      <td>-0.923585</td>\n",
       "      <td>-1.232224</td>\n",
       "    </tr>\n",
       "    <tr>\n",
       "      <th>2013-01-06</th>\n",
       "      <td>-0.448290</td>\n",
       "      <td>0.576860</td>\n",
       "      <td>0.673624</td>\n",
       "      <td>0.234582</td>\n",
       "    </tr>\n",
       "  </tbody>\n",
       "</table>\n",
       "</div>"
      ],
      "text/plain": [
       "                   A         B         C         D\n",
       "2013-01-01  0.267376  0.585746 -0.196869  0.768682\n",
       "2013-01-02 -0.822315  0.075991 -1.817137 -1.198938\n",
       "2013-01-03  0.960549 -0.501705 -0.738993  0.691028\n",
       "2013-01-04  1.114202  0.533635 -1.448454 -0.518114\n",
       "2013-01-05  1.537865 -0.439014 -0.923585 -1.232224\n",
       "2013-01-06 -0.448290  0.576860  0.673624  0.234582"
      ]
     },
     "execution_count": 73,
     "metadata": {},
     "output_type": "execute_result"
    }
   ],
   "source": [
    "df"
   ]
  },
  {
   "cell_type": "code",
   "execution_count": 74,
   "metadata": {},
   "outputs": [
    {
     "data": {
      "text/html": [
       "<div>\n",
       "<style scoped>\n",
       "    .dataframe tbody tr th:only-of-type {\n",
       "        vertical-align: middle;\n",
       "    }\n",
       "\n",
       "    .dataframe tbody tr th {\n",
       "        vertical-align: top;\n",
       "    }\n",
       "\n",
       "    .dataframe thead th {\n",
       "        text-align: right;\n",
       "    }\n",
       "</style>\n",
       "<table border=\"1\" class=\"dataframe\">\n",
       "  <thead>\n",
       "    <tr style=\"text-align: right;\">\n",
       "      <th></th>\n",
       "      <th>A</th>\n",
       "      <th>B</th>\n",
       "      <th>C</th>\n",
       "      <th>D</th>\n",
       "      <th>F</th>\n",
       "    </tr>\n",
       "  </thead>\n",
       "  <tbody>\n",
       "    <tr>\n",
       "      <th>2013-01-01</th>\n",
       "      <td>0.267376</td>\n",
       "      <td>0.585746</td>\n",
       "      <td>-0.196869</td>\n",
       "      <td>0.768682</td>\n",
       "      <td>1</td>\n",
       "    </tr>\n",
       "    <tr>\n",
       "      <th>2013-01-02</th>\n",
       "      <td>-0.822315</td>\n",
       "      <td>0.075991</td>\n",
       "      <td>-1.817137</td>\n",
       "      <td>-1.198938</td>\n",
       "      <td>2</td>\n",
       "    </tr>\n",
       "    <tr>\n",
       "      <th>2013-01-03</th>\n",
       "      <td>0.960549</td>\n",
       "      <td>-0.501705</td>\n",
       "      <td>-0.738993</td>\n",
       "      <td>0.691028</td>\n",
       "      <td>3</td>\n",
       "    </tr>\n",
       "    <tr>\n",
       "      <th>2013-01-04</th>\n",
       "      <td>1.114202</td>\n",
       "      <td>0.533635</td>\n",
       "      <td>-1.448454</td>\n",
       "      <td>-0.518114</td>\n",
       "      <td>4</td>\n",
       "    </tr>\n",
       "    <tr>\n",
       "      <th>2013-01-05</th>\n",
       "      <td>1.537865</td>\n",
       "      <td>-0.439014</td>\n",
       "      <td>-0.923585</td>\n",
       "      <td>-1.232224</td>\n",
       "      <td>5</td>\n",
       "    </tr>\n",
       "    <tr>\n",
       "      <th>2013-01-06</th>\n",
       "      <td>-0.448290</td>\n",
       "      <td>0.576860</td>\n",
       "      <td>0.673624</td>\n",
       "      <td>0.234582</td>\n",
       "      <td>6</td>\n",
       "    </tr>\n",
       "  </tbody>\n",
       "</table>\n",
       "</div>"
      ],
      "text/plain": [
       "                   A         B         C         D  F\n",
       "2013-01-01  0.267376  0.585746 -0.196869  0.768682  1\n",
       "2013-01-02 -0.822315  0.075991 -1.817137 -1.198938  2\n",
       "2013-01-03  0.960549 -0.501705 -0.738993  0.691028  3\n",
       "2013-01-04  1.114202  0.533635 -1.448454 -0.518114  4\n",
       "2013-01-05  1.537865 -0.439014 -0.923585 -1.232224  5\n",
       "2013-01-06 -0.448290  0.576860  0.673624  0.234582  6"
      ]
     },
     "execution_count": 74,
     "metadata": {},
     "output_type": "execute_result"
    }
   ],
   "source": [
    "df[\"F\"] = s1\n",
    "df"
   ]
  },
  {
   "cell_type": "markdown",
   "metadata": {},
   "source": [
    "使用 at 或者 iat 修改单个值"
   ]
  },
  {
   "cell_type": "code",
   "execution_count": 75,
   "metadata": {},
   "outputs": [
    {
     "data": {
      "text/html": [
       "<div>\n",
       "<style scoped>\n",
       "    .dataframe tbody tr th:only-of-type {\n",
       "        vertical-align: middle;\n",
       "    }\n",
       "\n",
       "    .dataframe tbody tr th {\n",
       "        vertical-align: top;\n",
       "    }\n",
       "\n",
       "    .dataframe thead th {\n",
       "        text-align: right;\n",
       "    }\n",
       "</style>\n",
       "<table border=\"1\" class=\"dataframe\">\n",
       "  <thead>\n",
       "    <tr style=\"text-align: right;\">\n",
       "      <th></th>\n",
       "      <th>A</th>\n",
       "      <th>B</th>\n",
       "      <th>C</th>\n",
       "      <th>D</th>\n",
       "      <th>F</th>\n",
       "    </tr>\n",
       "  </thead>\n",
       "  <tbody>\n",
       "    <tr>\n",
       "      <th>2013-01-01</th>\n",
       "      <td>0.267376</td>\n",
       "      <td>0.585746</td>\n",
       "      <td>-0.196869</td>\n",
       "      <td>0.768682</td>\n",
       "      <td>1</td>\n",
       "    </tr>\n",
       "    <tr>\n",
       "      <th>2013-01-02</th>\n",
       "      <td>-0.822315</td>\n",
       "      <td>0.075991</td>\n",
       "      <td>-1.817137</td>\n",
       "      <td>-1.198938</td>\n",
       "      <td>2</td>\n",
       "    </tr>\n",
       "    <tr>\n",
       "      <th>2013-01-03</th>\n",
       "      <td>0.960549</td>\n",
       "      <td>-0.501705</td>\n",
       "      <td>-0.738993</td>\n",
       "      <td>0.691028</td>\n",
       "      <td>3</td>\n",
       "    </tr>\n",
       "    <tr>\n",
       "      <th>2013-01-04</th>\n",
       "      <td>1.114202</td>\n",
       "      <td>0.533635</td>\n",
       "      <td>-1.448454</td>\n",
       "      <td>-0.518114</td>\n",
       "      <td>8</td>\n",
       "    </tr>\n",
       "    <tr>\n",
       "      <th>2013-01-05</th>\n",
       "      <td>1.537865</td>\n",
       "      <td>-0.439014</td>\n",
       "      <td>-0.923585</td>\n",
       "      <td>-1.232224</td>\n",
       "      <td>5</td>\n",
       "    </tr>\n",
       "    <tr>\n",
       "      <th>2013-01-06</th>\n",
       "      <td>-0.448290</td>\n",
       "      <td>0.576860</td>\n",
       "      <td>0.673624</td>\n",
       "      <td>0.234582</td>\n",
       "      <td>6</td>\n",
       "    </tr>\n",
       "  </tbody>\n",
       "</table>\n",
       "</div>"
      ],
      "text/plain": [
       "                   A         B         C         D  F\n",
       "2013-01-01  0.267376  0.585746 -0.196869  0.768682  1\n",
       "2013-01-02 -0.822315  0.075991 -1.817137 -1.198938  2\n",
       "2013-01-03  0.960549 -0.501705 -0.738993  0.691028  3\n",
       "2013-01-04  1.114202  0.533635 -1.448454 -0.518114  8\n",
       "2013-01-05  1.537865 -0.439014 -0.923585 -1.232224  5\n",
       "2013-01-06 -0.448290  0.576860  0.673624  0.234582  6"
      ]
     },
     "execution_count": 75,
     "metadata": {},
     "output_type": "execute_result"
    }
   ],
   "source": [
    "df.iloc[3,-1] = 8\n",
    "df"
   ]
  },
  {
   "cell_type": "code",
   "execution_count": 76,
   "metadata": {},
   "outputs": [
    {
     "data": {
      "text/html": [
       "<div>\n",
       "<style scoped>\n",
       "    .dataframe tbody tr th:only-of-type {\n",
       "        vertical-align: middle;\n",
       "    }\n",
       "\n",
       "    .dataframe tbody tr th {\n",
       "        vertical-align: top;\n",
       "    }\n",
       "\n",
       "    .dataframe thead th {\n",
       "        text-align: right;\n",
       "    }\n",
       "</style>\n",
       "<table border=\"1\" class=\"dataframe\">\n",
       "  <thead>\n",
       "    <tr style=\"text-align: right;\">\n",
       "      <th></th>\n",
       "      <th>A</th>\n",
       "      <th>B</th>\n",
       "      <th>C</th>\n",
       "      <th>D</th>\n",
       "      <th>F</th>\n",
       "    </tr>\n",
       "  </thead>\n",
       "  <tbody>\n",
       "    <tr>\n",
       "      <th>2013-01-01</th>\n",
       "      <td>0.267376</td>\n",
       "      <td>0.585746</td>\n",
       "      <td>-0.196869</td>\n",
       "      <td>0.768682</td>\n",
       "      <td>1</td>\n",
       "    </tr>\n",
       "    <tr>\n",
       "      <th>2013-01-02</th>\n",
       "      <td>-0.822315</td>\n",
       "      <td>0.075991</td>\n",
       "      <td>-1.817137</td>\n",
       "      <td>-1.198938</td>\n",
       "      <td>2</td>\n",
       "    </tr>\n",
       "    <tr>\n",
       "      <th>2013-01-03</th>\n",
       "      <td>0.960549</td>\n",
       "      <td>-0.501705</td>\n",
       "      <td>-0.738993</td>\n",
       "      <td>0.691028</td>\n",
       "      <td>3</td>\n",
       "    </tr>\n",
       "    <tr>\n",
       "      <th>2013-01-04</th>\n",
       "      <td>1.114202</td>\n",
       "      <td>0.533635</td>\n",
       "      <td>-1.448454</td>\n",
       "      <td>-0.518114</td>\n",
       "      <td>9</td>\n",
       "    </tr>\n",
       "    <tr>\n",
       "      <th>2013-01-05</th>\n",
       "      <td>1.537865</td>\n",
       "      <td>-0.439014</td>\n",
       "      <td>-0.923585</td>\n",
       "      <td>-1.232224</td>\n",
       "      <td>5</td>\n",
       "    </tr>\n",
       "    <tr>\n",
       "      <th>2013-01-06</th>\n",
       "      <td>-0.448290</td>\n",
       "      <td>0.576860</td>\n",
       "      <td>0.673624</td>\n",
       "      <td>0.234582</td>\n",
       "      <td>6</td>\n",
       "    </tr>\n",
       "  </tbody>\n",
       "</table>\n",
       "</div>"
      ],
      "text/plain": [
       "                   A         B         C         D  F\n",
       "2013-01-01  0.267376  0.585746 -0.196869  0.768682  1\n",
       "2013-01-02 -0.822315  0.075991 -1.817137 -1.198938  2\n",
       "2013-01-03  0.960549 -0.501705 -0.738993  0.691028  3\n",
       "2013-01-04  1.114202  0.533635 -1.448454 -0.518114  9\n",
       "2013-01-05  1.537865 -0.439014 -0.923585 -1.232224  5\n",
       "2013-01-06 -0.448290  0.576860  0.673624  0.234582  6"
      ]
     },
     "execution_count": 76,
     "metadata": {},
     "output_type": "execute_result"
    }
   ],
   "source": [
    "df.at[dates[3],\"F\"] = 9\n",
    "df"
   ]
  },
  {
   "cell_type": "markdown",
   "metadata": {},
   "source": [
    "### 计算操作"
   ]
  },
  {
   "cell_type": "markdown",
   "metadata": {},
   "source": [
    "每一列的均值 (默认都是计算列)"
   ]
  },
  {
   "cell_type": "code",
   "execution_count": 78,
   "metadata": {},
   "outputs": [
    {
     "data": {
      "text/html": [
       "<div>\n",
       "<style scoped>\n",
       "    .dataframe tbody tr th:only-of-type {\n",
       "        vertical-align: middle;\n",
       "    }\n",
       "\n",
       "    .dataframe tbody tr th {\n",
       "        vertical-align: top;\n",
       "    }\n",
       "\n",
       "    .dataframe thead th {\n",
       "        text-align: right;\n",
       "    }\n",
       "</style>\n",
       "<table border=\"1\" class=\"dataframe\">\n",
       "  <thead>\n",
       "    <tr style=\"text-align: right;\">\n",
       "      <th></th>\n",
       "      <th>A</th>\n",
       "      <th>B</th>\n",
       "      <th>C</th>\n",
       "      <th>D</th>\n",
       "      <th>F</th>\n",
       "    </tr>\n",
       "  </thead>\n",
       "  <tbody>\n",
       "    <tr>\n",
       "      <th>2013-01-01</th>\n",
       "      <td>0.267376</td>\n",
       "      <td>0.585746</td>\n",
       "      <td>-0.196869</td>\n",
       "      <td>0.768682</td>\n",
       "      <td>1</td>\n",
       "    </tr>\n",
       "    <tr>\n",
       "      <th>2013-01-02</th>\n",
       "      <td>-0.822315</td>\n",
       "      <td>0.075991</td>\n",
       "      <td>-1.817137</td>\n",
       "      <td>-1.198938</td>\n",
       "      <td>2</td>\n",
       "    </tr>\n",
       "    <tr>\n",
       "      <th>2013-01-03</th>\n",
       "      <td>0.960549</td>\n",
       "      <td>-0.501705</td>\n",
       "      <td>-0.738993</td>\n",
       "      <td>0.691028</td>\n",
       "      <td>3</td>\n",
       "    </tr>\n",
       "    <tr>\n",
       "      <th>2013-01-04</th>\n",
       "      <td>1.114202</td>\n",
       "      <td>0.533635</td>\n",
       "      <td>-1.448454</td>\n",
       "      <td>-0.518114</td>\n",
       "      <td>9</td>\n",
       "    </tr>\n",
       "    <tr>\n",
       "      <th>2013-01-05</th>\n",
       "      <td>1.537865</td>\n",
       "      <td>-0.439014</td>\n",
       "      <td>-0.923585</td>\n",
       "      <td>-1.232224</td>\n",
       "      <td>5</td>\n",
       "    </tr>\n",
       "    <tr>\n",
       "      <th>2013-01-06</th>\n",
       "      <td>-0.448290</td>\n",
       "      <td>0.576860</td>\n",
       "      <td>0.673624</td>\n",
       "      <td>0.234582</td>\n",
       "      <td>6</td>\n",
       "    </tr>\n",
       "  </tbody>\n",
       "</table>\n",
       "</div>"
      ],
      "text/plain": [
       "                   A         B         C         D  F\n",
       "2013-01-01  0.267376  0.585746 -0.196869  0.768682  1\n",
       "2013-01-02 -0.822315  0.075991 -1.817137 -1.198938  2\n",
       "2013-01-03  0.960549 -0.501705 -0.738993  0.691028  3\n",
       "2013-01-04  1.114202  0.533635 -1.448454 -0.518114  9\n",
       "2013-01-05  1.537865 -0.439014 -0.923585 -1.232224  5\n",
       "2013-01-06 -0.448290  0.576860  0.673624  0.234582  6"
      ]
     },
     "execution_count": 78,
     "metadata": {},
     "output_type": "execute_result"
    }
   ],
   "source": [
    "df"
   ]
  },
  {
   "cell_type": "code",
   "execution_count": 77,
   "metadata": {},
   "outputs": [
    {
     "data": {
      "text/plain": [
       "A    0.434898\n",
       "B    0.138586\n",
       "C   -0.741903\n",
       "D   -0.209164\n",
       "F    4.333333\n",
       "dtype: float64"
      ]
     },
     "execution_count": 77,
     "metadata": {},
     "output_type": "execute_result"
    }
   ],
   "source": [
    "df.mean()"
   ]
  },
  {
   "cell_type": "code",
   "execution_count": 79,
   "metadata": {},
   "outputs": [
    {
     "data": {
      "text/plain": [
       "2013-01-01    0.484987\n",
       "2013-01-02   -0.352480\n",
       "2013-01-03    0.682176\n",
       "2013-01-04    1.736254\n",
       "2013-01-05    0.788608\n",
       "2013-01-06    1.407355\n",
       "Freq: D, dtype: float64"
      ]
     },
     "execution_count": 79,
     "metadata": {},
     "output_type": "execute_result"
    }
   ],
   "source": [
    "df.mean(axis=1)"
   ]
  },
  {
   "cell_type": "markdown",
   "metadata": {},
   "source": [
    "### 合并操作"
   ]
  },
  {
   "cell_type": "markdown",
   "metadata": {},
   "source": [
    "#### 连接 "
   ]
  },
  {
   "cell_type": "code",
   "execution_count": 80,
   "metadata": {},
   "outputs": [],
   "source": [
    "df = pd.DataFrame(np.random.randn(10,4))"
   ]
  },
  {
   "cell_type": "code",
   "execution_count": 81,
   "metadata": {},
   "outputs": [
    {
     "data": {
      "text/html": [
       "<div>\n",
       "<style scoped>\n",
       "    .dataframe tbody tr th:only-of-type {\n",
       "        vertical-align: middle;\n",
       "    }\n",
       "\n",
       "    .dataframe tbody tr th {\n",
       "        vertical-align: top;\n",
       "    }\n",
       "\n",
       "    .dataframe thead th {\n",
       "        text-align: right;\n",
       "    }\n",
       "</style>\n",
       "<table border=\"1\" class=\"dataframe\">\n",
       "  <thead>\n",
       "    <tr style=\"text-align: right;\">\n",
       "      <th></th>\n",
       "      <th>0</th>\n",
       "      <th>1</th>\n",
       "      <th>2</th>\n",
       "      <th>3</th>\n",
       "    </tr>\n",
       "  </thead>\n",
       "  <tbody>\n",
       "    <tr>\n",
       "      <th>0</th>\n",
       "      <td>2.093371</td>\n",
       "      <td>-1.183039</td>\n",
       "      <td>-1.679281</td>\n",
       "      <td>0.744866</td>\n",
       "    </tr>\n",
       "    <tr>\n",
       "      <th>1</th>\n",
       "      <td>-0.323036</td>\n",
       "      <td>-1.354895</td>\n",
       "      <td>0.102618</td>\n",
       "      <td>-0.939632</td>\n",
       "    </tr>\n",
       "    <tr>\n",
       "      <th>2</th>\n",
       "      <td>0.436840</td>\n",
       "      <td>-1.580573</td>\n",
       "      <td>-2.005263</td>\n",
       "      <td>0.405665</td>\n",
       "    </tr>\n",
       "    <tr>\n",
       "      <th>3</th>\n",
       "      <td>0.615940</td>\n",
       "      <td>-0.270600</td>\n",
       "      <td>0.290599</td>\n",
       "      <td>0.884160</td>\n",
       "    </tr>\n",
       "    <tr>\n",
       "      <th>4</th>\n",
       "      <td>-0.946919</td>\n",
       "      <td>-0.046095</td>\n",
       "      <td>-0.126125</td>\n",
       "      <td>-0.877174</td>\n",
       "    </tr>\n",
       "    <tr>\n",
       "      <th>5</th>\n",
       "      <td>0.072182</td>\n",
       "      <td>0.347970</td>\n",
       "      <td>0.341761</td>\n",
       "      <td>0.161080</td>\n",
       "    </tr>\n",
       "    <tr>\n",
       "      <th>6</th>\n",
       "      <td>-2.140098</td>\n",
       "      <td>1.969601</td>\n",
       "      <td>0.198088</td>\n",
       "      <td>1.728177</td>\n",
       "    </tr>\n",
       "    <tr>\n",
       "      <th>7</th>\n",
       "      <td>-1.279760</td>\n",
       "      <td>-1.023959</td>\n",
       "      <td>0.886983</td>\n",
       "      <td>0.672874</td>\n",
       "    </tr>\n",
       "    <tr>\n",
       "      <th>8</th>\n",
       "      <td>1.377893</td>\n",
       "      <td>0.352543</td>\n",
       "      <td>-0.162299</td>\n",
       "      <td>-0.334775</td>\n",
       "    </tr>\n",
       "    <tr>\n",
       "      <th>9</th>\n",
       "      <td>1.147310</td>\n",
       "      <td>1.409547</td>\n",
       "      <td>-0.474375</td>\n",
       "      <td>-0.284018</td>\n",
       "    </tr>\n",
       "  </tbody>\n",
       "</table>\n",
       "</div>"
      ],
      "text/plain": [
       "          0         1         2         3\n",
       "0  2.093371 -1.183039 -1.679281  0.744866\n",
       "1 -0.323036 -1.354895  0.102618 -0.939632\n",
       "2  0.436840 -1.580573 -2.005263  0.405665\n",
       "3  0.615940 -0.270600  0.290599  0.884160\n",
       "4 -0.946919 -0.046095 -0.126125 -0.877174\n",
       "5  0.072182  0.347970  0.341761  0.161080\n",
       "6 -2.140098  1.969601  0.198088  1.728177\n",
       "7 -1.279760 -1.023959  0.886983  0.672874\n",
       "8  1.377893  0.352543 -0.162299 -0.334775\n",
       "9  1.147310  1.409547 -0.474375 -0.284018"
      ]
     },
     "execution_count": 81,
     "metadata": {},
     "output_type": "execute_result"
    }
   ],
   "source": [
    "df"
   ]
  },
  {
   "cell_type": "code",
   "execution_count": null,
   "metadata": {},
   "outputs": [],
   "source": []
  }
 ],
 "metadata": {
  "kernelspec": {
   "display_name": "ml",
   "language": "python",
   "name": "python3"
  },
  "language_info": {
   "codemirror_mode": {
    "name": "ipython",
    "version": 3
   },
   "file_extension": ".py",
   "mimetype": "text/x-python",
   "name": "python",
   "nbconvert_exporter": "python",
   "pygments_lexer": "ipython3",
   "version": "3.8.18"
  }
 },
 "nbformat": 4,
 "nbformat_minor": 2
}
